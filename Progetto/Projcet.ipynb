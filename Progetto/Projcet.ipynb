{
 "cells": [
  {
   "cell_type": "code",
   "execution_count": 1,
   "metadata": {},
   "outputs": [
    {
     "name": "stdout",
     "output_type": "stream",
     "text": [
      "C:\\Users\\Riccardo\\Documents\\GitHub\\DWM-Project\\Progetto\n"
     ]
    }
   ],
   "source": [
    "import os\n",
    "print(os.getcwd())"
   ]
  },
  {
   "cell_type": "code",
   "execution_count": 2,
   "metadata": {
    "scrolled": true
   },
   "outputs": [],
   "source": [
    "import pandas as pd \n",
    "data = pd.read_csv(\"train.csv\")\n"
   ]
  },
  {
   "cell_type": "code",
   "execution_count": 3,
   "metadata": {},
   "outputs": [
    {
     "name": "stdout",
     "output_type": "stream",
     "text": [
      "data.shape: (3000, 23)\n",
      "data.index: RangeIndex(start=0, stop=3000, step=1)\n",
      "data.columns: Index(['id', 'belongs_to_collection', 'budget', 'genres', 'homepage',\n",
      "       'imdb_id', 'original_language', 'original_title', 'overview',\n",
      "       'popularity', 'poster_path', 'production_companies',\n",
      "       'production_countries', 'release_date', 'runtime', 'spoken_languages',\n",
      "       'status', 'tagline', 'title', 'Keywords', 'cast', 'crew', 'revenue'],\n",
      "      dtype='object')\n"
     ]
    }
   ],
   "source": [
    "print(\"data.shape:\", data.shape)\n",
    "print(\"data.index:\", data.index)\n",
    "print(\"data.columns:\", data.columns)"
   ]
  },
  {
   "cell_type": "code",
   "execution_count": 4,
   "metadata": {},
   "outputs": [],
   "source": [
    "data.drop(['homepage'],axis=1,inplace=True)"
   ]
  },
  {
   "cell_type": "markdown",
   "metadata": {},
   "source": [
    "### data[\"genres\"]"
   ]
  },
  {
   "cell_type": "code",
   "execution_count": 5,
   "metadata": {},
   "outputs": [
    {
     "data": {
      "text/plain": [
       "id                          0\n",
       "belongs_to_collection    2396\n",
       "budget                      0\n",
       "genres                      7\n",
       "imdb_id                     0\n",
       "original_language           0\n",
       "original_title              0\n",
       "overview                    8\n",
       "popularity                  0\n",
       "poster_path                 1\n",
       "production_companies      156\n",
       "production_countries       55\n",
       "release_date                0\n",
       "runtime                     2\n",
       "spoken_languages           20\n",
       "status                      0\n",
       "tagline                   597\n",
       "title                       0\n",
       "Keywords                  276\n",
       "cast                       13\n",
       "crew                       16\n",
       "revenue                     0\n",
       "dtype: int64"
      ]
     },
     "execution_count": 5,
     "metadata": {},
     "output_type": "execute_result"
    }
   ],
   "source": [
    "data.isna().sum()"
   ]
  },
  {
   "cell_type": "code",
   "execution_count": 6,
   "metadata": {},
   "outputs": [],
   "source": [
    "def convertAll():\n",
    "    import math\n",
    "    import datetime\n",
    "\n",
    "    data[\"release_date\"] = pd.to_datetime(data[\"release_date\"])\n",
    "    #fix della data in quanto ci sono date che superano il 2021\n",
    "    i=0\n",
    "    maxDate = datetime.datetime(2020, 1, 1)\n",
    "    n_elem = data.shape[0]\n",
    "    while i<n_elem:\n",
    "        if data['release_date'][i]>maxDate:\n",
    "            new_year=(data['release_date'][i].year)-100\n",
    "            new_date = datetime.datetime(new_year, data['release_date'][i].month, data['release_date'][i].day, 0, 0, 0)\n",
    "            data['release_date'][i] = new_date\n",
    "        i+=1\n",
    "    i=0\n",
    "    n_elem = data.shape[0]\n",
    "    while i<n_elem:\n",
    "        if isinstance(data[\"genres\"][i], float):\n",
    "            if math.isnan(data[\"genres\"][i]):\n",
    "                i+=1\n",
    "                continue\n",
    "        data[\"genres\"][i]=eval(data[\"genres\"][i]) \n",
    "        i+=1\n",
    "    \n",
    "    i=0\n",
    "    while i<n_elem:\n",
    "        if isinstance(data[\"production_countries\"][i], float):\n",
    "            if math.isnan(data[\"production_countries\"][i]):\n",
    "                i+=1\n",
    "                continue\n",
    "        data[\"production_countries\"][i]=eval(data[\"production_countries\"][i]) \n",
    "        i+=1\n",
    "    \n",
    "    i=0\n",
    "    while i<n_elem:\n",
    "        if isinstance(data[\"spoken_languages\"][i], float):\n",
    "            if math.isnan(data[\"spoken_languages\"][i]):\n",
    "                i+=1\n",
    "                continue\n",
    "        data[\"spoken_languages\"][i]=eval(data[\"spoken_languages\"][i]) \n",
    "        i+=1\n",
    "    \n",
    "    i=0\n",
    "    while i<n_elem:\n",
    "        if isinstance(data[\"Keywords\"][i], float):\n",
    "            if math.isnan(data[\"Keywords\"][i]):\n",
    "                i+=1\n",
    "                continue\n",
    "        data[\"Keywords\"][i]=eval(data[\"Keywords\"][i]) \n",
    "        i+=1\n",
    "    \n",
    "    i=0\n",
    "    while i<n_elem:\n",
    "        if isinstance(data[\"cast\"][i], float):\n",
    "            if math.isnan(data[\"cast\"][i]):\n",
    "                i+=1\n",
    "                continue\n",
    "        data[\"cast\"][i]=eval(data[\"cast\"][i]) \n",
    "        i+=1\n",
    "\n",
    "    i=0\n",
    "    while i<n_elem:\n",
    "        if isinstance(data[\"crew\"][i], float):\n",
    "            if math.isnan(data[\"crew\"][i]):\n",
    "                i+=1\n",
    "                continue\n",
    "        data[\"crew\"][i]=eval(data[\"crew\"][i]) \n",
    "        i+=1\n",
    "\n",
    "    i=0\n",
    "    while i<n_elem:\n",
    "        if isinstance(data[\"production_companies\"][i], float):\n",
    "            if math.isnan(data[\"production_companies\"][i]):\n",
    "                i+=1\n",
    "                continue\n",
    "        data[\"production_companies\"][i]=eval(data[\"production_companies\"][i])\n",
    "        i+=1\n"
   ]
  },
  {
   "cell_type": "code",
   "execution_count": 21,
   "metadata": {
    "scrolled": false
   },
   "outputs": [
    {
     "name": "stderr",
     "output_type": "stream",
     "text": [
<<<<<<< HEAD
      "<ipython-input-20-1ae77e7ce95a>:14: SettingWithCopyWarning: \n",
=======
      "<ipython-input-6-1ae77e7ce95a>:14: SettingWithCopyWarning: \n",
>>>>>>> parent of 6912994 (Working on knn)
      "A value is trying to be set on a copy of a slice from a DataFrame\n",
      "\n",
      "See the caveats in the documentation: https://pandas.pydata.org/pandas-docs/stable/user_guide/indexing.html#returning-a-view-versus-a-copy\n",
      "  data['release_date'][i] = new_date\n",
<<<<<<< HEAD
      "<ipython-input-20-1ae77e7ce95a>:23: SettingWithCopyWarning: \n",
=======
      "<ipython-input-6-1ae77e7ce95a>:23: SettingWithCopyWarning: \n",
>>>>>>> parent of 6912994 (Working on knn)
      "A value is trying to be set on a copy of a slice from a DataFrame\n",
      "\n",
      "See the caveats in the documentation: https://pandas.pydata.org/pandas-docs/stable/user_guide/indexing.html#returning-a-view-versus-a-copy\n",
      "  data[\"genres\"][i]=eval(data[\"genres\"][i])\n",
<<<<<<< HEAD
      "<ipython-input-20-1ae77e7ce95a>:32: SettingWithCopyWarning: \n",
=======
      "<ipython-input-6-1ae77e7ce95a>:32: SettingWithCopyWarning: \n",
>>>>>>> parent of 6912994 (Working on knn)
      "A value is trying to be set on a copy of a slice from a DataFrame\n",
      "\n",
      "See the caveats in the documentation: https://pandas.pydata.org/pandas-docs/stable/user_guide/indexing.html#returning-a-view-versus-a-copy\n",
      "  data[\"production_countries\"][i]=eval(data[\"production_countries\"][i])\n",
<<<<<<< HEAD
      "<ipython-input-20-1ae77e7ce95a>:41: SettingWithCopyWarning: \n",
=======
      "<ipython-input-6-1ae77e7ce95a>:41: SettingWithCopyWarning: \n",
>>>>>>> parent of 6912994 (Working on knn)
      "A value is trying to be set on a copy of a slice from a DataFrame\n",
      "\n",
      "See the caveats in the documentation: https://pandas.pydata.org/pandas-docs/stable/user_guide/indexing.html#returning-a-view-versus-a-copy\n",
      "  data[\"spoken_languages\"][i]=eval(data[\"spoken_languages\"][i])\n",
<<<<<<< HEAD
      "<ipython-input-20-1ae77e7ce95a>:50: SettingWithCopyWarning: \n",
=======
      "<ipython-input-6-1ae77e7ce95a>:50: SettingWithCopyWarning: \n",
>>>>>>> parent of 6912994 (Working on knn)
      "A value is trying to be set on a copy of a slice from a DataFrame\n",
      "\n",
      "See the caveats in the documentation: https://pandas.pydata.org/pandas-docs/stable/user_guide/indexing.html#returning-a-view-versus-a-copy\n",
      "  data[\"Keywords\"][i]=eval(data[\"Keywords\"][i])\n",
<<<<<<< HEAD
      "<ipython-input-20-1ae77e7ce95a>:59: SettingWithCopyWarning: \n",
=======
      "<ipython-input-6-1ae77e7ce95a>:59: SettingWithCopyWarning: \n",
>>>>>>> parent of 6912994 (Working on knn)
      "A value is trying to be set on a copy of a slice from a DataFrame\n",
      "\n",
      "See the caveats in the documentation: https://pandas.pydata.org/pandas-docs/stable/user_guide/indexing.html#returning-a-view-versus-a-copy\n",
      "  data[\"cast\"][i]=eval(data[\"cast\"][i])\n",
<<<<<<< HEAD
      "<ipython-input-20-1ae77e7ce95a>:68: SettingWithCopyWarning: \n",
=======
      "<ipython-input-6-1ae77e7ce95a>:68: SettingWithCopyWarning: \n",
>>>>>>> parent of 6912994 (Working on knn)
      "A value is trying to be set on a copy of a slice from a DataFrame\n",
      "\n",
      "See the caveats in the documentation: https://pandas.pydata.org/pandas-docs/stable/user_guide/indexing.html#returning-a-view-versus-a-copy\n",
      "  data[\"crew\"][i]=eval(data[\"crew\"][i])\n",
<<<<<<< HEAD
      "<ipython-input-20-1ae77e7ce95a>:77: SettingWithCopyWarning: \n",
=======
      "<ipython-input-6-1ae77e7ce95a>:77: SettingWithCopyWarning: \n",
>>>>>>> parent of 6912994 (Working on knn)
      "A value is trying to be set on a copy of a slice from a DataFrame\n",
      "\n",
      "See the caveats in the documentation: https://pandas.pydata.org/pandas-docs/stable/user_guide/indexing.html#returning-a-view-versus-a-copy\n",
      "  data[\"production_companies\"][i]=eval(data[\"production_companies\"][i])\n"
     ]
    }
   ],
   "source": [
    "convertAll()"
   ]
  },
  {
   "cell_type": "code",
   "execution_count": 7,
   "metadata": {},
   "outputs": [],
   "source": [
    "def get_words (data):\n",
    "    import math\n",
    "    descrizioni = []\n",
    "    i=0\n",
    "    while i<1000:\n",
    "        if isinstance(data[\"overview\"][i], float):\n",
    "            if math.isnan(data[\"overview\"][i]):\n",
    "                empty_list=[]\n",
    "                descrizioni += empty_list\n",
    "                i+=1\n",
    "                continue\n",
    "        desc = data[\"overview\"][i]         # this is a string\n",
    "        words = desc.split() # this is a list\n",
    "        words = set(words)     # create a set\n",
    "        descrizioni += [words] # append words to the list\n",
    "        i=i+1\n",
    "    return descrizioni"
   ]
  },
  {
   "cell_type": "code",
   "execution_count": 8,
   "metadata": {},
   "outputs": [
    {
     "name": "stdout",
     "output_type": "stream",
     "text": [
<<<<<<< HEAD
      "{'about', 'alone', 'own', 'at', 'everyone', 'Kolkata', 'on', 'She', 'does', 'Bagchi.', 'soaked', 'begins', 'her', 'arrives', 'from', 'pregnant', 'festive', 'determined', 'With', 'months', 'memories', 'Vidya', 'fragments', 'is', 'dead', 'not', 'when', 'relentless', 'Arnab', 'husband.', 'all', 'and', 'tries', 'seems.', 'reach', 'In', 'city,', 'London', 'life.', 'she', 'of', 'child', 'truth', 'in', 'it', 'unborn', 'what', 'Bagchi', 'missing', 'rely', 'the', 'herself', 'end', 'husband', 'except', 'for', 'cost', 'to', 'him,', '-', 'nothing', 'realises', 'city', 'seem', 'lies,', 'slowly', 'even', 'exist.', 'Balan)', 'a', 'clues', 'unravel', 'convince', 'that', 'find', '(Vidya', 'search', 'Seven'}\n"
=======
      "{'city,', 'dead', 'on', 'festive', 'not', 'lies,', 'husband', 'rely', 'it', 'seems.', 'is', 'memories', '-', 'tries', 'life.', 'unborn', 'own', 'exist.', 'all', 'arrives', 'Kolkata', 'to', 'Vidya', 'except', 'reach', 'that', 'what', 'and', 'Balan)', 'child', 'end', 'pregnant', 'In', 'unravel', 'soaked', 'determined', 'Arnab', 'relentless', 'Bagchi', 'alone', 'London', 'her', 'husband.', 'in', 'With', 'cost', 'a', 'seem', 'missing', 'convince', 'city', 'even', 'slowly', 'from', 'about', 'clues', 'realises', 'at', '(Vidya', 'everyone', 'she', 'months', 'find', 'herself', 'She', 'does', 'truth', 'for', 'him,', 'when', 'search', 'the', 'fragments', 'begins', 'nothing', 'Bagchi.', 'Seven', 'of'}\n"
>>>>>>> parent of 6912994 (Working on knn)
     ]
    }
   ],
   "source": [
    "lyrics_word_split = get_words(data)\n",
    "\n",
    "print ( lyrics_word_split[3] )"
   ]
  },
  {
   "cell_type": "code",
   "execution_count": 9,
   "metadata": {},
   "outputs": [],
   "source": [
    "def jaccard(a,b):\n",
    "    return len(a & b) / len( a | b)"
   ]
  },
  {
   "cell_type": "code",
   "execution_count": 10,
   "metadata": {},
   "outputs": [
    {
     "data": {
      "text/plain": [
       "0.06896551724137931"
      ]
     },
     "execution_count": 10,
     "metadata": {},
     "output_type": "execute_result"
    }
   ],
   "source": [
    "jaccard(lyrics_word_split[0],lyrics_word_split[123])"
   ]
  },
  {
   "cell_type": "code",
   "execution_count": 11,
   "metadata": {},
   "outputs": [],
   "source": [
    "def most_similar_jaccard(film_ricerca, lyrics_word_split):\n",
    "    most_similar_id=1\n",
    "    jaccard_most_similar=jaccard(lyrics_word_split[film_ricerca],lyrics_word_split[2])\n",
    "    list_size=len(lyrics_word_split)\n",
    "    current_id=2\n",
    "    while current_id<list_size:\n",
    "        current_sim=jaccard(lyrics_word_split[film_ricerca],lyrics_word_split[current_id])\n",
    "        if current_sim>jaccard_most_similar:\n",
    "            jaccard_most_similar=current_sim\n",
    "            most_similar_id=current_id\n",
    "        current_id=current_id+1\n",
    "    \n",
    "    return most_similar_id, jaccard_most_similar\n",
    "\n",
    "sim_id, sim_value = most_similar_jaccard(0, lyrics_word_split)"
   ]
  },
  {
   "cell_type": "code",
   "execution_count": 12,
   "metadata": {},
   "outputs": [
    {
     "ename": "IndexError",
     "evalue": "single positional indexer is out-of-bounds",
     "output_type": "error",
     "traceback": [
      "\u001b[1;31m---------------------------------------------------------------------------\u001b[0m",
      "\u001b[1;31mIndexError\u001b[0m                                Traceback (most recent call last)",
<<<<<<< HEAD
      "\u001b[1;32m<ipython-input-12-32af1527f5ce>\u001b[0m in \u001b[0;36m<module>\u001b[1;34m\u001b[0m\n\u001b[0;32m      9\u001b[0m \u001b[1;33m\u001b[0m\u001b[0m\n\u001b[0;32m     10\u001b[0m \u001b[1;31m#https://stackoverflow.com/questions/31593201/how-are-iloc-and-loc-different\u001b[0m\u001b[1;33m\u001b[0m\u001b[1;33m\u001b[0m\u001b[1;33m\u001b[0m\u001b[0m\n\u001b[1;32m---> 11\u001b[1;33m \u001b[0max\u001b[0m\u001b[1;33m.\u001b[0m\u001b[0mscatter\u001b[0m\u001b[1;33m(\u001b[0m\u001b[0mdata\u001b[0m\u001b[1;33m.\u001b[0m\u001b[0miloc\u001b[0m\u001b[1;33m[\u001b[0m\u001b[1;33m:\u001b[0m\u001b[1;33m,\u001b[0m \u001b[1;36m2\u001b[0m\u001b[1;33m]\u001b[0m\u001b[1;33m,\u001b[0m \u001b[0mdata\u001b[0m\u001b[1;33m.\u001b[0m\u001b[0miloc\u001b[0m\u001b[1;33m[\u001b[0m\u001b[1;33m:\u001b[0m\u001b[1;33m,\u001b[0m \u001b[1;36m22\u001b[0m\u001b[1;33m]\u001b[0m\u001b[1;33m)\u001b[0m\u001b[1;33m\u001b[0m\u001b[1;33m\u001b[0m\u001b[0m\n\u001b[0m",
=======
      "\u001b[1;32m<ipython-input-13-32af1527f5ce>\u001b[0m in \u001b[0;36m<module>\u001b[1;34m\u001b[0m\n\u001b[0;32m      9\u001b[0m \u001b[1;33m\u001b[0m\u001b[0m\n\u001b[0;32m     10\u001b[0m \u001b[1;31m#https://stackoverflow.com/questions/31593201/how-are-iloc-and-loc-different\u001b[0m\u001b[1;33m\u001b[0m\u001b[1;33m\u001b[0m\u001b[1;33m\u001b[0m\u001b[0m\n\u001b[1;32m---> 11\u001b[1;33m \u001b[0max\u001b[0m\u001b[1;33m.\u001b[0m\u001b[0mscatter\u001b[0m\u001b[1;33m(\u001b[0m\u001b[0mdata\u001b[0m\u001b[1;33m.\u001b[0m\u001b[0miloc\u001b[0m\u001b[1;33m[\u001b[0m\u001b[1;33m:\u001b[0m\u001b[1;33m,\u001b[0m \u001b[1;36m2\u001b[0m\u001b[1;33m]\u001b[0m\u001b[1;33m,\u001b[0m \u001b[0mdata\u001b[0m\u001b[1;33m.\u001b[0m\u001b[0miloc\u001b[0m\u001b[1;33m[\u001b[0m\u001b[1;33m:\u001b[0m\u001b[1;33m,\u001b[0m \u001b[1;36m22\u001b[0m\u001b[1;33m]\u001b[0m\u001b[1;33m)\u001b[0m\u001b[1;33m\u001b[0m\u001b[1;33m\u001b[0m\u001b[0m\n\u001b[0m",
>>>>>>> parent of 6912994 (Working on knn)
      "\u001b[1;32m~\\anaconda3\\lib\\site-packages\\pandas\\core\\indexing.py\u001b[0m in \u001b[0;36m__getitem__\u001b[1;34m(self, key)\u001b[0m\n\u001b[0;32m    871\u001b[0m                     \u001b[1;31m# AttributeError for IntervalTree get_value\u001b[0m\u001b[1;33m\u001b[0m\u001b[1;33m\u001b[0m\u001b[1;33m\u001b[0m\u001b[0m\n\u001b[0;32m    872\u001b[0m                     \u001b[1;32mpass\u001b[0m\u001b[1;33m\u001b[0m\u001b[1;33m\u001b[0m\u001b[0m\n\u001b[1;32m--> 873\u001b[1;33m             \u001b[1;32mreturn\u001b[0m \u001b[0mself\u001b[0m\u001b[1;33m.\u001b[0m\u001b[0m_getitem_tuple\u001b[0m\u001b[1;33m(\u001b[0m\u001b[0mkey\u001b[0m\u001b[1;33m)\u001b[0m\u001b[1;33m\u001b[0m\u001b[1;33m\u001b[0m\u001b[0m\n\u001b[0m\u001b[0;32m    874\u001b[0m         \u001b[1;32melse\u001b[0m\u001b[1;33m:\u001b[0m\u001b[1;33m\u001b[0m\u001b[1;33m\u001b[0m\u001b[0m\n\u001b[0;32m    875\u001b[0m             \u001b[1;31m# we by definition only have the 0th axis\u001b[0m\u001b[1;33m\u001b[0m\u001b[1;33m\u001b[0m\u001b[1;33m\u001b[0m\u001b[0m\n",
      "\u001b[1;32m~\\anaconda3\\lib\\site-packages\\pandas\\core\\indexing.py\u001b[0m in \u001b[0;36m_getitem_tuple\u001b[1;34m(self, tup)\u001b[0m\n\u001b[0;32m   1441\u001b[0m     \u001b[1;32mdef\u001b[0m \u001b[0m_getitem_tuple\u001b[0m\u001b[1;33m(\u001b[0m\u001b[0mself\u001b[0m\u001b[1;33m,\u001b[0m \u001b[0mtup\u001b[0m\u001b[1;33m:\u001b[0m \u001b[0mTuple\u001b[0m\u001b[1;33m)\u001b[0m\u001b[1;33m:\u001b[0m\u001b[1;33m\u001b[0m\u001b[1;33m\u001b[0m\u001b[0m\n\u001b[0;32m   1442\u001b[0m \u001b[1;33m\u001b[0m\u001b[0m\n\u001b[1;32m-> 1443\u001b[1;33m         \u001b[0mself\u001b[0m\u001b[1;33m.\u001b[0m\u001b[0m_has_valid_tuple\u001b[0m\u001b[1;33m(\u001b[0m\u001b[0mtup\u001b[0m\u001b[1;33m)\u001b[0m\u001b[1;33m\u001b[0m\u001b[1;33m\u001b[0m\u001b[0m\n\u001b[0m\u001b[0;32m   1444\u001b[0m         \u001b[1;32mtry\u001b[0m\u001b[1;33m:\u001b[0m\u001b[1;33m\u001b[0m\u001b[1;33m\u001b[0m\u001b[0m\n\u001b[0;32m   1445\u001b[0m             \u001b[1;32mreturn\u001b[0m \u001b[0mself\u001b[0m\u001b[1;33m.\u001b[0m\u001b[0m_getitem_lowerdim\u001b[0m\u001b[1;33m(\u001b[0m\u001b[0mtup\u001b[0m\u001b[1;33m)\u001b[0m\u001b[1;33m\u001b[0m\u001b[1;33m\u001b[0m\u001b[0m\n",
      "\u001b[1;32m~\\anaconda3\\lib\\site-packages\\pandas\\core\\indexing.py\u001b[0m in \u001b[0;36m_has_valid_tuple\u001b[1;34m(self, key)\u001b[0m\n\u001b[0;32m    700\u001b[0m                 \u001b[1;32mraise\u001b[0m \u001b[0mIndexingError\u001b[0m\u001b[1;33m(\u001b[0m\u001b[1;34m\"Too many indexers\"\u001b[0m\u001b[1;33m)\u001b[0m\u001b[1;33m\u001b[0m\u001b[1;33m\u001b[0m\u001b[0m\n\u001b[0;32m    701\u001b[0m             \u001b[1;32mtry\u001b[0m\u001b[1;33m:\u001b[0m\u001b[1;33m\u001b[0m\u001b[1;33m\u001b[0m\u001b[0m\n\u001b[1;32m--> 702\u001b[1;33m                 \u001b[0mself\u001b[0m\u001b[1;33m.\u001b[0m\u001b[0m_validate_key\u001b[0m\u001b[1;33m(\u001b[0m\u001b[0mk\u001b[0m\u001b[1;33m,\u001b[0m \u001b[0mi\u001b[0m\u001b[1;33m)\u001b[0m\u001b[1;33m\u001b[0m\u001b[1;33m\u001b[0m\u001b[0m\n\u001b[0m\u001b[0;32m    703\u001b[0m             \u001b[1;32mexcept\u001b[0m \u001b[0mValueError\u001b[0m \u001b[1;32mas\u001b[0m \u001b[0merr\u001b[0m\u001b[1;33m:\u001b[0m\u001b[1;33m\u001b[0m\u001b[1;33m\u001b[0m\u001b[0m\n\u001b[0;32m    704\u001b[0m                 raise ValueError(\n",
      "\u001b[1;32m~\\anaconda3\\lib\\site-packages\\pandas\\core\\indexing.py\u001b[0m in \u001b[0;36m_validate_key\u001b[1;34m(self, key, axis)\u001b[0m\n\u001b[0;32m   1350\u001b[0m             \u001b[1;32mreturn\u001b[0m\u001b[1;33m\u001b[0m\u001b[1;33m\u001b[0m\u001b[0m\n\u001b[0;32m   1351\u001b[0m         \u001b[1;32melif\u001b[0m \u001b[0mis_integer\u001b[0m\u001b[1;33m(\u001b[0m\u001b[0mkey\u001b[0m\u001b[1;33m)\u001b[0m\u001b[1;33m:\u001b[0m\u001b[1;33m\u001b[0m\u001b[1;33m\u001b[0m\u001b[0m\n\u001b[1;32m-> 1352\u001b[1;33m             \u001b[0mself\u001b[0m\u001b[1;33m.\u001b[0m\u001b[0m_validate_integer\u001b[0m\u001b[1;33m(\u001b[0m\u001b[0mkey\u001b[0m\u001b[1;33m,\u001b[0m \u001b[0maxis\u001b[0m\u001b[1;33m)\u001b[0m\u001b[1;33m\u001b[0m\u001b[1;33m\u001b[0m\u001b[0m\n\u001b[0m\u001b[0;32m   1353\u001b[0m         \u001b[1;32melif\u001b[0m \u001b[0misinstance\u001b[0m\u001b[1;33m(\u001b[0m\u001b[0mkey\u001b[0m\u001b[1;33m,\u001b[0m \u001b[0mtuple\u001b[0m\u001b[1;33m)\u001b[0m\u001b[1;33m:\u001b[0m\u001b[1;33m\u001b[0m\u001b[1;33m\u001b[0m\u001b[0m\n\u001b[0;32m   1354\u001b[0m             \u001b[1;31m# a tuple should already have been caught by this point\u001b[0m\u001b[1;33m\u001b[0m\u001b[1;33m\u001b[0m\u001b[1;33m\u001b[0m\u001b[0m\n",
      "\u001b[1;32m~\\anaconda3\\lib\\site-packages\\pandas\\core\\indexing.py\u001b[0m in \u001b[0;36m_validate_integer\u001b[1;34m(self, key, axis)\u001b[0m\n\u001b[0;32m   1435\u001b[0m         \u001b[0mlen_axis\u001b[0m \u001b[1;33m=\u001b[0m \u001b[0mlen\u001b[0m\u001b[1;33m(\u001b[0m\u001b[0mself\u001b[0m\u001b[1;33m.\u001b[0m\u001b[0mobj\u001b[0m\u001b[1;33m.\u001b[0m\u001b[0m_get_axis\u001b[0m\u001b[1;33m(\u001b[0m\u001b[0maxis\u001b[0m\u001b[1;33m)\u001b[0m\u001b[1;33m)\u001b[0m\u001b[1;33m\u001b[0m\u001b[1;33m\u001b[0m\u001b[0m\n\u001b[0;32m   1436\u001b[0m         \u001b[1;32mif\u001b[0m \u001b[0mkey\u001b[0m \u001b[1;33m>=\u001b[0m \u001b[0mlen_axis\u001b[0m \u001b[1;32mor\u001b[0m \u001b[0mkey\u001b[0m \u001b[1;33m<\u001b[0m \u001b[1;33m-\u001b[0m\u001b[0mlen_axis\u001b[0m\u001b[1;33m:\u001b[0m\u001b[1;33m\u001b[0m\u001b[1;33m\u001b[0m\u001b[0m\n\u001b[1;32m-> 1437\u001b[1;33m             \u001b[1;32mraise\u001b[0m \u001b[0mIndexError\u001b[0m\u001b[1;33m(\u001b[0m\u001b[1;34m\"single positional indexer is out-of-bounds\"\u001b[0m\u001b[1;33m)\u001b[0m\u001b[1;33m\u001b[0m\u001b[1;33m\u001b[0m\u001b[0m\n\u001b[0m\u001b[0;32m   1438\u001b[0m \u001b[1;33m\u001b[0m\u001b[0m\n\u001b[0;32m   1439\u001b[0m     \u001b[1;31m# -------------------------------------------------------------------\u001b[0m\u001b[1;33m\u001b[0m\u001b[1;33m\u001b[0m\u001b[1;33m\u001b[0m\u001b[0m\n",
      "\u001b[1;31mIndexError\u001b[0m: single positional indexer is out-of-bounds"
     ]
    },
    {
     "data": {
      "image/png": "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\n",
      "text/plain": [
       "<Figure size 360x360 with 1 Axes>"
      ]
     },
     "metadata": {
      "needs_background": "light"
     },
     "output_type": "display_data"
    }
   ],
   "source": [
    "# plot film with revenue on X and budget on Y. There are budget's row with 0 value.\n",
    "%matplotlib inline \n",
    "import matplotlib.pyplot as plt\n",
    "# use the following for more interactive plots\n",
    "# %matplotlib inline \n",
    "\n",
    "import numpy as np\n",
    "fig, ax = plt.subplots(figsize=(5,5))\n",
    "\n",
    "#https://stackoverflow.com/questions/31593201/how-are-iloc-and-loc-different\n",
    "ax.scatter(data.iloc[:, 2], data.iloc[:, 22])"
   ]
  },
  {
   "cell_type": "code",
<<<<<<< HEAD
   "execution_count": 13,
=======
   "execution_count": 14,
>>>>>>> parent of 6912994 (Working on knn)
   "metadata": {},
   "outputs": [
    {
     "data": {
      "text/plain": [
       "id                          0\n",
       "belongs_to_collection    2396\n",
       "budget                      0\n",
       "genres                      7\n",
       "imdb_id                     0\n",
       "original_language           0\n",
       "original_title              0\n",
       "overview                    8\n",
       "popularity                  0\n",
       "poster_path                 1\n",
       "production_companies      156\n",
       "production_countries       55\n",
       "release_date                0\n",
       "runtime                     2\n",
       "spoken_languages           20\n",
       "status                      0\n",
       "tagline                   597\n",
       "title                       0\n",
       "Keywords                  276\n",
       "cast                       13\n",
       "crew                       16\n",
       "revenue                     0\n",
       "dtype: int64"
      ]
     },
<<<<<<< HEAD
     "execution_count": 13,
=======
     "execution_count": 14,
>>>>>>> parent of 6912994 (Working on knn)
     "metadata": {},
     "output_type": "execute_result"
    }
   ],
   "source": [
    "data.isna().sum()"
   ]
  },
  {
   "cell_type": "code",
<<<<<<< HEAD
   "execution_count": 14,
=======
   "execution_count": 15,
>>>>>>> parent of 6912994 (Working on knn)
   "metadata": {},
   "outputs": [
    {
     "ename": "ValueError",
     "evalue": "Cannot use mean strategy with non-numeric data:\ncould not convert string to float: \"[{'id': 313576, 'name': 'Hot Tub Time Machine Collection', 'poster_path': '/iEhb00TGPucF0b4joM1ieyY026U.jpg', 'backdrop_path': '/noeTVcgpBiD48fDjFVic1Vz7ope.jpg'}]\"",
     "output_type": "error",
     "traceback": [
      "\u001b[1;31m---------------------------------------------------------------------------\u001b[0m",
      "\u001b[1;31mValueError\u001b[0m                                Traceback (most recent call last)",
<<<<<<< HEAD
      "\u001b[1;32m<ipython-input-14-c440ef7206d0>\u001b[0m in \u001b[0;36m<module>\u001b[1;34m\u001b[0m\n\u001b[0;32m      1\u001b[0m \u001b[1;32mfrom\u001b[0m \u001b[0msklearn\u001b[0m\u001b[1;33m.\u001b[0m\u001b[0mimpute\u001b[0m \u001b[1;32mimport\u001b[0m \u001b[0mSimpleImputer\u001b[0m\u001b[1;33m\u001b[0m\u001b[1;33m\u001b[0m\u001b[0m\n\u001b[0;32m      2\u001b[0m \u001b[0mimputer\u001b[0m \u001b[1;33m=\u001b[0m \u001b[0mSimpleImputer\u001b[0m\u001b[1;33m(\u001b[0m\u001b[0mmissing_values\u001b[0m \u001b[1;33m=\u001b[0m \u001b[0mnp\u001b[0m\u001b[1;33m.\u001b[0m\u001b[0mnan\u001b[0m\u001b[1;33m,\u001b[0m \u001b[0mstrategy\u001b[0m \u001b[1;33m=\u001b[0m \u001b[1;34m'mean'\u001b[0m\u001b[1;33m,\u001b[0m\u001b[0mverbose\u001b[0m\u001b[1;33m=\u001b[0m\u001b[1;36m0\u001b[0m\u001b[1;33m)\u001b[0m\u001b[1;33m\u001b[0m\u001b[1;33m\u001b[0m\u001b[0m\n\u001b[1;32m----> 3\u001b[1;33m \u001b[0mimputer\u001b[0m \u001b[1;33m=\u001b[0m \u001b[0mimputer\u001b[0m\u001b[1;33m.\u001b[0m\u001b[0mfit\u001b[0m\u001b[1;33m(\u001b[0m\u001b[0mdata\u001b[0m\u001b[1;33m.\u001b[0m\u001b[0miloc\u001b[0m\u001b[1;33m[\u001b[0m\u001b[1;33m:\u001b[0m\u001b[1;33m,\u001b[0m \u001b[1;36m1\u001b[0m\u001b[1;33m:\u001b[0m\u001b[1;36m3\u001b[0m\u001b[1;33m]\u001b[0m\u001b[1;33m)\u001b[0m\u001b[1;33m\u001b[0m\u001b[1;33m\u001b[0m\u001b[0m\n\u001b[0m\u001b[0;32m      4\u001b[0m \u001b[0mdata\u001b[0m\u001b[1;33m.\u001b[0m\u001b[0miloc\u001b[0m\u001b[1;33m[\u001b[0m\u001b[1;33m:\u001b[0m\u001b[1;33m,\u001b[0m \u001b[1;36m1\u001b[0m\u001b[1;33m:\u001b[0m\u001b[1;36m3\u001b[0m\u001b[1;33m]\u001b[0m \u001b[1;33m=\u001b[0m \u001b[0mimputer\u001b[0m\u001b[1;33m.\u001b[0m\u001b[0mtransform\u001b[0m\u001b[1;33m(\u001b[0m\u001b[0mdata\u001b[0m\u001b[1;33m.\u001b[0m\u001b[0miloc\u001b[0m\u001b[1;33m[\u001b[0m\u001b[1;33m:\u001b[0m\u001b[1;33m,\u001b[0m \u001b[1;36m1\u001b[0m\u001b[1;33m:\u001b[0m\u001b[1;36m3\u001b[0m\u001b[1;33m]\u001b[0m\u001b[1;33m)\u001b[0m\u001b[1;33m\u001b[0m\u001b[1;33m\u001b[0m\u001b[0m\n",
=======
      "\u001b[1;32m<ipython-input-15-c440ef7206d0>\u001b[0m in \u001b[0;36m<module>\u001b[1;34m\u001b[0m\n\u001b[0;32m      1\u001b[0m \u001b[1;32mfrom\u001b[0m \u001b[0msklearn\u001b[0m\u001b[1;33m.\u001b[0m\u001b[0mimpute\u001b[0m \u001b[1;32mimport\u001b[0m \u001b[0mSimpleImputer\u001b[0m\u001b[1;33m\u001b[0m\u001b[1;33m\u001b[0m\u001b[0m\n\u001b[0;32m      2\u001b[0m \u001b[0mimputer\u001b[0m \u001b[1;33m=\u001b[0m \u001b[0mSimpleImputer\u001b[0m\u001b[1;33m(\u001b[0m\u001b[0mmissing_values\u001b[0m \u001b[1;33m=\u001b[0m \u001b[0mnp\u001b[0m\u001b[1;33m.\u001b[0m\u001b[0mnan\u001b[0m\u001b[1;33m,\u001b[0m \u001b[0mstrategy\u001b[0m \u001b[1;33m=\u001b[0m \u001b[1;34m'mean'\u001b[0m\u001b[1;33m,\u001b[0m\u001b[0mverbose\u001b[0m\u001b[1;33m=\u001b[0m\u001b[1;36m0\u001b[0m\u001b[1;33m)\u001b[0m\u001b[1;33m\u001b[0m\u001b[1;33m\u001b[0m\u001b[0m\n\u001b[1;32m----> 3\u001b[1;33m \u001b[0mimputer\u001b[0m \u001b[1;33m=\u001b[0m \u001b[0mimputer\u001b[0m\u001b[1;33m.\u001b[0m\u001b[0mfit\u001b[0m\u001b[1;33m(\u001b[0m\u001b[0mdata\u001b[0m\u001b[1;33m.\u001b[0m\u001b[0miloc\u001b[0m\u001b[1;33m[\u001b[0m\u001b[1;33m:\u001b[0m\u001b[1;33m,\u001b[0m \u001b[1;36m1\u001b[0m\u001b[1;33m:\u001b[0m\u001b[1;36m3\u001b[0m\u001b[1;33m]\u001b[0m\u001b[1;33m)\u001b[0m\u001b[1;33m\u001b[0m\u001b[1;33m\u001b[0m\u001b[0m\n\u001b[0m\u001b[0;32m      4\u001b[0m \u001b[0mdata\u001b[0m\u001b[1;33m.\u001b[0m\u001b[0miloc\u001b[0m\u001b[1;33m[\u001b[0m\u001b[1;33m:\u001b[0m\u001b[1;33m,\u001b[0m \u001b[1;36m1\u001b[0m\u001b[1;33m:\u001b[0m\u001b[1;36m3\u001b[0m\u001b[1;33m]\u001b[0m \u001b[1;33m=\u001b[0m \u001b[0mimputer\u001b[0m\u001b[1;33m.\u001b[0m\u001b[0mtransform\u001b[0m\u001b[1;33m(\u001b[0m\u001b[0mdata\u001b[0m\u001b[1;33m.\u001b[0m\u001b[0miloc\u001b[0m\u001b[1;33m[\u001b[0m\u001b[1;33m:\u001b[0m\u001b[1;33m,\u001b[0m \u001b[1;36m1\u001b[0m\u001b[1;33m:\u001b[0m\u001b[1;36m3\u001b[0m\u001b[1;33m]\u001b[0m\u001b[1;33m)\u001b[0m\u001b[1;33m\u001b[0m\u001b[1;33m\u001b[0m\u001b[0m\n",
>>>>>>> parent of 6912994 (Working on knn)
      "\u001b[1;32m~\\anaconda3\\lib\\site-packages\\sklearn\\impute\\_base.py\u001b[0m in \u001b[0;36mfit\u001b[1;34m(self, X, y)\u001b[0m\n\u001b[0;32m    275\u001b[0m         \u001b[0mself\u001b[0m \u001b[1;33m:\u001b[0m \u001b[0mSimpleImputer\u001b[0m\u001b[1;33m\u001b[0m\u001b[1;33m\u001b[0m\u001b[0m\n\u001b[0;32m    276\u001b[0m         \"\"\"\n\u001b[1;32m--> 277\u001b[1;33m         \u001b[0mX\u001b[0m \u001b[1;33m=\u001b[0m \u001b[0mself\u001b[0m\u001b[1;33m.\u001b[0m\u001b[0m_validate_input\u001b[0m\u001b[1;33m(\u001b[0m\u001b[0mX\u001b[0m\u001b[1;33m,\u001b[0m \u001b[0min_fit\u001b[0m\u001b[1;33m=\u001b[0m\u001b[1;32mTrue\u001b[0m\u001b[1;33m)\u001b[0m\u001b[1;33m\u001b[0m\u001b[1;33m\u001b[0m\u001b[0m\n\u001b[0m\u001b[0;32m    278\u001b[0m         \u001b[0msuper\u001b[0m\u001b[1;33m(\u001b[0m\u001b[1;33m)\u001b[0m\u001b[1;33m.\u001b[0m\u001b[0m_fit_indicator\u001b[0m\u001b[1;33m(\u001b[0m\u001b[0mX\u001b[0m\u001b[1;33m)\u001b[0m\u001b[1;33m\u001b[0m\u001b[1;33m\u001b[0m\u001b[0m\n\u001b[0;32m    279\u001b[0m \u001b[1;33m\u001b[0m\u001b[0m\n",
      "\u001b[1;32m~\\anaconda3\\lib\\site-packages\\sklearn\\impute\\_base.py\u001b[0m in \u001b[0;36m_validate_input\u001b[1;34m(self, X, in_fit)\u001b[0m\n\u001b[0;32m    247\u001b[0m                 new_ve = ValueError(\"Cannot use {} strategy with non-numeric \"\n\u001b[0;32m    248\u001b[0m                                     \"data:\\n{}\".format(self.strategy, ve))\n\u001b[1;32m--> 249\u001b[1;33m                 \u001b[1;32mraise\u001b[0m \u001b[0mnew_ve\u001b[0m \u001b[1;32mfrom\u001b[0m \u001b[1;32mNone\u001b[0m\u001b[1;33m\u001b[0m\u001b[1;33m\u001b[0m\u001b[0m\n\u001b[0m\u001b[0;32m    250\u001b[0m             \u001b[1;32melse\u001b[0m\u001b[1;33m:\u001b[0m\u001b[1;33m\u001b[0m\u001b[1;33m\u001b[0m\u001b[0m\n\u001b[0;32m    251\u001b[0m                 \u001b[1;32mraise\u001b[0m \u001b[0mve\u001b[0m\u001b[1;33m\u001b[0m\u001b[1;33m\u001b[0m\u001b[0m\n",
      "\u001b[1;31mValueError\u001b[0m: Cannot use mean strategy with non-numeric data:\ncould not convert string to float: \"[{'id': 313576, 'name': 'Hot Tub Time Machine Collection', 'poster_path': '/iEhb00TGPucF0b4joM1ieyY026U.jpg', 'backdrop_path': '/noeTVcgpBiD48fDjFVic1Vz7ope.jpg'}]\""
     ]
    }
   ],
   "source": [
    "from sklearn.impute import SimpleImputer\n",
    "imputer = SimpleImputer(missing_values = np.nan, strategy = 'mean',verbose=0)\n",
    "imputer = imputer.fit(data.iloc[:, 1:3])\n",
    "data.iloc[:, 1:3] = imputer.transform(data.iloc[:, 1:3])"
   ]
  },
  {
   "cell_type": "code",
<<<<<<< HEAD
   "execution_count": 15,
=======
   "execution_count": 16,
>>>>>>> parent of 6912994 (Working on knn)
   "metadata": {},
   "outputs": [
    {
     "name": "stdout",
     "output_type": "stream",
     "text": [
      "data_with_budget.shape: (2188, 22)\n"
     ]
    },
    {
     "data": {
      "text/plain": [
       "Text(0.5, 1.0, 'Revenue based on budget per movie')"
      ]
     },
<<<<<<< HEAD
     "execution_count": 15,
=======
     "execution_count": 16,
>>>>>>> parent of 6912994 (Working on knn)
     "metadata": {},
     "output_type": "execute_result"
    },
    {
     "data": {
      "image/png": "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\n",
      "text/plain": [
       "<Figure size 720x720 with 1 Axes>"
      ]
     },
     "metadata": {
      "needs_background": "light"
     },
     "output_type": "display_data"
    }
   ],
   "source": [
    "#data_with_budget: array tolti gli elementi con budget = 0\n",
    "data_with_budget = data[data[\"budget\"] != 0]\n",
    "print(\"data_with_budget.shape:\", data_with_budget.shape)\n",
    "\n",
    "fig, ax = plt.subplots(figsize=(10,10))\n",
    "\n",
    "ax.scatter(data_with_budget.iloc[:, 2], data_with_budget.iloc[:, 21])\n",
    "\n",
    "ax.set_xlabel(\"Budget per movie\", fontsize=10)\n",
    "ax.set_ylabel(\"Revenue per movie\", fontsize=10)\n",
    "ax.set_title('Revenue based on budget per movie', fontsize=20)"
   ]
  },
  {
   "cell_type": "code",
<<<<<<< HEAD
   "execution_count": 16,
=======
   "execution_count": 17,
>>>>>>> parent of 6912994 (Working on knn)
   "metadata": {},
   "outputs": [
    {
     "data": {
      "text/plain": [
       "666"
      ]
     },
<<<<<<< HEAD
     "execution_count": 16,
=======
     "execution_count": 17,
>>>>>>> parent of 6912994 (Working on knn)
     "metadata": {},
     "output_type": "execute_result"
    }
   ],
   "source": [
    "# The number of the beast\n",
    "sum(data_with_budget['revenue'] <= 10000000)"
   ]
  },
  {
   "cell_type": "code",
<<<<<<< HEAD
   "execution_count": 17,
=======
   "execution_count": 18,
>>>>>>> parent of 6912994 (Working on knn)
   "metadata": {},
   "outputs": [
    {
     "ename": "IndexError",
     "evalue": "list index out of range",
     "output_type": "error",
     "traceback": [
      "\u001b[1;31m---------------------------------------------------------------------------\u001b[0m",
      "\u001b[1;31mIndexError\u001b[0m                                Traceback (most recent call last)",
<<<<<<< HEAD
      "\u001b[1;32m<ipython-input-17-8c18ca71b52d>\u001b[0m in \u001b[0;36m<module>\u001b[1;34m\u001b[0m\n\u001b[0;32m      5\u001b[0m \u001b[1;33m\u001b[0m\u001b[0m\n\u001b[0;32m      6\u001b[0m \u001b[1;31m#matrix budget-revenue\u001b[0m\u001b[1;33m\u001b[0m\u001b[1;33m\u001b[0m\u001b[1;33m\u001b[0m\u001b[0m\n\u001b[1;32m----> 7\u001b[1;33m \u001b[0mmatrice\u001b[0m \u001b[1;33m=\u001b[0m \u001b[1;33m[\u001b[0m\u001b[0mlen\u001b[0m\u001b[1;33m(\u001b[0m\u001b[0mdata_with_budget\u001b[0m\u001b[1;33m)\u001b[0m\u001b[1;33m]\u001b[0m\u001b[1;33m[\u001b[0m\u001b[1;36m2\u001b[0m\u001b[1;33m]\u001b[0m\u001b[1;33m\u001b[0m\u001b[1;33m\u001b[0m\u001b[0m\n\u001b[0m\u001b[0;32m      8\u001b[0m \u001b[0mbr\u001b[0m \u001b[1;33m=\u001b[0m \u001b[1;33m[\u001b[0m\u001b[0mdata_with_budget\u001b[0m\u001b[1;33m[\u001b[0m\u001b[1;34m'budget'\u001b[0m\u001b[1;33m]\u001b[0m\u001b[1;33m,\u001b[0m \u001b[0mdata_with_budget\u001b[0m\u001b[1;33m[\u001b[0m\u001b[1;34m'revenue'\u001b[0m\u001b[1;33m]\u001b[0m\u001b[1;33m]\u001b[0m\u001b[1;33m\u001b[0m\u001b[1;33m\u001b[0m\u001b[0m\n\u001b[0;32m      9\u001b[0m \u001b[1;33m\u001b[0m\u001b[0m\n",
=======
      "\u001b[1;32m<ipython-input-18-8c18ca71b52d>\u001b[0m in \u001b[0;36m<module>\u001b[1;34m\u001b[0m\n\u001b[0;32m      5\u001b[0m \u001b[1;33m\u001b[0m\u001b[0m\n\u001b[0;32m      6\u001b[0m \u001b[1;31m#matrix budget-revenue\u001b[0m\u001b[1;33m\u001b[0m\u001b[1;33m\u001b[0m\u001b[1;33m\u001b[0m\u001b[0m\n\u001b[1;32m----> 7\u001b[1;33m \u001b[0mmatrice\u001b[0m \u001b[1;33m=\u001b[0m \u001b[1;33m[\u001b[0m\u001b[0mlen\u001b[0m\u001b[1;33m(\u001b[0m\u001b[0mdata_with_budget\u001b[0m\u001b[1;33m)\u001b[0m\u001b[1;33m]\u001b[0m\u001b[1;33m[\u001b[0m\u001b[1;36m2\u001b[0m\u001b[1;33m]\u001b[0m\u001b[1;33m\u001b[0m\u001b[1;33m\u001b[0m\u001b[0m\n\u001b[0m\u001b[0;32m      8\u001b[0m \u001b[0mbr\u001b[0m \u001b[1;33m=\u001b[0m \u001b[1;33m[\u001b[0m\u001b[0mdata_with_budget\u001b[0m\u001b[1;33m[\u001b[0m\u001b[1;34m'budget'\u001b[0m\u001b[1;33m]\u001b[0m\u001b[1;33m,\u001b[0m \u001b[0mdata_with_budget\u001b[0m\u001b[1;33m[\u001b[0m\u001b[1;34m'revenue'\u001b[0m\u001b[1;33m]\u001b[0m\u001b[1;33m]\u001b[0m\u001b[1;33m\u001b[0m\u001b[1;33m\u001b[0m\u001b[0m\n\u001b[0;32m      9\u001b[0m \u001b[1;33m\u001b[0m\u001b[0m\n",
>>>>>>> parent of 6912994 (Working on knn)
      "\u001b[1;31mIndexError\u001b[0m: list index out of range"
     ]
    }
   ],
   "source": [
    "import numpy as np\n",
    "\n",
    "from sklearn.datasets import make_blobs\n",
    "from sklearn.cluster import KMeans\n",
    "\n",
    "#matrix budget-revenue\n",
    "matrice = [len(data_with_budget)][2]\n",
    "br = [data_with_budget['budget'], data_with_budget['revenue']]\n",
    "\n",
    "k_means = KMeans(n_clusters=5, n_init=1)\n",
    "k_means.fit(br)\n",
    "\n",
    "\n",
    "fig, ax = plt.subplots(figsize=(5,5))\n",
    "\n",
    "ax.scatter(br.iloc[0, :], br.iloc[1, :], c=k_means.labels_)"
   ]
  },
  {
   "cell_type": "code",
<<<<<<< HEAD
   "execution_count": 18,
=======
   "execution_count": 19,
>>>>>>> parent of 6912994 (Working on knn)
   "metadata": {},
   "outputs": [
    {
     "data": {
      "text/plain": [
<<<<<<< HEAD
       "<matplotlib.collections.PathCollection at 0x1bac64e00a0>"
      ]
     },
     "execution_count": 18,
=======
       "<matplotlib.collections.PathCollection at 0x2bd03c87a90>"
      ]
     },
     "execution_count": 19,
>>>>>>> parent of 6912994 (Working on knn)
     "metadata": {},
     "output_type": "execute_result"
    },
    {
     "data": {
<<<<<<< HEAD
      "image/png": "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\n",
=======
      "image/png": "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\n",
>>>>>>> parent of 6912994 (Working on knn)
      "text/plain": [
       "<Figure size 360x360 with 1 Axes>"
      ]
     },
     "metadata": {
      "needs_background": "light"
     },
     "output_type": "display_data"
    }
   ],
   "source": [
    "from datetime import datetime\n",
    "import matplotlib.pyplot as plt\n",
    "\n",
    "data = data.sort_values(by=\"release_date\")\n",
    "data[\"release_date\"] = pd.to_datetime(data[\"release_date\"])\n",
    "\n",
    "fig, ax = plt.subplots(figsize=(5,5))\n",
    "\n",
    "ax.scatter(data['release_date'], data['popularity'])\n"
   ]
  },
  {
   "cell_type": "code",
<<<<<<< HEAD
   "execution_count": 19,
=======
   "execution_count": 20,
>>>>>>> parent of 6912994 (Working on knn)
   "metadata": {},
   "outputs": [
    {
     "data": {
      "text/plain": [
<<<<<<< HEAD
       "Timestamp('2070-12-16 00:00:00')"
      ]
     },
     "execution_count": 19,
=======
       "Timestamp('2017-07-20 00:00:00')"
      ]
     },
     "execution_count": 20,
>>>>>>> parent of 6912994 (Working on knn)
     "metadata": {},
     "output_type": "execute_result"
    }
   ],
   "source": [
    "#c'è un problema, ci sono date errate in quanto sono spostate avanti di 100 annic\n",
    "#da sistemare\n",
    "\n",
    "max(data['release_date'])\n"
   ]
  },
  {
   "cell_type": "code",
<<<<<<< HEAD
   "execution_count": 20,
=======
   "execution_count": 21,
>>>>>>> parent of 6912994 (Working on knn)
   "metadata": {},
   "outputs": [
    {
     "data": {
      "text/html": [
       "<div>\n",
       "<style scoped>\n",
       "    .dataframe tbody tr th:only-of-type {\n",
       "        vertical-align: middle;\n",
       "    }\n",
       "\n",
       "    .dataframe tbody tr th {\n",
       "        vertical-align: top;\n",
       "    }\n",
       "\n",
       "    .dataframe thead th {\n",
       "        text-align: right;\n",
       "    }\n",
       "</style>\n",
       "<table border=\"1\" class=\"dataframe\">\n",
       "  <thead>\n",
       "    <tr style=\"text-align: right;\">\n",
       "      <th></th>\n",
       "      <th>id</th>\n",
       "      <th>budget</th>\n",
       "      <th>popularity</th>\n",
       "      <th>runtime</th>\n",
       "      <th>revenue</th>\n",
       "    </tr>\n",
       "  </thead>\n",
       "  <tbody>\n",
       "    <tr>\n",
       "      <th>count</th>\n",
       "      <td>3000.000000</td>\n",
       "      <td>3.000000e+03</td>\n",
       "      <td>3000.000000</td>\n",
       "      <td>2998.000000</td>\n",
       "      <td>3.000000e+03</td>\n",
       "    </tr>\n",
       "    <tr>\n",
       "      <th>mean</th>\n",
       "      <td>1500.500000</td>\n",
       "      <td>2.253133e+07</td>\n",
       "      <td>8.463274</td>\n",
       "      <td>107.856571</td>\n",
       "      <td>6.672585e+07</td>\n",
       "    </tr>\n",
       "    <tr>\n",
       "      <th>std</th>\n",
       "      <td>866.169729</td>\n",
       "      <td>3.702609e+07</td>\n",
       "      <td>12.104000</td>\n",
       "      <td>22.086434</td>\n",
       "      <td>1.375323e+08</td>\n",
       "    </tr>\n",
       "    <tr>\n",
       "      <th>min</th>\n",
       "      <td>1.000000</td>\n",
       "      <td>0.000000e+00</td>\n",
       "      <td>0.000001</td>\n",
       "      <td>0.000000</td>\n",
       "      <td>1.000000e+00</td>\n",
       "    </tr>\n",
       "    <tr>\n",
       "      <th>25%</th>\n",
       "      <td>750.750000</td>\n",
       "      <td>0.000000e+00</td>\n",
       "      <td>4.018053</td>\n",
       "      <td>94.000000</td>\n",
       "      <td>2.379808e+06</td>\n",
       "    </tr>\n",
       "    <tr>\n",
       "      <th>50%</th>\n",
       "      <td>1500.500000</td>\n",
       "      <td>8.000000e+06</td>\n",
       "      <td>7.374861</td>\n",
       "      <td>104.000000</td>\n",
       "      <td>1.680707e+07</td>\n",
       "    </tr>\n",
       "    <tr>\n",
       "      <th>75%</th>\n",
       "      <td>2250.250000</td>\n",
       "      <td>2.900000e+07</td>\n",
       "      <td>10.890983</td>\n",
       "      <td>118.000000</td>\n",
       "      <td>6.891920e+07</td>\n",
       "    </tr>\n",
       "    <tr>\n",
       "      <th>max</th>\n",
       "      <td>3000.000000</td>\n",
       "      <td>3.800000e+08</td>\n",
       "      <td>294.337037</td>\n",
       "      <td>338.000000</td>\n",
       "      <td>1.519558e+09</td>\n",
       "    </tr>\n",
       "  </tbody>\n",
       "</table>\n",
       "</div>"
      ],
      "text/plain": [
       "                id        budget   popularity      runtime       revenue\n",
       "count  3000.000000  3.000000e+03  3000.000000  2998.000000  3.000000e+03\n",
       "mean   1500.500000  2.253133e+07     8.463274   107.856571  6.672585e+07\n",
       "std     866.169729  3.702609e+07    12.104000    22.086434  1.375323e+08\n",
       "min       1.000000  0.000000e+00     0.000001     0.000000  1.000000e+00\n",
       "25%     750.750000  0.000000e+00     4.018053    94.000000  2.379808e+06\n",
       "50%    1500.500000  8.000000e+06     7.374861   104.000000  1.680707e+07\n",
       "75%    2250.250000  2.900000e+07    10.890983   118.000000  6.891920e+07\n",
       "max    3000.000000  3.800000e+08   294.337037   338.000000  1.519558e+09"
      ]
     },
<<<<<<< HEAD
     "execution_count": 20,
=======
     "execution_count": 21,
>>>>>>> parent of 6912994 (Working on knn)
     "metadata": {},
     "output_type": "execute_result"
    }
   ],
   "source": [
    "data.describe()"
   ]
  },
  {
   "cell_type": "code",
<<<<<<< HEAD
   "execution_count": 21,
=======
   "execution_count": 22,
>>>>>>> parent of 6912994 (Working on knn)
   "metadata": {},
   "outputs": [],
   "source": [
    "#aggiunta la colonna anno di uscita\n",
    "#per evitare errori usare il .dt per estrarre info dalle date\n",
    "data[\"release_year\"]=data[\"release_date\"].dt.year\n"
   ]
  },
  {
   "cell_type": "code",
<<<<<<< HEAD
   "execution_count": 22,
=======
   "execution_count": 23,
>>>>>>> parent of 6912994 (Working on knn)
   "metadata": {},
   "outputs": [
    {
     "data": {
      "text/plain": [
<<<<<<< HEAD
       "(1960.0, 2074.95)"
      ]
     },
     "execution_count": 22,
=======
       "(1960.0, 2021.8)"
      ]
     },
     "execution_count": 23,
>>>>>>> parent of 6912994 (Working on knn)
     "metadata": {},
     "output_type": "execute_result"
    },
    {
     "data": {
<<<<<<< HEAD
      "image/png": "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\n",
=======
      "image/png": "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\n",
>>>>>>> parent of 6912994 (Working on knn)
      "text/plain": [
       "<Figure size 720x360 with 1 Axes>"
      ]
     },
     "metadata": {
      "needs_background": "light"
     },
     "output_type": "display_data"
    }
   ],
   "source": [
    "grupByMovies=data['runtime'].groupby(data[\"release_year\"]).describe()\n",
    "fig, x=plt.subplots(figsize=(10,5))\n",
    "x.plot(grupByMovies['mean'])\n",
    "x.set_xlabel(\"Year Release\", fontsize=10)\n",
    "x.set_ylabel(\"Runtime mean (minutes)\", fontsize=10)\n",
    "x.set_title('Duration of the films over the years', fontsize=20)\n",
    "\n",
    "#We made the x axis starting from 1960 in previous year there were way few film in order to have a decent graph\n",
    "x.set_xlim(1960)"
   ]
  },
  {
   "cell_type": "code",
<<<<<<< HEAD
   "execution_count": 23,
=======
   "execution_count": 24,
>>>>>>> parent of 6912994 (Working on knn)
   "metadata": {},
   "outputs": [
    {
     "data": {
      "text/html": [
       "<div>\n",
       "<style scoped>\n",
       "    .dataframe tbody tr th:only-of-type {\n",
       "        vertical-align: middle;\n",
       "    }\n",
       "\n",
       "    .dataframe tbody tr th {\n",
       "        vertical-align: top;\n",
       "    }\n",
       "\n",
       "    .dataframe thead th {\n",
       "        text-align: right;\n",
       "    }\n",
       "</style>\n",
       "<table border=\"1\" class=\"dataframe\">\n",
       "  <thead>\n",
       "    <tr style=\"text-align: right;\">\n",
       "      <th></th>\n",
       "      <th>id</th>\n",
       "      <th>budget</th>\n",
       "      <th>popularity</th>\n",
       "      <th>runtime</th>\n",
       "      <th>revenue</th>\n",
       "      <th>release_year</th>\n",
       "    </tr>\n",
       "  </thead>\n",
       "  <tbody>\n",
       "    <tr>\n",
       "      <th>count</th>\n",
       "      <td>3000.000000</td>\n",
       "      <td>3.000000e+03</td>\n",
       "      <td>3000.000000</td>\n",
       "      <td>2998.000000</td>\n",
       "      <td>3.000000e+03</td>\n",
       "      <td>3000.000000</td>\n",
       "    </tr>\n",
       "    <tr>\n",
       "      <th>mean</th>\n",
       "      <td>1500.500000</td>\n",
       "      <td>2.253133e+07</td>\n",
       "      <td>8.463274</td>\n",
       "      <td>107.856571</td>\n",
       "      <td>6.672585e+07</td>\n",
       "      <td>1999.713000</td>\n",
       "    </tr>\n",
       "    <tr>\n",
       "      <th>std</th>\n",
       "      <td>866.169729</td>\n",
       "      <td>3.702609e+07</td>\n",
       "      <td>12.104000</td>\n",
       "      <td>22.086434</td>\n",
       "      <td>1.375323e+08</td>\n",
       "      <td>15.423313</td>\n",
       "    </tr>\n",
       "    <tr>\n",
       "      <th>min</th>\n",
       "      <td>1.000000</td>\n",
       "      <td>0.000000e+00</td>\n",
       "      <td>0.000001</td>\n",
       "      <td>0.000000</td>\n",
       "      <td>1.000000e+00</td>\n",
       "      <td>1921.000000</td>\n",
       "    </tr>\n",
       "    <tr>\n",
       "      <th>25%</th>\n",
       "      <td>750.750000</td>\n",
       "      <td>0.000000e+00</td>\n",
       "      <td>4.018053</td>\n",
       "      <td>94.000000</td>\n",
       "      <td>2.379808e+06</td>\n",
       "      <td>1993.000000</td>\n",
       "    </tr>\n",
       "    <tr>\n",
       "      <th>50%</th>\n",
       "      <td>1500.500000</td>\n",
       "      <td>8.000000e+06</td>\n",
       "      <td>7.374861</td>\n",
       "      <td>104.000000</td>\n",
       "      <td>1.680707e+07</td>\n",
       "      <td>2004.000000</td>\n",
       "    </tr>\n",
       "    <tr>\n",
       "      <th>75%</th>\n",
       "      <td>2250.250000</td>\n",
       "      <td>2.900000e+07</td>\n",
       "      <td>10.890983</td>\n",
       "      <td>118.000000</td>\n",
       "      <td>6.891920e+07</td>\n",
       "      <td>2011.000000</td>\n",
       "    </tr>\n",
       "    <tr>\n",
       "      <th>max</th>\n",
       "      <td>3000.000000</td>\n",
       "      <td>3.800000e+08</td>\n",
       "      <td>294.337037</td>\n",
       "      <td>338.000000</td>\n",
       "      <td>1.519558e+09</td>\n",
       "      <td>2017.000000</td>\n",
       "    </tr>\n",
       "  </tbody>\n",
       "</table>\n",
       "</div>"
      ],
      "text/plain": [
       "                id        budget   popularity      runtime       revenue  \\\n",
       "count  3000.000000  3.000000e+03  3000.000000  2998.000000  3.000000e+03   \n",
       "mean   1500.500000  2.253133e+07     8.463274   107.856571  6.672585e+07   \n",
       "std     866.169729  3.702609e+07    12.104000    22.086434  1.375323e+08   \n",
       "min       1.000000  0.000000e+00     0.000001     0.000000  1.000000e+00   \n",
       "25%     750.750000  0.000000e+00     4.018053    94.000000  2.379808e+06   \n",
       "50%    1500.500000  8.000000e+06     7.374861   104.000000  1.680707e+07   \n",
       "75%    2250.250000  2.900000e+07    10.890983   118.000000  6.891920e+07   \n",
       "max    3000.000000  3.800000e+08   294.337037   338.000000  1.519558e+09   \n",
       "\n",
       "       release_year  \n",
       "count   3000.000000  \n",
       "mean    1999.713000  \n",
       "std       15.423313  \n",
       "min     1921.000000  \n",
       "25%     1993.000000  \n",
       "50%     2004.000000  \n",
       "75%     2011.000000  \n",
       "max     2017.000000  "
      ]
     },
<<<<<<< HEAD
     "execution_count": 23,
=======
     "execution_count": 24,
>>>>>>> parent of 6912994 (Working on knn)
     "metadata": {},
     "output_type": "execute_result"
    }
   ],
   "source": [
    "data.describe()"
   ]
  },
  {
   "cell_type": "code",
<<<<<<< HEAD
   "execution_count": 24,
   "metadata": {},
   "outputs": [
    {
     "ename": "TypeError",
     "evalue": "string indices must be integers",
     "output_type": "error",
     "traceback": [
      "\u001b[1;31m---------------------------------------------------------------------------\u001b[0m",
      "\u001b[1;31mTypeError\u001b[0m                                 Traceback (most recent call last)",
      "\u001b[1;32m<ipython-input-24-a9f87a6f8825>\u001b[0m in \u001b[0;36m<module>\u001b[1;34m\u001b[0m\n\u001b[0;32m      8\u001b[0m     \u001b[1;32mif\u001b[0m \u001b[1;32mnot\u001b[0m \u001b[0misinstance\u001b[0m\u001b[1;33m(\u001b[0m\u001b[0mlista_generi_per_film\u001b[0m\u001b[1;33m,\u001b[0m \u001b[0mfloat\u001b[0m\u001b[1;33m)\u001b[0m\u001b[1;33m:\u001b[0m\u001b[1;33m\u001b[0m\u001b[1;33m\u001b[0m\u001b[0m\n\u001b[0;32m      9\u001b[0m         \u001b[1;32mfor\u001b[0m \u001b[0mgenere\u001b[0m \u001b[1;32min\u001b[0m \u001b[0mlista_generi_per_film\u001b[0m\u001b[1;33m:\u001b[0m\u001b[1;33m\u001b[0m\u001b[1;33m\u001b[0m\u001b[0m\n\u001b[1;32m---> 10\u001b[1;33m             \u001b[1;32mif\u001b[0m \u001b[0mgenere\u001b[0m\u001b[1;33m[\u001b[0m\u001b[1;34m'name'\u001b[0m\u001b[1;33m]\u001b[0m \u001b[1;32mnot\u001b[0m \u001b[1;32min\u001b[0m \u001b[0mout\u001b[0m\u001b[1;33m:\u001b[0m\u001b[1;33m\u001b[0m\u001b[1;33m\u001b[0m\u001b[0m\n\u001b[0m\u001b[0;32m     11\u001b[0m                 \u001b[0mout\u001b[0m\u001b[1;33m.\u001b[0m\u001b[0mappend\u001b[0m\u001b[1;33m(\u001b[0m\u001b[0mgenere\u001b[0m\u001b[1;33m[\u001b[0m\u001b[1;34m'name'\u001b[0m\u001b[1;33m]\u001b[0m\u001b[1;33m)\u001b[0m\u001b[1;33m\u001b[0m\u001b[1;33m\u001b[0m\u001b[0m\n\u001b[0;32m     12\u001b[0m \u001b[1;33m\u001b[0m\u001b[0m\n",
      "\u001b[1;31mTypeError\u001b[0m: string indices must be integers"
     ]
=======
   "execution_count": 87,
   "metadata": {},
   "outputs": [
    {
     "data": {
      "text/plain": [
       "list"
      ]
     },
     "execution_count": 87,
     "metadata": {},
     "output_type": "execute_result"
>>>>>>> parent of 6912994 (Working on knn)
    }
   ],
   "source": [
    "# Si vuole sviluppare un algoritmo che, in base al genere del film che uscirà, preveda, grazie ai \"vicini\", quanto potrebbe\n",
    "# guadagnare al botteghino\n",
    "# utilizzo dell'algoritmo knn\n",
    "\n",
    "#out: lista di tutti i generi presenti nel DB\n",
    "out = []\n",
    "for lista_generi_per_film in data['genres']:\n",
    "    if not isinstance(lista_generi_per_film, float):\n",
    "        for genere in lista_generi_per_film:\n",
    "            if genere['name'] not in out:\n",
    "                out.append(genere['name'])\n",
    "            \n",
    "print(out)"
   ]
  },
  {
   "cell_type": "code",
   "execution_count": 25,
   "metadata": {},
   "outputs": [],
<<<<<<< HEAD
   "source": [
    "#Proviamo a usare l'algoritmo knn applicato su popularity, budget, runtime per predirre la revenue. \n",
    "#Visto che i valori hanno un range molto diverso bisogna prima normalizzarli portandoli in un range 0-1\n",
    "#Usiamo la formula (x-min(x))/(max(x)-min(x))"
   ]
  },
  {
   "cell_type": "code",
   "execution_count": 26,
   "metadata": {},
   "outputs": [],
   "source": [
    "#creo un funzione che aggiunge una colonna al database con il campo normalizzato\n",
    "\n",
    "def normalizza(data, campo):\n",
    "    data[campo+\"Norm\"]=(data[campo]-data[campo].min())/(max(data[campo])-min(data[campo]))\n",
    "    \n",
    "normalizza(data,\"popularity\")\n",
    "normalizza(data,\"budget\")\n",
    "normalizza(data,\"runtime\")"
   ]
  },
  {
   "cell_type": "code",
   "execution_count": 27,
   "metadata": {},
   "outputs": [
    {
     "name": "stdout",
     "output_type": "stream",
     "text": [
      "<class 'pandas.core.frame.DataFrame'>\n",
      "Int64Index: 3000 entries, 2750 to 1185\n",
      "Data columns (total 4 columns):\n",
      " #   Column          Non-Null Count  Dtype  \n",
      "---  ------          --------------  -----  \n",
      " 0   revenue         3000 non-null   int64  \n",
      " 1   popularityNorm  3000 non-null   float64\n",
      " 2   runtimeNorm     2998 non-null   float64\n",
      " 3   budgetNorm      3000 non-null   float64\n",
      "dtypes: float64(3), int64(1)\n",
      "memory usage: 197.2 KB\n",
      "X shape (3000, 3)\n",
      "y shape (3000,)\n",
      "[1.4980005e+07 9.3920000e+03 1.3022756e+07 ... 4.0142100e+05 4.1895491e+07\n",
      " 8.1045500e+05]\n"
     ]
    }
   ],
   "source": [
    "data[\"runtimeNorm\"].fillna(0)\n",
    "data[ [\"revenue\",\"popularityNorm\", \"runtimeNorm\", \"budgetNorm\"]].info()\n",
    "dataset = data[ [\"revenue\",\"popularityNorm\", \"runtimeNorm\", \"budgetNorm\"]].astype(float).values\n",
    "\n",
    "\n",
    "X = dataset[:,1:]\n",
    "print(\"X shape\", X.shape)\n",
    "\n",
    "# get class label\n",
    "y = dataset[:,0]\n",
    "print(\"y shape\", y.shape)\n",
    "print (y)"
   ]
  },
  {
   "cell_type": "code",
   "execution_count": 28,
   "metadata": {},
   "outputs": [
    {
     "ename": "ValueError",
     "evalue": "Input contains NaN, infinity or a value too large for dtype('float64').",
     "output_type": "error",
     "traceback": [
      "\u001b[1;31m---------------------------------------------------------------------------\u001b[0m",
      "\u001b[1;31mValueError\u001b[0m                                Traceback (most recent call last)",
      "\u001b[1;32m<ipython-input-28-8c6398ca7132>\u001b[0m in \u001b[0;36m<module>\u001b[1;34m\u001b[0m\n\u001b[0;32m      2\u001b[0m \u001b[1;33m\u001b[0m\u001b[0m\n\u001b[0;32m      3\u001b[0m \u001b[0mkNN\u001b[0m \u001b[1;33m=\u001b[0m \u001b[0mneighbors\u001b[0m\u001b[1;33m.\u001b[0m\u001b[0mKNeighborsClassifier\u001b[0m\u001b[1;33m(\u001b[0m\u001b[0mn_neighbors\u001b[0m\u001b[1;33m=\u001b[0m\u001b[1;36m10\u001b[0m\u001b[1;33m)\u001b[0m\u001b[1;33m\u001b[0m\u001b[1;33m\u001b[0m\u001b[0m\n\u001b[1;32m----> 4\u001b[1;33m \u001b[0mkNN\u001b[0m\u001b[1;33m.\u001b[0m\u001b[0mfit\u001b[0m\u001b[1;33m(\u001b[0m\u001b[0mX\u001b[0m\u001b[1;33m,\u001b[0m\u001b[0my\u001b[0m\u001b[1;33m)\u001b[0m\u001b[1;33m\u001b[0m\u001b[1;33m\u001b[0m\u001b[0m\n\u001b[0m\u001b[0;32m      5\u001b[0m \u001b[1;33m\u001b[0m\u001b[0m\n\u001b[0;32m      6\u001b[0m \u001b[0my_pred\u001b[0m \u001b[1;33m=\u001b[0m \u001b[0mkNN\u001b[0m\u001b[1;33m.\u001b[0m\u001b[0mpredict\u001b[0m\u001b[1;33m(\u001b[0m\u001b[0mX\u001b[0m\u001b[1;33m)\u001b[0m\u001b[1;33m\u001b[0m\u001b[1;33m\u001b[0m\u001b[0m\n",
      "\u001b[1;32m~\\anaconda3\\lib\\site-packages\\sklearn\\neighbors\\_base.py\u001b[0m in \u001b[0;36mfit\u001b[1;34m(self, X, y)\u001b[0m\n\u001b[0;32m   1129\u001b[0m         \"\"\"\n\u001b[0;32m   1130\u001b[0m         \u001b[1;32mif\u001b[0m \u001b[1;32mnot\u001b[0m \u001b[0misinstance\u001b[0m\u001b[1;33m(\u001b[0m\u001b[0mX\u001b[0m\u001b[1;33m,\u001b[0m \u001b[1;33m(\u001b[0m\u001b[0mKDTree\u001b[0m\u001b[1;33m,\u001b[0m \u001b[0mBallTree\u001b[0m\u001b[1;33m)\u001b[0m\u001b[1;33m)\u001b[0m\u001b[1;33m:\u001b[0m\u001b[1;33m\u001b[0m\u001b[1;33m\u001b[0m\u001b[0m\n\u001b[1;32m-> 1131\u001b[1;33m             X, y = self._validate_data(X, y, accept_sparse=\"csr\",\n\u001b[0m\u001b[0;32m   1132\u001b[0m                                        multi_output=True)\n\u001b[0;32m   1133\u001b[0m \u001b[1;33m\u001b[0m\u001b[0m\n",
      "\u001b[1;32m~\\anaconda3\\lib\\site-packages\\sklearn\\base.py\u001b[0m in \u001b[0;36m_validate_data\u001b[1;34m(self, X, y, reset, validate_separately, **check_params)\u001b[0m\n\u001b[0;32m    430\u001b[0m                 \u001b[0my\u001b[0m \u001b[1;33m=\u001b[0m \u001b[0mcheck_array\u001b[0m\u001b[1;33m(\u001b[0m\u001b[0my\u001b[0m\u001b[1;33m,\u001b[0m \u001b[1;33m**\u001b[0m\u001b[0mcheck_y_params\u001b[0m\u001b[1;33m)\u001b[0m\u001b[1;33m\u001b[0m\u001b[1;33m\u001b[0m\u001b[0m\n\u001b[0;32m    431\u001b[0m             \u001b[1;32melse\u001b[0m\u001b[1;33m:\u001b[0m\u001b[1;33m\u001b[0m\u001b[1;33m\u001b[0m\u001b[0m\n\u001b[1;32m--> 432\u001b[1;33m                 \u001b[0mX\u001b[0m\u001b[1;33m,\u001b[0m \u001b[0my\u001b[0m \u001b[1;33m=\u001b[0m \u001b[0mcheck_X_y\u001b[0m\u001b[1;33m(\u001b[0m\u001b[0mX\u001b[0m\u001b[1;33m,\u001b[0m \u001b[0my\u001b[0m\u001b[1;33m,\u001b[0m \u001b[1;33m**\u001b[0m\u001b[0mcheck_params\u001b[0m\u001b[1;33m)\u001b[0m\u001b[1;33m\u001b[0m\u001b[1;33m\u001b[0m\u001b[0m\n\u001b[0m\u001b[0;32m    433\u001b[0m             \u001b[0mout\u001b[0m \u001b[1;33m=\u001b[0m \u001b[0mX\u001b[0m\u001b[1;33m,\u001b[0m \u001b[0my\u001b[0m\u001b[1;33m\u001b[0m\u001b[1;33m\u001b[0m\u001b[0m\n\u001b[0;32m    434\u001b[0m \u001b[1;33m\u001b[0m\u001b[0m\n",
      "\u001b[1;32m~\\anaconda3\\lib\\site-packages\\sklearn\\utils\\validation.py\u001b[0m in \u001b[0;36minner_f\u001b[1;34m(*args, **kwargs)\u001b[0m\n\u001b[0;32m     70\u001b[0m                           FutureWarning)\n\u001b[0;32m     71\u001b[0m         \u001b[0mkwargs\u001b[0m\u001b[1;33m.\u001b[0m\u001b[0mupdate\u001b[0m\u001b[1;33m(\u001b[0m\u001b[1;33m{\u001b[0m\u001b[0mk\u001b[0m\u001b[1;33m:\u001b[0m \u001b[0marg\u001b[0m \u001b[1;32mfor\u001b[0m \u001b[0mk\u001b[0m\u001b[1;33m,\u001b[0m \u001b[0marg\u001b[0m \u001b[1;32min\u001b[0m \u001b[0mzip\u001b[0m\u001b[1;33m(\u001b[0m\u001b[0msig\u001b[0m\u001b[1;33m.\u001b[0m\u001b[0mparameters\u001b[0m\u001b[1;33m,\u001b[0m \u001b[0margs\u001b[0m\u001b[1;33m)\u001b[0m\u001b[1;33m}\u001b[0m\u001b[1;33m)\u001b[0m\u001b[1;33m\u001b[0m\u001b[1;33m\u001b[0m\u001b[0m\n\u001b[1;32m---> 72\u001b[1;33m         \u001b[1;32mreturn\u001b[0m \u001b[0mf\u001b[0m\u001b[1;33m(\u001b[0m\u001b[1;33m**\u001b[0m\u001b[0mkwargs\u001b[0m\u001b[1;33m)\u001b[0m\u001b[1;33m\u001b[0m\u001b[1;33m\u001b[0m\u001b[0m\n\u001b[0m\u001b[0;32m     73\u001b[0m     \u001b[1;32mreturn\u001b[0m \u001b[0minner_f\u001b[0m\u001b[1;33m\u001b[0m\u001b[1;33m\u001b[0m\u001b[0m\n\u001b[0;32m     74\u001b[0m \u001b[1;33m\u001b[0m\u001b[0m\n",
      "\u001b[1;32m~\\anaconda3\\lib\\site-packages\\sklearn\\utils\\validation.py\u001b[0m in \u001b[0;36mcheck_X_y\u001b[1;34m(X, y, accept_sparse, accept_large_sparse, dtype, order, copy, force_all_finite, ensure_2d, allow_nd, multi_output, ensure_min_samples, ensure_min_features, y_numeric, estimator)\u001b[0m\n\u001b[0;32m    793\u001b[0m         \u001b[1;32mraise\u001b[0m \u001b[0mValueError\u001b[0m\u001b[1;33m(\u001b[0m\u001b[1;34m\"y cannot be None\"\u001b[0m\u001b[1;33m)\u001b[0m\u001b[1;33m\u001b[0m\u001b[1;33m\u001b[0m\u001b[0m\n\u001b[0;32m    794\u001b[0m \u001b[1;33m\u001b[0m\u001b[0m\n\u001b[1;32m--> 795\u001b[1;33m     X = check_array(X, accept_sparse=accept_sparse,\n\u001b[0m\u001b[0;32m    796\u001b[0m                     \u001b[0maccept_large_sparse\u001b[0m\u001b[1;33m=\u001b[0m\u001b[0maccept_large_sparse\u001b[0m\u001b[1;33m,\u001b[0m\u001b[1;33m\u001b[0m\u001b[1;33m\u001b[0m\u001b[0m\n\u001b[0;32m    797\u001b[0m                     \u001b[0mdtype\u001b[0m\u001b[1;33m=\u001b[0m\u001b[0mdtype\u001b[0m\u001b[1;33m,\u001b[0m \u001b[0morder\u001b[0m\u001b[1;33m=\u001b[0m\u001b[0morder\u001b[0m\u001b[1;33m,\u001b[0m \u001b[0mcopy\u001b[0m\u001b[1;33m=\u001b[0m\u001b[0mcopy\u001b[0m\u001b[1;33m,\u001b[0m\u001b[1;33m\u001b[0m\u001b[1;33m\u001b[0m\u001b[0m\n",
      "\u001b[1;32m~\\anaconda3\\lib\\site-packages\\sklearn\\utils\\validation.py\u001b[0m in \u001b[0;36minner_f\u001b[1;34m(*args, **kwargs)\u001b[0m\n\u001b[0;32m     70\u001b[0m                           FutureWarning)\n\u001b[0;32m     71\u001b[0m         \u001b[0mkwargs\u001b[0m\u001b[1;33m.\u001b[0m\u001b[0mupdate\u001b[0m\u001b[1;33m(\u001b[0m\u001b[1;33m{\u001b[0m\u001b[0mk\u001b[0m\u001b[1;33m:\u001b[0m \u001b[0marg\u001b[0m \u001b[1;32mfor\u001b[0m \u001b[0mk\u001b[0m\u001b[1;33m,\u001b[0m \u001b[0marg\u001b[0m \u001b[1;32min\u001b[0m \u001b[0mzip\u001b[0m\u001b[1;33m(\u001b[0m\u001b[0msig\u001b[0m\u001b[1;33m.\u001b[0m\u001b[0mparameters\u001b[0m\u001b[1;33m,\u001b[0m \u001b[0margs\u001b[0m\u001b[1;33m)\u001b[0m\u001b[1;33m}\u001b[0m\u001b[1;33m)\u001b[0m\u001b[1;33m\u001b[0m\u001b[1;33m\u001b[0m\u001b[0m\n\u001b[1;32m---> 72\u001b[1;33m         \u001b[1;32mreturn\u001b[0m \u001b[0mf\u001b[0m\u001b[1;33m(\u001b[0m\u001b[1;33m**\u001b[0m\u001b[0mkwargs\u001b[0m\u001b[1;33m)\u001b[0m\u001b[1;33m\u001b[0m\u001b[1;33m\u001b[0m\u001b[0m\n\u001b[0m\u001b[0;32m     73\u001b[0m     \u001b[1;32mreturn\u001b[0m \u001b[0minner_f\u001b[0m\u001b[1;33m\u001b[0m\u001b[1;33m\u001b[0m\u001b[0m\n\u001b[0;32m     74\u001b[0m \u001b[1;33m\u001b[0m\u001b[0m\n",
      "\u001b[1;32m~\\anaconda3\\lib\\site-packages\\sklearn\\utils\\validation.py\u001b[0m in \u001b[0;36mcheck_array\u001b[1;34m(array, accept_sparse, accept_large_sparse, dtype, order, copy, force_all_finite, ensure_2d, allow_nd, ensure_min_samples, ensure_min_features, estimator)\u001b[0m\n\u001b[0;32m    642\u001b[0m \u001b[1;33m\u001b[0m\u001b[0m\n\u001b[0;32m    643\u001b[0m         \u001b[1;32mif\u001b[0m \u001b[0mforce_all_finite\u001b[0m\u001b[1;33m:\u001b[0m\u001b[1;33m\u001b[0m\u001b[1;33m\u001b[0m\u001b[0m\n\u001b[1;32m--> 644\u001b[1;33m             _assert_all_finite(array,\n\u001b[0m\u001b[0;32m    645\u001b[0m                                allow_nan=force_all_finite == 'allow-nan')\n\u001b[0;32m    646\u001b[0m \u001b[1;33m\u001b[0m\u001b[0m\n",
      "\u001b[1;32m~\\anaconda3\\lib\\site-packages\\sklearn\\utils\\validation.py\u001b[0m in \u001b[0;36m_assert_all_finite\u001b[1;34m(X, allow_nan, msg_dtype)\u001b[0m\n\u001b[0;32m     94\u001b[0m                 not allow_nan and not np.isfinite(X).all()):\n\u001b[0;32m     95\u001b[0m             \u001b[0mtype_err\u001b[0m \u001b[1;33m=\u001b[0m \u001b[1;34m'infinity'\u001b[0m \u001b[1;32mif\u001b[0m \u001b[0mallow_nan\u001b[0m \u001b[1;32melse\u001b[0m \u001b[1;34m'NaN, infinity'\u001b[0m\u001b[1;33m\u001b[0m\u001b[1;33m\u001b[0m\u001b[0m\n\u001b[1;32m---> 96\u001b[1;33m             raise ValueError(\n\u001b[0m\u001b[0;32m     97\u001b[0m                     \u001b[0mmsg_err\u001b[0m\u001b[1;33m.\u001b[0m\u001b[0mformat\u001b[0m\u001b[1;33m\u001b[0m\u001b[1;33m\u001b[0m\u001b[0m\n\u001b[0;32m     98\u001b[0m                     (type_err,\n",
      "\u001b[1;31mValueError\u001b[0m: Input contains NaN, infinity or a value too large for dtype('float64')."
     ]
    }
   ],
   "source": [
    "from sklearn import neighbors\n",
    "\n",
    "kNN = neighbors.KNeighborsClassifier(n_neighbors=10)\n",
    "kNN.fit(X,y)\n",
    "\n",
    "y_pred = kNN.predict(X)\n",
    "\n",
    "\n",
    "print (\"predicted\", y_pred)\n",
    "print (\"true\", y)\n",
    "\n",
    "\n",
    "from sklearn.metrics import accuracy_score\n",
    "\n",
    "# compute Accuracy\n",
    "print (\"Accuracy\")\n",
    "print ( accuracy_score(y_true=y, y_pred=y_pred) )"
   ]
  },
  {
   "cell_type": "code",
   "execution_count": 29,
   "metadata": {},
   "outputs": [
    {
     "data": {
      "text/plain": [
       "id                          1\n",
       "belongs_to_collection    2397\n",
       "budget                      1\n",
       "genres                      8\n",
       "imdb_id                     1\n",
       "original_language           1\n",
       "original_title              1\n",
       "overview                    9\n",
       "popularity                  1\n",
       "poster_path                 2\n",
       "production_companies      157\n",
       "production_countries       56\n",
       "release_date                1\n",
       "runtime                     3\n",
       "spoken_languages           21\n",
       "status                      1\n",
       "tagline                   598\n",
       "title                       1\n",
       "Keywords                  277\n",
       "cast                       14\n",
       "crew                       17\n",
       "revenue                     1\n",
       "release_year                1\n",
       "popularityNorm              1\n",
       "budgetNorm                  1\n",
       "runtimeNorm                 3\n",
       "NaN                      3000\n",
       "dtype: int64"
      ]
     },
     "execution_count": 29,
     "metadata": {},
     "output_type": "execute_result"
    }
   ],
   "source": [
    "import math\n",
    "\n",
    "data.isna().sum()\n",
    "        \n",
    "for elem in data1[\"runtimeNorm\"]:\n",
    "    if math.isnan(elem):\n",
    "        data.at[\"runtimeNorm\", elem] = 0\n",
    "\n",
    "data1.isna().sum()\n",
    "          "
   ]
=======
   "source": []
>>>>>>> parent of 6912994 (Working on knn)
  },
  {
   "cell_type": "code",
   "execution_count": null,
   "metadata": {},
   "outputs": [],
   "source": []
  }
 ],
 "metadata": {
  "kernelspec": {
   "display_name": "Python 3",
   "language": "python",
   "name": "python3"
  },
  "language_info": {
   "codemirror_mode": {
    "name": "ipython",
    "version": 3
   },
   "file_extension": ".py",
   "mimetype": "text/x-python",
   "name": "python",
   "nbconvert_exporter": "python",
   "pygments_lexer": "ipython3",
   "version": "3.8.5"
  }
 },
 "nbformat": 4,
 "nbformat_minor": 4
}
