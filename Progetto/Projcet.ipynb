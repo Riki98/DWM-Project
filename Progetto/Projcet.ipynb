{
 "cells": [
  {
   "cell_type": "code",
   "execution_count": 1,
   "metadata": {},
   "outputs": [
    {
     "name": "stdout",
     "output_type": "stream",
     "text": [
      "C:\\Users\\Riccardo\\Desktop\\DWM\n"
     ]
    }
   ],
   "source": [
    "import os\n",
    "print(os.getcwd())"
   ]
  },
  {
   "cell_type": "code",
   "execution_count": 2,
   "metadata": {
    "scrolled": true
   },
   "outputs": [
    {
     "data": {
      "text/html": [
       "<div>\n",
       "<style scoped>\n",
       "    .dataframe tbody tr th:only-of-type {\n",
       "        vertical-align: middle;\n",
       "    }\n",
       "\n",
       "    .dataframe tbody tr th {\n",
       "        vertical-align: top;\n",
       "    }\n",
       "\n",
       "    .dataframe thead th {\n",
       "        text-align: right;\n",
       "    }\n",
       "</style>\n",
       "<table border=\"1\" class=\"dataframe\">\n",
       "  <thead>\n",
       "    <tr style=\"text-align: right;\">\n",
       "      <th></th>\n",
       "      <th>id</th>\n",
       "      <th>belongs_to_collection</th>\n",
       "      <th>budget</th>\n",
       "      <th>genres</th>\n",
       "      <th>homepage</th>\n",
       "      <th>imdb_id</th>\n",
       "      <th>original_language</th>\n",
       "      <th>original_title</th>\n",
       "      <th>overview</th>\n",
       "      <th>popularity</th>\n",
       "      <th>...</th>\n",
       "      <th>release_date</th>\n",
       "      <th>runtime</th>\n",
       "      <th>spoken_languages</th>\n",
       "      <th>status</th>\n",
       "      <th>tagline</th>\n",
       "      <th>title</th>\n",
       "      <th>Keywords</th>\n",
       "      <th>cast</th>\n",
       "      <th>crew</th>\n",
       "      <th>revenue</th>\n",
       "    </tr>\n",
       "  </thead>\n",
       "  <tbody>\n",
       "    <tr>\n",
       "      <th>0</th>\n",
       "      <td>1</td>\n",
       "      <td>[{'id': 313576, 'name': 'Hot Tub Time Machine ...</td>\n",
       "      <td>14000000</td>\n",
       "      <td>[{'id': 35, 'name': 'Comedy'}]</td>\n",
       "      <td>NaN</td>\n",
       "      <td>tt2637294</td>\n",
       "      <td>en</td>\n",
       "      <td>Hot Tub Time Machine 2</td>\n",
       "      <td>When Lou, who has become the \"father of the In...</td>\n",
       "      <td>6.575393</td>\n",
       "      <td>...</td>\n",
       "      <td>2/20/15</td>\n",
       "      <td>93.0</td>\n",
       "      <td>[{'iso_639_1': 'en', 'name': 'English'}]</td>\n",
       "      <td>Released</td>\n",
       "      <td>The Laws of Space and Time are About to be Vio...</td>\n",
       "      <td>Hot Tub Time Machine 2</td>\n",
       "      <td>[{'id': 4379, 'name': 'time travel'}, {'id': 9...</td>\n",
       "      <td>[{'cast_id': 4, 'character': 'Lou', 'credit_id...</td>\n",
       "      <td>[{'credit_id': '59ac067c92514107af02c8c8', 'de...</td>\n",
       "      <td>12314651</td>\n",
       "    </tr>\n",
       "    <tr>\n",
       "      <th>1</th>\n",
       "      <td>2</td>\n",
       "      <td>[{'id': 107674, 'name': 'The Princess Diaries ...</td>\n",
       "      <td>40000000</td>\n",
       "      <td>[{'id': 35, 'name': 'Comedy'}, {'id': 18, 'nam...</td>\n",
       "      <td>NaN</td>\n",
       "      <td>tt0368933</td>\n",
       "      <td>en</td>\n",
       "      <td>The Princess Diaries 2: Royal Engagement</td>\n",
       "      <td>Mia Thermopolis is now a college graduate and ...</td>\n",
       "      <td>8.248895</td>\n",
       "      <td>...</td>\n",
       "      <td>8/6/04</td>\n",
       "      <td>113.0</td>\n",
       "      <td>[{'iso_639_1': 'en', 'name': 'English'}]</td>\n",
       "      <td>Released</td>\n",
       "      <td>It can take a lifetime to find true love; she'...</td>\n",
       "      <td>The Princess Diaries 2: Royal Engagement</td>\n",
       "      <td>[{'id': 2505, 'name': 'coronation'}, {'id': 42...</td>\n",
       "      <td>[{'cast_id': 1, 'character': 'Mia Thermopolis'...</td>\n",
       "      <td>[{'credit_id': '52fe43fe9251416c7502563d', 'de...</td>\n",
       "      <td>95149435</td>\n",
       "    </tr>\n",
       "    <tr>\n",
       "      <th>2</th>\n",
       "      <td>3</td>\n",
       "      <td>NaN</td>\n",
       "      <td>3300000</td>\n",
       "      <td>[{'id': 18, 'name': 'Drama'}]</td>\n",
       "      <td>http://sonyclassics.com/whiplash/</td>\n",
       "      <td>tt2582802</td>\n",
       "      <td>en</td>\n",
       "      <td>Whiplash</td>\n",
       "      <td>Under the direction of a ruthless instructor, ...</td>\n",
       "      <td>64.299990</td>\n",
       "      <td>...</td>\n",
       "      <td>10/10/14</td>\n",
       "      <td>105.0</td>\n",
       "      <td>[{'iso_639_1': 'en', 'name': 'English'}]</td>\n",
       "      <td>Released</td>\n",
       "      <td>The road to greatness can take you to the edge.</td>\n",
       "      <td>Whiplash</td>\n",
       "      <td>[{'id': 1416, 'name': 'jazz'}, {'id': 1523, 'n...</td>\n",
       "      <td>[{'cast_id': 5, 'character': 'Andrew Neimann',...</td>\n",
       "      <td>[{'credit_id': '54d5356ec3a3683ba0000039', 'de...</td>\n",
       "      <td>13092000</td>\n",
       "    </tr>\n",
       "    <tr>\n",
       "      <th>3</th>\n",
       "      <td>4</td>\n",
       "      <td>NaN</td>\n",
       "      <td>1200000</td>\n",
       "      <td>[{'id': 53, 'name': 'Thriller'}, {'id': 18, 'n...</td>\n",
       "      <td>http://kahaanithefilm.com/</td>\n",
       "      <td>tt1821480</td>\n",
       "      <td>hi</td>\n",
       "      <td>Kahaani</td>\n",
       "      <td>Vidya Bagchi (Vidya Balan) arrives in Kolkata ...</td>\n",
       "      <td>3.174936</td>\n",
       "      <td>...</td>\n",
       "      <td>3/9/12</td>\n",
       "      <td>122.0</td>\n",
       "      <td>[{'iso_639_1': 'en', 'name': 'English'}, {'iso...</td>\n",
       "      <td>Released</td>\n",
       "      <td>NaN</td>\n",
       "      <td>Kahaani</td>\n",
       "      <td>[{'id': 10092, 'name': 'mystery'}, {'id': 1054...</td>\n",
       "      <td>[{'cast_id': 1, 'character': 'Vidya Bagchi', '...</td>\n",
       "      <td>[{'credit_id': '52fe48779251416c9108d6eb', 'de...</td>\n",
       "      <td>16000000</td>\n",
       "    </tr>\n",
       "    <tr>\n",
       "      <th>4</th>\n",
       "      <td>5</td>\n",
       "      <td>NaN</td>\n",
       "      <td>0</td>\n",
       "      <td>[{'id': 28, 'name': 'Action'}, {'id': 53, 'nam...</td>\n",
       "      <td>NaN</td>\n",
       "      <td>tt1380152</td>\n",
       "      <td>ko</td>\n",
       "      <td>마린보이</td>\n",
       "      <td>Marine Boy is the story of a former national s...</td>\n",
       "      <td>1.148070</td>\n",
       "      <td>...</td>\n",
       "      <td>2/5/09</td>\n",
       "      <td>118.0</td>\n",
       "      <td>[{'iso_639_1': 'ko', 'name': '한국어/조선말'}]</td>\n",
       "      <td>Released</td>\n",
       "      <td>NaN</td>\n",
       "      <td>Marine Boy</td>\n",
       "      <td>NaN</td>\n",
       "      <td>[{'cast_id': 3, 'character': 'Chun-soo', 'cred...</td>\n",
       "      <td>[{'credit_id': '52fe464b9251416c75073b43', 'de...</td>\n",
       "      <td>3923970</td>\n",
       "    </tr>\n",
       "    <tr>\n",
       "      <th>...</th>\n",
       "      <td>...</td>\n",
       "      <td>...</td>\n",
       "      <td>...</td>\n",
       "      <td>...</td>\n",
       "      <td>...</td>\n",
       "      <td>...</td>\n",
       "      <td>...</td>\n",
       "      <td>...</td>\n",
       "      <td>...</td>\n",
       "      <td>...</td>\n",
       "      <td>...</td>\n",
       "      <td>...</td>\n",
       "      <td>...</td>\n",
       "      <td>...</td>\n",
       "      <td>...</td>\n",
       "      <td>...</td>\n",
       "      <td>...</td>\n",
       "      <td>...</td>\n",
       "      <td>...</td>\n",
       "      <td>...</td>\n",
       "      <td>...</td>\n",
       "    </tr>\n",
       "    <tr>\n",
       "      <th>95</th>\n",
       "      <td>96</td>\n",
       "      <td>NaN</td>\n",
       "      <td>0</td>\n",
       "      <td>[{'id': 18, 'name': 'Drama'}]</td>\n",
       "      <td>NaN</td>\n",
       "      <td>tt2569398</td>\n",
       "      <td>ru</td>\n",
       "      <td>Со мною вот что происходит</td>\n",
       "      <td>December, 31st. Impossible Moscow traffic, an ...</td>\n",
       "      <td>0.181963</td>\n",
       "      <td>...</td>\n",
       "      <td>12/9/12</td>\n",
       "      <td>72.0</td>\n",
       "      <td>[{'iso_639_1': 'ru', 'name': 'Pусский'}]</td>\n",
       "      <td>Released</td>\n",
       "      <td>NaN</td>\n",
       "      <td>And Here's What's Happening to Me</td>\n",
       "      <td>NaN</td>\n",
       "      <td>[{'cast_id': 4, 'character': 'Artyom', 'credit...</td>\n",
       "      <td>[{'credit_id': '52fe4b199251416c910cfbd9', 'de...</td>\n",
       "      <td>14353</td>\n",
       "    </tr>\n",
       "    <tr>\n",
       "      <th>96</th>\n",
       "      <td>97</td>\n",
       "      <td>NaN</td>\n",
       "      <td>2500000</td>\n",
       "      <td>[{'id': 28, 'name': 'Action'}, {'id': 35, 'nam...</td>\n",
       "      <td>NaN</td>\n",
       "      <td>tt1683921</td>\n",
       "      <td>fr</td>\n",
       "      <td>Nuit Blanche</td>\n",
       "      <td>Vincent is a crooked cop whose drug heist goes...</td>\n",
       "      <td>2.942355</td>\n",
       "      <td>...</td>\n",
       "      <td>11/14/11</td>\n",
       "      <td>98.0</td>\n",
       "      <td>[{'iso_639_1': 'fr', 'name': 'Français'}]</td>\n",
       "      <td>Released</td>\n",
       "      <td>NaN</td>\n",
       "      <td>Sleepless Night</td>\n",
       "      <td>NaN</td>\n",
       "      <td>[{'cast_id': 1, 'character': 'Vincent', 'credi...</td>\n",
       "      <td>[{'credit_id': '52fe49c0c3a368484e13dc9b', 'de...</td>\n",
       "      <td>3358</td>\n",
       "    </tr>\n",
       "    <tr>\n",
       "      <th>97</th>\n",
       "      <td>98</td>\n",
       "      <td>NaN</td>\n",
       "      <td>0</td>\n",
       "      <td>[{'id': 14, 'name': 'Fantasy'}, {'id': 18, 'na...</td>\n",
       "      <td>NaN</td>\n",
       "      <td>tt1772980</td>\n",
       "      <td>ru</td>\n",
       "      <td>Mishen</td>\n",
       "      <td>In the year 2020, a group of wealthy Moscovite...</td>\n",
       "      <td>1.042112</td>\n",
       "      <td>...</td>\n",
       "      <td>6/26/11</td>\n",
       "      <td>158.0</td>\n",
       "      <td>[{'iso_639_1': 'de', 'name': 'Deutsch'}, {'iso...</td>\n",
       "      <td>Released</td>\n",
       "      <td>NaN</td>\n",
       "      <td>Target</td>\n",
       "      <td>NaN</td>\n",
       "      <td>[{'cast_id': 1001, 'character': 'Victor', 'cre...</td>\n",
       "      <td>[{'credit_id': '58cdbad4c3a36850e9011085', 'de...</td>\n",
       "      <td>73000</td>\n",
       "    </tr>\n",
       "    <tr>\n",
       "      <th>98</th>\n",
       "      <td>99</td>\n",
       "      <td>NaN</td>\n",
       "      <td>10500000</td>\n",
       "      <td>[{'id': 16, 'name': 'Animation'}, {'id': 35, '...</td>\n",
       "      <td>NaN</td>\n",
       "      <td>tt1764625</td>\n",
       "      <td>es</td>\n",
       "      <td>Las aventuras de Tadeo Jones</td>\n",
       "      <td>Tad is a celebrity archeologist and adventurer...</td>\n",
       "      <td>11.003515</td>\n",
       "      <td>...</td>\n",
       "      <td>8/31/12</td>\n",
       "      <td>90.0</td>\n",
       "      <td>[{'iso_639_1': 'es', 'name': 'Español'}, {'iso...</td>\n",
       "      <td>Released</td>\n",
       "      <td>No whip, no gun...All fun!</td>\n",
       "      <td>Tad, the Lost Explorer</td>\n",
       "      <td>[{'id': 720, 'name': 'helicopter'}, {'id': 145...</td>\n",
       "      <td>[{'cast_id': 2, 'character': 'Sara', 'credit_i...</td>\n",
       "      <td>[{'credit_id': '52fe4a6bc3a368484e15241f', 'de...</td>\n",
       "      <td>23000000</td>\n",
       "    </tr>\n",
       "    <tr>\n",
       "      <th>99</th>\n",
       "      <td>100</td>\n",
       "      <td>NaN</td>\n",
       "      <td>6000000</td>\n",
       "      <td>[{'id': 28, 'name': 'Action'}, {'id': 80, 'nam...</td>\n",
       "      <td>NaN</td>\n",
       "      <td>tt0094894</td>\n",
       "      <td>en</td>\n",
       "      <td>Colors</td>\n",
       "      <td>A confident young cop is shown the ropes by a ...</td>\n",
       "      <td>5.529808</td>\n",
       "      <td>...</td>\n",
       "      <td>4/15/88</td>\n",
       "      <td>120.0</td>\n",
       "      <td>[{'iso_639_1': 'en', 'name': 'English'}, {'iso...</td>\n",
       "      <td>Released</td>\n",
       "      <td>70,000 gang members. One million guns. Two cops.</td>\n",
       "      <td>Colors</td>\n",
       "      <td>[{'id': 796, 'name': 'police brutality'}, {'id...</td>\n",
       "      <td>[{'cast_id': 1, 'character': 'Officer Danny Mc...</td>\n",
       "      <td>[{'credit_id': '52fe432f9251416c75006ac5', 'de...</td>\n",
       "      <td>46616067</td>\n",
       "    </tr>\n",
       "  </tbody>\n",
       "</table>\n",
       "<p>100 rows × 23 columns</p>\n",
       "</div>"
      ],
      "text/plain": [
       "     id                              belongs_to_collection    budget  \\\n",
       "0     1  [{'id': 313576, 'name': 'Hot Tub Time Machine ...  14000000   \n",
       "1     2  [{'id': 107674, 'name': 'The Princess Diaries ...  40000000   \n",
       "2     3                                                NaN   3300000   \n",
       "3     4                                                NaN   1200000   \n",
       "4     5                                                NaN         0   \n",
       "..  ...                                                ...       ...   \n",
       "95   96                                                NaN         0   \n",
       "96   97                                                NaN   2500000   \n",
       "97   98                                                NaN         0   \n",
       "98   99                                                NaN  10500000   \n",
       "99  100                                                NaN   6000000   \n",
       "\n",
       "                                               genres  \\\n",
       "0                      [{'id': 35, 'name': 'Comedy'}]   \n",
       "1   [{'id': 35, 'name': 'Comedy'}, {'id': 18, 'nam...   \n",
       "2                       [{'id': 18, 'name': 'Drama'}]   \n",
       "3   [{'id': 53, 'name': 'Thriller'}, {'id': 18, 'n...   \n",
       "4   [{'id': 28, 'name': 'Action'}, {'id': 53, 'nam...   \n",
       "..                                                ...   \n",
       "95                      [{'id': 18, 'name': 'Drama'}]   \n",
       "96  [{'id': 28, 'name': 'Action'}, {'id': 35, 'nam...   \n",
       "97  [{'id': 14, 'name': 'Fantasy'}, {'id': 18, 'na...   \n",
       "98  [{'id': 16, 'name': 'Animation'}, {'id': 35, '...   \n",
       "99  [{'id': 28, 'name': 'Action'}, {'id': 80, 'nam...   \n",
       "\n",
       "                             homepage    imdb_id original_language  \\\n",
       "0                                 NaN  tt2637294                en   \n",
       "1                                 NaN  tt0368933                en   \n",
       "2   http://sonyclassics.com/whiplash/  tt2582802                en   \n",
       "3          http://kahaanithefilm.com/  tt1821480                hi   \n",
       "4                                 NaN  tt1380152                ko   \n",
       "..                                ...        ...               ...   \n",
       "95                                NaN  tt2569398                ru   \n",
       "96                                NaN  tt1683921                fr   \n",
       "97                                NaN  tt1772980                ru   \n",
       "98                                NaN  tt1764625                es   \n",
       "99                                NaN  tt0094894                en   \n",
       "\n",
       "                              original_title  \\\n",
       "0                     Hot Tub Time Machine 2   \n",
       "1   The Princess Diaries 2: Royal Engagement   \n",
       "2                                   Whiplash   \n",
       "3                                    Kahaani   \n",
       "4                                       마린보이   \n",
       "..                                       ...   \n",
       "95                Со мною вот что происходит   \n",
       "96                              Nuit Blanche   \n",
       "97                                    Mishen   \n",
       "98              Las aventuras de Tadeo Jones   \n",
       "99                                    Colors   \n",
       "\n",
       "                                             overview  popularity  ...  \\\n",
       "0   When Lou, who has become the \"father of the In...    6.575393  ...   \n",
       "1   Mia Thermopolis is now a college graduate and ...    8.248895  ...   \n",
       "2   Under the direction of a ruthless instructor, ...   64.299990  ...   \n",
       "3   Vidya Bagchi (Vidya Balan) arrives in Kolkata ...    3.174936  ...   \n",
       "4   Marine Boy is the story of a former national s...    1.148070  ...   \n",
       "..                                                ...         ...  ...   \n",
       "95  December, 31st. Impossible Moscow traffic, an ...    0.181963  ...   \n",
       "96  Vincent is a crooked cop whose drug heist goes...    2.942355  ...   \n",
       "97  In the year 2020, a group of wealthy Moscovite...    1.042112  ...   \n",
       "98  Tad is a celebrity archeologist and adventurer...   11.003515  ...   \n",
       "99  A confident young cop is shown the ropes by a ...    5.529808  ...   \n",
       "\n",
       "   release_date runtime                                   spoken_languages  \\\n",
       "0       2/20/15    93.0           [{'iso_639_1': 'en', 'name': 'English'}]   \n",
       "1        8/6/04   113.0           [{'iso_639_1': 'en', 'name': 'English'}]   \n",
       "2      10/10/14   105.0           [{'iso_639_1': 'en', 'name': 'English'}]   \n",
       "3        3/9/12   122.0  [{'iso_639_1': 'en', 'name': 'English'}, {'iso...   \n",
       "4        2/5/09   118.0           [{'iso_639_1': 'ko', 'name': '한국어/조선말'}]   \n",
       "..          ...     ...                                                ...   \n",
       "95      12/9/12    72.0           [{'iso_639_1': 'ru', 'name': 'Pусский'}]   \n",
       "96     11/14/11    98.0          [{'iso_639_1': 'fr', 'name': 'Français'}]   \n",
       "97      6/26/11   158.0  [{'iso_639_1': 'de', 'name': 'Deutsch'}, {'iso...   \n",
       "98      8/31/12    90.0  [{'iso_639_1': 'es', 'name': 'Español'}, {'iso...   \n",
       "99      4/15/88   120.0  [{'iso_639_1': 'en', 'name': 'English'}, {'iso...   \n",
       "\n",
       "      status                                            tagline  \\\n",
       "0   Released  The Laws of Space and Time are About to be Vio...   \n",
       "1   Released  It can take a lifetime to find true love; she'...   \n",
       "2   Released    The road to greatness can take you to the edge.   \n",
       "3   Released                                                NaN   \n",
       "4   Released                                                NaN   \n",
       "..       ...                                                ...   \n",
       "95  Released                                                NaN   \n",
       "96  Released                                                NaN   \n",
       "97  Released                                                NaN   \n",
       "98  Released                         No whip, no gun...All fun!   \n",
       "99  Released   70,000 gang members. One million guns. Two cops.   \n",
       "\n",
       "                                       title  \\\n",
       "0                     Hot Tub Time Machine 2   \n",
       "1   The Princess Diaries 2: Royal Engagement   \n",
       "2                                   Whiplash   \n",
       "3                                    Kahaani   \n",
       "4                                 Marine Boy   \n",
       "..                                       ...   \n",
       "95         And Here's What's Happening to Me   \n",
       "96                           Sleepless Night   \n",
       "97                                    Target   \n",
       "98                    Tad, the Lost Explorer   \n",
       "99                                    Colors   \n",
       "\n",
       "                                             Keywords  \\\n",
       "0   [{'id': 4379, 'name': 'time travel'}, {'id': 9...   \n",
       "1   [{'id': 2505, 'name': 'coronation'}, {'id': 42...   \n",
       "2   [{'id': 1416, 'name': 'jazz'}, {'id': 1523, 'n...   \n",
       "3   [{'id': 10092, 'name': 'mystery'}, {'id': 1054...   \n",
       "4                                                 NaN   \n",
       "..                                                ...   \n",
       "95                                                NaN   \n",
       "96                                                NaN   \n",
       "97                                                NaN   \n",
       "98  [{'id': 720, 'name': 'helicopter'}, {'id': 145...   \n",
       "99  [{'id': 796, 'name': 'police brutality'}, {'id...   \n",
       "\n",
       "                                                 cast  \\\n",
       "0   [{'cast_id': 4, 'character': 'Lou', 'credit_id...   \n",
       "1   [{'cast_id': 1, 'character': 'Mia Thermopolis'...   \n",
       "2   [{'cast_id': 5, 'character': 'Andrew Neimann',...   \n",
       "3   [{'cast_id': 1, 'character': 'Vidya Bagchi', '...   \n",
       "4   [{'cast_id': 3, 'character': 'Chun-soo', 'cred...   \n",
       "..                                                ...   \n",
       "95  [{'cast_id': 4, 'character': 'Artyom', 'credit...   \n",
       "96  [{'cast_id': 1, 'character': 'Vincent', 'credi...   \n",
       "97  [{'cast_id': 1001, 'character': 'Victor', 'cre...   \n",
       "98  [{'cast_id': 2, 'character': 'Sara', 'credit_i...   \n",
       "99  [{'cast_id': 1, 'character': 'Officer Danny Mc...   \n",
       "\n",
       "                                                 crew   revenue  \n",
       "0   [{'credit_id': '59ac067c92514107af02c8c8', 'de...  12314651  \n",
       "1   [{'credit_id': '52fe43fe9251416c7502563d', 'de...  95149435  \n",
       "2   [{'credit_id': '54d5356ec3a3683ba0000039', 'de...  13092000  \n",
       "3   [{'credit_id': '52fe48779251416c9108d6eb', 'de...  16000000  \n",
       "4   [{'credit_id': '52fe464b9251416c75073b43', 'de...   3923970  \n",
       "..                                                ...       ...  \n",
       "95  [{'credit_id': '52fe4b199251416c910cfbd9', 'de...     14353  \n",
       "96  [{'credit_id': '52fe49c0c3a368484e13dc9b', 'de...      3358  \n",
       "97  [{'credit_id': '58cdbad4c3a36850e9011085', 'de...     73000  \n",
       "98  [{'credit_id': '52fe4a6bc3a368484e15241f', 'de...  23000000  \n",
       "99  [{'credit_id': '52fe432f9251416c75006ac5', 'de...  46616067  \n",
       "\n",
       "[100 rows x 23 columns]"
      ]
     },
     "execution_count": 2,
     "metadata": {},
     "output_type": "execute_result"
    }
   ],
   "source": [
    "import pandas as pd \n",
    "data = pd.read_csv(\"train.csv\")\n",
    "data.head(100)"
   ]
  },
  {
   "cell_type": "code",
   "execution_count": 5,
   "metadata": {},
   "outputs": [
    {
     "name": "stdout",
     "output_type": "stream",
     "text": [
      "data.shape: (3000, 23)\n",
      "data.index: RangeIndex(start=0, stop=3000, step=1)\n",
      "data.columns: Index(['id', 'belongs_to_collection', 'budget', 'genres', 'homepage',\n",
      "       'imdb_id', 'original_language', 'original_title', 'overview',\n",
      "       'popularity', 'poster_path', 'production_companies',\n",
      "       'production_countries', 'release_date', 'runtime', 'spoken_languages',\n",
      "       'status', 'tagline', 'title', 'Keywords', 'cast', 'crew', 'revenue'],\n",
      "      dtype='object')\n"
     ]
    }
   ],
   "source": [
    "print(\"data.shape:\", data.shape)\n",
    "print(\"data.index:\", data.index)\n",
    "print(\"data.columns:\", data.columns)"
   ]
  },
  {
   "cell_type": "code",
   "execution_count": 6,
   "metadata": {},
   "outputs": [],
   "source": [
    "data.drop(['homepage'],axis=1,inplace=True)"
   ]
  },
  {
   "cell_type": "code",
   "execution_count": 7,
   "metadata": {},
   "outputs": [
    {
     "data": {
      "text/plain": [
       "0       [{'name': 'Paramount Pictures', 'id': 4}, {'na...\n",
       "1             [{'name': 'Walt Disney Pictures', 'id': 2}]\n",
       "2       [{'name': 'Bold Films', 'id': 2266}, {'name': ...\n",
       "3                                                     NaN\n",
       "4                                                     NaN\n",
       "                              ...                        \n",
       "2995    [{'name': 'Warner Bros.', 'id': 6194}, {'name'...\n",
       "2996    [{'name': 'Memfis Film', 'id': 321}, {'name': ...\n",
       "2997    [{'name': 'New Line Cinema', 'id': 12}, {'name...\n",
       "2998    [{'name': 'Jersey Films', 'id': 216}, {'name':...\n",
       "2999    [{'name': 'Lions Gate Films', 'id': 35}, {'nam...\n",
       "Name: production_companies, Length: 3000, dtype: object"
      ]
     },
     "execution_count": 7,
     "metadata": {},
     "output_type": "execute_result"
    }
   ],
   "source": [
    "data[\"production_companies\"]"
   ]
  },
  {
   "cell_type": "markdown",
   "metadata": {},
   "source": [
    "### data[\"genres\"]"
   ]
  },
  {
   "cell_type": "code",
   "execution_count": 8,
   "metadata": {},
   "outputs": [
    {
     "data": {
      "text/plain": [
       "id                          0\n",
       "belongs_to_collection    2396\n",
       "budget                      0\n",
       "genres                      7\n",
       "imdb_id                     0\n",
       "original_language           0\n",
       "original_title              0\n",
       "overview                    8\n",
       "popularity                  0\n",
       "poster_path                 1\n",
       "production_companies      156\n",
       "production_countries       55\n",
       "release_date                0\n",
       "runtime                     2\n",
       "spoken_languages           20\n",
       "status                      0\n",
       "tagline                   597\n",
       "title                       0\n",
       "Keywords                  276\n",
       "cast                       13\n",
       "crew                       16\n",
       "revenue                     0\n",
       "dtype: int64"
      ]
     },
     "execution_count": 8,
     "metadata": {},
     "output_type": "execute_result"
    }
   ],
   "source": [
    "data.isna().sum()"
   ]
  },
  {
   "cell_type": "code",
   "execution_count": 9,
   "metadata": {},
   "outputs": [],
   "source": [
    "def convertAll():\n",
    "    import math\n",
    "    i=0\n",
    "    n_elem = data.shape[0]\n",
    "    while i<n_elem:\n",
    "        if isinstance(data[\"genres\"][i], float):\n",
    "            if math.isnan(data[\"genres\"][i]):\n",
    "                i+=1\n",
    "                continue\n",
    "        data[\"genres\"][i]=eval(data[\"genres\"][i]) \n",
    "        i+=1\n",
    "    \n",
    "    i=0\n",
    "    while i<n_elem:\n",
    "        if isinstance(data[\"production_countries\"][i], float):\n",
    "            if math.isnan(data[\"production_countries\"][i]):\n",
    "                i+=1\n",
    "                continue\n",
    "        data[\"production_countries\"][i]=eval(data[\"production_countries\"][i]) \n",
    "        i+=1\n",
    "    \n",
    "    i=0\n",
    "    while i<n_elem:\n",
    "        if isinstance(data[\"spoken_languages\"][i], float):\n",
    "            if math.isnan(data[\"spoken_languages\"][i]):\n",
    "                i+=1\n",
    "                continue\n",
    "        data[\"spoken_languages\"][i]=eval(data[\"spoken_languages\"][i]) \n",
    "        i+=1\n",
    "    \n",
    "    i=0\n",
    "    while i<n_elem:\n",
    "        if isinstance(data[\"Keywords\"][i], float):\n",
    "            if math.isnan(data[\"Keywords\"][i]):\n",
    "                i+=1\n",
    "                continue\n",
    "        data[\"Keywords\"][i]=eval(data[\"Keywords\"][i]) \n",
    "        i+=1\n",
    "    \n",
    "    i=0\n",
    "    while i<n_elem:\n",
    "        if isinstance(data[\"cast\"][i], float):\n",
    "            if math.isnan(data[\"cast\"][i]):\n",
    "                i+=1\n",
    "                continue\n",
    "        data[\"cast\"][i]=eval(data[\"cast\"][i]) \n",
    "        i+=1\n",
    "\n",
    "    i=0\n",
    "    while i<n_elem:\n",
    "        if isinstance(data[\"crew\"][i], float):\n",
    "            if math.isnan(data[\"crew\"][i]):\n",
    "                i+=1\n",
    "                continue\n",
    "        data[\"crew\"][i]=eval(data[\"crew\"][i]) \n",
    "        i+=1\n",
    "\n",
    "    i=0\n",
    "    while i<n_elem:\n",
    "        if isinstance(data[\"production_companies\"][i], float):\n",
    "            if math.isnan(data[\"production_companies\"][i]):\n",
    "                i+=1\n",
    "                continue\n",
    "        data[\"production_companies\"][i]=eval(data[\"production_companies\"][i])\n",
    "        i+=1\n"
   ]
  },
  {
   "cell_type": "code",
   "execution_count": 10,
   "metadata": {
    "scrolled": false
   },
   "outputs": [
    {
     "name": "stderr",
     "output_type": "stream",
     "text": [
      "<ipython-input-9-183aa8536cce>:10: SettingWithCopyWarning: \n",
      "A value is trying to be set on a copy of a slice from a DataFrame\n",
      "\n",
      "See the caveats in the documentation: https://pandas.pydata.org/pandas-docs/stable/user_guide/indexing.html#returning-a-view-versus-a-copy\n",
      "  data[\"genres\"][i]=eval(data[\"genres\"][i])\n",
      "<ipython-input-9-183aa8536cce>:19: SettingWithCopyWarning: \n",
      "A value is trying to be set on a copy of a slice from a DataFrame\n",
      "\n",
      "See the caveats in the documentation: https://pandas.pydata.org/pandas-docs/stable/user_guide/indexing.html#returning-a-view-versus-a-copy\n",
      "  data[\"production_countries\"][i]=eval(data[\"production_countries\"][i])\n",
      "<ipython-input-9-183aa8536cce>:28: SettingWithCopyWarning: \n",
      "A value is trying to be set on a copy of a slice from a DataFrame\n",
      "\n",
      "See the caveats in the documentation: https://pandas.pydata.org/pandas-docs/stable/user_guide/indexing.html#returning-a-view-versus-a-copy\n",
      "  data[\"spoken_languages\"][i]=eval(data[\"spoken_languages\"][i])\n",
      "<ipython-input-9-183aa8536cce>:37: SettingWithCopyWarning: \n",
      "A value is trying to be set on a copy of a slice from a DataFrame\n",
      "\n",
      "See the caveats in the documentation: https://pandas.pydata.org/pandas-docs/stable/user_guide/indexing.html#returning-a-view-versus-a-copy\n",
      "  data[\"Keywords\"][i]=eval(data[\"Keywords\"][i])\n",
      "<ipython-input-9-183aa8536cce>:46: SettingWithCopyWarning: \n",
      "A value is trying to be set on a copy of a slice from a DataFrame\n",
      "\n",
      "See the caveats in the documentation: https://pandas.pydata.org/pandas-docs/stable/user_guide/indexing.html#returning-a-view-versus-a-copy\n",
      "  data[\"cast\"][i]=eval(data[\"cast\"][i])\n",
      "<ipython-input-9-183aa8536cce>:55: SettingWithCopyWarning: \n",
      "A value is trying to be set on a copy of a slice from a DataFrame\n",
      "\n",
      "See the caveats in the documentation: https://pandas.pydata.org/pandas-docs/stable/user_guide/indexing.html#returning-a-view-versus-a-copy\n",
      "  data[\"crew\"][i]=eval(data[\"crew\"][i])\n",
      "<ipython-input-9-183aa8536cce>:64: SettingWithCopyWarning: \n",
      "A value is trying to be set on a copy of a slice from a DataFrame\n",
      "\n",
      "See the caveats in the documentation: https://pandas.pydata.org/pandas-docs/stable/user_guide/indexing.html#returning-a-view-versus-a-copy\n",
      "  data[\"production_companies\"][i]=eval(data[\"production_companies\"][i])\n"
     ]
    }
   ],
   "source": [
    "convertAll()"
   ]
  },
  {
   "cell_type": "code",
   "execution_count": 5,
   "metadata": {},
   "outputs": [],
   "source": [
    "def get_words (data):\n",
    "    import math\n",
    "    descrizioni = []\n",
    "    i=0\n",
    "    while i<1000:\n",
    "        if isinstance(data[\"overview\"][i], float):\n",
    "            if math.isnan(data[\"overview\"][i]):\n",
    "                empty_list=[]\n",
    "                descrizioni += empty_list\n",
    "                i+=1\n",
    "                continue\n",
    "        desc = data[\"overview\"][i]         # this is a string\n",
    "        words = desc.split() # this is a list\n",
    "        words = set(words)     # create a set\n",
    "        descrizioni += [words] # append words to the list\n",
    "        i=i+1\n",
    "    return descrizioni"
   ]
  },
  {
   "cell_type": "code",
   "execution_count": 4,
   "metadata": {},
   "outputs": [
    {
     "name": "stdout",
     "output_type": "stream",
     "text": [
      "{'when', 'him,', 'herself', 'end', 'the', '-', 'convince', 'child', 'not', 'she', 'Seven', 'Vidya', 'cost', 'city', 'truth', 'it', 'nothing', 'alone', 'to', 'everyone', 'does', 'of', 'a', 'Arnab', 'seem', 'except', 'seems.', 'at', 'With', 'about', 'missing', 'dead', 'what', 'Balan)', 'London', 'begins', 'memories', 'unravel', 'is', 'arrives', 'life.', 'soaked', 'rely', 'In', 'relentless', 'unborn', 'exist.', 'clues', 'reach', 'even', 'festive', 'her', 'husband.', 'on', 'determined', 'and', 'husband', '(Vidya', 'find', 'tries', 'own', 'Bagchi.', 'in', 'Bagchi', 'all', 'realises', 'search', 'slowly', 'months', 'for', 'She', 'Kolkata', 'from', 'lies,', 'fragments', 'that', 'pregnant', 'city,'}\n"
     ]
    }
   ],
   "source": [
    "lyrics_word_split = get_words(data)\n",
    "\n",
    "print ( lyrics_word_split[3] )"
   ]
  },
  {
   "cell_type": "code",
   "execution_count": 6,
   "metadata": {},
   "outputs": [],
   "source": [
    "def jaccard(a,b):\n",
    "    return len(a & b) / len( a | b)"
   ]
  },
  {
   "cell_type": "code",
   "execution_count": 7,
   "metadata": {},
   "outputs": [
    {
     "data": {
      "text/plain": [
       "0.06896551724137931"
      ]
     },
     "execution_count": 7,
     "metadata": {},
     "output_type": "execute_result"
    }
   ],
   "source": [
    "jaccard(lyrics_word_split[0],lyrics_word_split[123])"
   ]
  },
  {
   "cell_type": "code",
   "execution_count": 8,
   "metadata": {},
   "outputs": [],
   "source": [
    "def most_similar_jaccard(film_ricerca, lyrics_word_split):\n",
    "    most_similar_id=1\n",
    "    jaccard_most_similar=jaccard(lyrics_word_split[film_ricerca],lyrics_word_split[2])\n",
    "    list_size=len(lyrics_word_split)\n",
    "    current_id=2\n",
    "    while current_id<list_size:\n",
    "        current_sim=jaccard(lyrics_word_split[film_ricerca],lyrics_word_split[current_id])\n",
    "        if current_sim>jaccard_most_similar:\n",
    "            jaccard_most_similar=current_sim\n",
    "            most_similar_id=current_id\n",
    "        current_id=current_id+1\n",
    "    \n",
    "    return most_similar_id, jaccard_most_similar\n",
    "\n",
    "sim_id, sim_value = most_similar_jaccard(0, lyrics_word_split)"
   ]
  },
  {
   "cell_type": "code",
   "execution_count": 24,
   "metadata": {},
   "outputs": [
    {
     "data": {
      "text/plain": [
       "<matplotlib.collections.PathCollection at 0x1246bb8f310>"
      ]
     },
     "execution_count": 24,
     "metadata": {},
     "output_type": "execute_result"
    },
    {
     "data": {
      "image/png": "[encoded data removed]",
      "text/plain": [
       "<Figure size 1440x1440 with 1 Axes>"
      ]
     },
     "metadata": {
      "needs_background": "light"
     },
     "output_type": "display_data"
    }
   ],
   "source": [
    "# plot film with revenue on X and budget on Y. There are budget's row with 0 value.\n",
    "%matplotlib inline \n",
    "import matplotlib.pyplot as plt\n",
    "# use the following for more interactive plots\n",
    "# %matplotlib inline \n",
    "\n",
    "import numpy as np\n",
    "fig, ax = plt.subplots(figsize=(20,20))\n",
    "\n",
    "#https://stackoverflow.com/questions/31593201/how-are-iloc-and-loc-different\n",
    "ax.scatter(data.iloc[:, 2], data.iloc[:, 22])"
   ]
  },
  {
   "cell_type": "code",
   "execution_count": 15,
   "metadata": {},
   "outputs": [
    {
     "data": {
      "text/plain": [
       "id                          0\n",
       "belongs_to_collection    2396\n",
       "budget                      0\n",
       "genres                      7\n",
       "homepage                 2054\n",
       "imdb_id                     0\n",
       "original_language           0\n",
       "original_title              0\n",
       "overview                    8\n",
       "popularity                  0\n",
       "poster_path                 1\n",
       "production_companies      156\n",
       "production_countries       55\n",
       "release_date                0\n",
       "runtime                     2\n",
       "spoken_languages           20\n",
       "status                      0\n",
       "tagline                   597\n",
       "title                       0\n",
       "Keywords                  276\n",
       "cast                       13\n",
       "crew                       16\n",
       "revenue                     0\n",
       "dtype: int64"
      ]
     },
     "execution_count": 15,
     "metadata": {},
     "output_type": "execute_result"
    }
   ],
   "source": [
    "data.isna().sum()"
   ]
  },
  {
   "cell_type": "code",
   "execution_count": 19,
   "metadata": {},
   "outputs": [
    {
     "ename": "ValueError",
     "evalue": "Cannot use mean strategy with non-numeric data:\ncould not convert string to float: \"[{'id': 313576, 'name': 'Hot Tub Time Machine Collection', 'poster_path': '/iEhb00TGPucF0b4joM1ieyY026U.jpg', 'backdrop_path': '/noeTVcgpBiD48fDjFVic1Vz7ope.jpg'}]\"",
     "output_type": "error",
     "traceback": [
      "\u001b[1;31m---------------------------------------------------------------------------\u001b[0m",
      "\u001b[1;31mValueError\u001b[0m                                Traceback (most recent call last)",
      "\u001b[1;32m<ipython-input-19-c440ef7206d0>\u001b[0m in \u001b[0;36m<module>\u001b[1;34m\u001b[0m\n\u001b[0;32m      1\u001b[0m \u001b[1;32mfrom\u001b[0m \u001b[0msklearn\u001b[0m\u001b[1;33m.\u001b[0m\u001b[0mimpute\u001b[0m \u001b[1;32mimport\u001b[0m \u001b[0mSimpleImputer\u001b[0m\u001b[1;33m\u001b[0m\u001b[1;33m\u001b[0m\u001b[0m\n\u001b[0;32m      2\u001b[0m \u001b[0mimputer\u001b[0m \u001b[1;33m=\u001b[0m \u001b[0mSimpleImputer\u001b[0m\u001b[1;33m(\u001b[0m\u001b[0mmissing_values\u001b[0m \u001b[1;33m=\u001b[0m \u001b[0mnp\u001b[0m\u001b[1;33m.\u001b[0m\u001b[0mnan\u001b[0m\u001b[1;33m,\u001b[0m \u001b[0mstrategy\u001b[0m \u001b[1;33m=\u001b[0m \u001b[1;34m'mean'\u001b[0m\u001b[1;33m,\u001b[0m\u001b[0mverbose\u001b[0m\u001b[1;33m=\u001b[0m\u001b[1;36m0\u001b[0m\u001b[1;33m)\u001b[0m\u001b[1;33m\u001b[0m\u001b[1;33m\u001b[0m\u001b[0m\n\u001b[1;32m----> 3\u001b[1;33m \u001b[0mimputer\u001b[0m \u001b[1;33m=\u001b[0m \u001b[0mimputer\u001b[0m\u001b[1;33m.\u001b[0m\u001b[0mfit\u001b[0m\u001b[1;33m(\u001b[0m\u001b[0mdata\u001b[0m\u001b[1;33m.\u001b[0m\u001b[0miloc\u001b[0m\u001b[1;33m[\u001b[0m\u001b[1;33m:\u001b[0m\u001b[1;33m,\u001b[0m \u001b[1;36m1\u001b[0m\u001b[1;33m:\u001b[0m\u001b[1;36m3\u001b[0m\u001b[1;33m]\u001b[0m\u001b[1;33m)\u001b[0m\u001b[1;33m\u001b[0m\u001b[1;33m\u001b[0m\u001b[0m\n\u001b[0m\u001b[0;32m      4\u001b[0m \u001b[0mdata\u001b[0m\u001b[1;33m.\u001b[0m\u001b[0miloc\u001b[0m\u001b[1;33m[\u001b[0m\u001b[1;33m:\u001b[0m\u001b[1;33m,\u001b[0m \u001b[1;36m1\u001b[0m\u001b[1;33m:\u001b[0m\u001b[1;36m3\u001b[0m\u001b[1;33m]\u001b[0m \u001b[1;33m=\u001b[0m \u001b[0mimputer\u001b[0m\u001b[1;33m.\u001b[0m\u001b[0mtransform\u001b[0m\u001b[1;33m(\u001b[0m\u001b[0mdata\u001b[0m\u001b[1;33m.\u001b[0m\u001b[0miloc\u001b[0m\u001b[1;33m[\u001b[0m\u001b[1;33m:\u001b[0m\u001b[1;33m,\u001b[0m \u001b[1;36m1\u001b[0m\u001b[1;33m:\u001b[0m\u001b[1;36m3\u001b[0m\u001b[1;33m]\u001b[0m\u001b[1;33m)\u001b[0m\u001b[1;33m\u001b[0m\u001b[1;33m\u001b[0m\u001b[0m\n",
      "\u001b[1;32m~\\anaconda3\\lib\\site-packages\\sklearn\\impute\\_base.py\u001b[0m in \u001b[0;36mfit\u001b[1;34m(self, X, y)\u001b[0m\n\u001b[0;32m    275\u001b[0m         \u001b[0mself\u001b[0m \u001b[1;33m:\u001b[0m \u001b[0mSimpleImputer\u001b[0m\u001b[1;33m\u001b[0m\u001b[1;33m\u001b[0m\u001b[0m\n\u001b[0;32m    276\u001b[0m         \"\"\"\n\u001b[1;32m--> 277\u001b[1;33m         \u001b[0mX\u001b[0m \u001b[1;33m=\u001b[0m \u001b[0mself\u001b[0m\u001b[1;33m.\u001b[0m\u001b[0m_validate_input\u001b[0m\u001b[1;33m(\u001b[0m\u001b[0mX\u001b[0m\u001b[1;33m,\u001b[0m \u001b[0min_fit\u001b[0m\u001b[1;33m=\u001b[0m\u001b[1;32mTrue\u001b[0m\u001b[1;33m)\u001b[0m\u001b[1;33m\u001b[0m\u001b[1;33m\u001b[0m\u001b[0m\n\u001b[0m\u001b[0;32m    278\u001b[0m         \u001b[0msuper\u001b[0m\u001b[1;33m(\u001b[0m\u001b[1;33m)\u001b[0m\u001b[1;33m.\u001b[0m\u001b[0m_fit_indicator\u001b[0m\u001b[1;33m(\u001b[0m\u001b[0mX\u001b[0m\u001b[1;33m)\u001b[0m\u001b[1;33m\u001b[0m\u001b[1;33m\u001b[0m\u001b[0m\n\u001b[0;32m    279\u001b[0m \u001b[1;33m\u001b[0m\u001b[0m\n",
      "\u001b[1;32m~\\anaconda3\\lib\\site-packages\\sklearn\\impute\\_base.py\u001b[0m in \u001b[0;36m_validate_input\u001b[1;34m(self, X, in_fit)\u001b[0m\n\u001b[0;32m    247\u001b[0m                 new_ve = ValueError(\"Cannot use {} strategy with non-numeric \"\n\u001b[0;32m    248\u001b[0m                                     \"data:\\n{}\".format(self.strategy, ve))\n\u001b[1;32m--> 249\u001b[1;33m                 \u001b[1;32mraise\u001b[0m \u001b[0mnew_ve\u001b[0m \u001b[1;32mfrom\u001b[0m \u001b[1;32mNone\u001b[0m\u001b[1;33m\u001b[0m\u001b[1;33m\u001b[0m\u001b[0m\n\u001b[0m\u001b[0;32m    250\u001b[0m             \u001b[1;32melse\u001b[0m\u001b[1;33m:\u001b[0m\u001b[1;33m\u001b[0m\u001b[1;33m\u001b[0m\u001b[0m\n\u001b[0;32m    251\u001b[0m                 \u001b[1;32mraise\u001b[0m \u001b[0mve\u001b[0m\u001b[1;33m\u001b[0m\u001b[1;33m\u001b[0m\u001b[0m\n",
      "\u001b[1;31mValueError\u001b[0m: Cannot use mean strategy with non-numeric data:\ncould not convert string to float: \"[{'id': 313576, 'name': 'Hot Tub Time Machine Collection', 'poster_path': '/iEhb00TGPucF0b4joM1ieyY026U.jpg', 'backdrop_path': '/noeTVcgpBiD48fDjFVic1Vz7ope.jpg'}]\""
     ]
    }
   ],
   "source": [
    "from sklearn.impute import SimpleImputer\n",
    "imputer = SimpleImputer(missing_values = np.nan, strategy = 'mean',verbose=0)\n",
    "imputer = imputer.fit(data.iloc[:, 1:3])\n",
    "data.iloc[:, 1:3] = imputer.transform(data.iloc[:, 1:3])"
   ]
  },
  {
   "cell_type": "code",
   "execution_count": 35,
   "metadata": {},
   "outputs": [
    {
     "name": "stdout",
     "output_type": "stream",
     "text": [
      "data_with_budget.shape: (2188, 23)\n"
     ]
    },
    {
     "data": {
      "text/plain": [
       "<matplotlib.collections.PathCollection at 0x1246e026ee0>"
      ]
     },
     "execution_count": 35,
     "metadata": {},
     "output_type": "execute_result"
    },
    {
     "data": {
      "image/png": "[encoded data removed]",
      "text/plain": [
       "<Figure size 1440x1440 with 1 Axes>"
      ]
     },
     "metadata": {
      "needs_background": "light"
     },
     "output_type": "display_data"
    }
   ],
   "source": [
    "data_with_budget = data[data[\"budget\"] != 0]\n",
    "print(\"data_with_budget.shape:\", data_with_budget.shape)\n",
    "sum(data_with_budget['budget'] == 0)\n",
    "\n",
    "fig, ax = plt.subplots(figsize=(20,20))\n",
    "\n",
    "ax.scatter(data_with_budget.iloc[:, 2], data_with_budget.iloc[:, 22])"
   ]
  },
  {
   "cell_type": "code",
   "execution_count": 46,
   "metadata": {},
   "outputs": [
    {
     "data": {
      "text/plain": [
       "666"
      ]
     },
     "execution_count": 46,
     "metadata": {},
     "output_type": "execute_result"
    }
   ],
   "source": [
    "sum(data_with_budget['revenue'] <= 10000000)"
   ]
  },
  {
   "cell_type": "code",
   "execution_count": 58,
   "metadata": {},
   "outputs": [
    {
     "ename": "IndexError",
     "evalue": "list index out of range",
     "output_type": "error",
     "traceback": [
      "\u001b[1;31m---------------------------------------------------------------------------\u001b[0m",
      "\u001b[1;31mIndexError\u001b[0m                                Traceback (most recent call last)",
      "\u001b[1;32m<ipython-input-58-8c18ca71b52d>\u001b[0m in \u001b[0;36m<module>\u001b[1;34m\u001b[0m\n\u001b[0;32m      5\u001b[0m \u001b[1;33m\u001b[0m\u001b[0m\n\u001b[0;32m      6\u001b[0m \u001b[1;31m#matrix budget-revenue\u001b[0m\u001b[1;33m\u001b[0m\u001b[1;33m\u001b[0m\u001b[1;33m\u001b[0m\u001b[0m\n\u001b[1;32m----> 7\u001b[1;33m \u001b[0mmatrice\u001b[0m \u001b[1;33m=\u001b[0m \u001b[1;33m[\u001b[0m\u001b[0mlen\u001b[0m\u001b[1;33m(\u001b[0m\u001b[0mdata_with_budget\u001b[0m\u001b[1;33m)\u001b[0m\u001b[1;33m]\u001b[0m\u001b[1;33m[\u001b[0m\u001b[1;36m2\u001b[0m\u001b[1;33m]\u001b[0m\u001b[1;33m\u001b[0m\u001b[1;33m\u001b[0m\u001b[0m\n\u001b[0m\u001b[0;32m      8\u001b[0m \u001b[0mbr\u001b[0m \u001b[1;33m=\u001b[0m \u001b[1;33m[\u001b[0m\u001b[0mdata_with_budget\u001b[0m\u001b[1;33m[\u001b[0m\u001b[1;34m'budget'\u001b[0m\u001b[1;33m]\u001b[0m\u001b[1;33m,\u001b[0m \u001b[0mdata_with_budget\u001b[0m\u001b[1;33m[\u001b[0m\u001b[1;34m'revenue'\u001b[0m\u001b[1;33m]\u001b[0m\u001b[1;33m]\u001b[0m\u001b[1;33m\u001b[0m\u001b[1;33m\u001b[0m\u001b[0m\n\u001b[0;32m      9\u001b[0m \u001b[1;33m\u001b[0m\u001b[0m\n",
      "\u001b[1;31mIndexError\u001b[0m: list index out of range"
     ]
    }
   ],
   "source": [
    "import numpy as np\n",
    "\n",
    "from sklearn.datasets import make_blobs\n",
    "from sklearn.cluster import KMeans\n",
    "\n",
    "#matrix budget-revenue\n",
    "matrice = [len(data_with_budget)][2]\n",
    "br = [data_with_budget['budget'], data_with_budget['revenue']]\n",
    "\n",
    "k_means = KMeans(n_clusters=5, n_init=1)\n",
    "k_means.fit(br)\n",
    "\n",
    "\n",
    "fig, ax = plt.subplots(figsize=(5,5))\n",
    "\n",
    "ax.scatter(br.iloc[0, :], br.iloc[1, :], c=k_means.labels_)"
   ]
  },
  {
   "cell_type": "code",
   "execution_count": null,
   "metadata": {},
   "outputs": [],
   "source": []
  }
 ],
 "metadata": {
  "kernelspec": {
   "display_name": "Python 3",
   "language": "python",
   "name": "python3"
  },
  "language_info": {
   "codemirror_mode": {
    "name": "ipython",
    "version": 3
   },
   "file_extension": ".py",
   "mimetype": "text/x-python",
   "name": "python",
   "nbconvert_exporter": "python",
   "pygments_lexer": "ipython3",
   "version": "3.8.5"
  }
 },
 "nbformat": 4,
 "nbformat_minor": 4
}
