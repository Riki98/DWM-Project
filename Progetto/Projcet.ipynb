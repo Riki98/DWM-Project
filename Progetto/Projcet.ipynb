{
 "cells": [
  {
   "cell_type": "code",
<<<<<<< Updated upstream
   "execution_count": 2,
=======
   "execution_count": 37,
>>>>>>> Stashed changes
   "metadata": {},
   "outputs": [
    {
     "name": "stdout",
     "output_type": "stream",
     "text": [
<<<<<<< Updated upstream
      "C:\\Users\\Nicolò\\Documents\\GitHub\\DWM-Project\\Progetto\n"
=======
      "C:\\Users\\Riccardo\\Documents\\GitHub\\DWM-Project\\Progetto\n"
>>>>>>> Stashed changes
     ]
    }
   ],
   "source": [
    "import os\n",
    "print(os.getcwd())"
   ]
  },
  {
   "cell_type": "code",
<<<<<<< Updated upstream
   "execution_count": 3,
   "metadata": {
    "scrolled": true
   },
   "outputs": [],
=======
   "execution_count": 38,
   "metadata": {
    "scrolled": true
   },
   "outputs": [
    {
     "data": {
      "text/html": [
       "<div>\n",
       "<style scoped>\n",
       "    .dataframe tbody tr th:only-of-type {\n",
       "        vertical-align: middle;\n",
       "    }\n",
       "\n",
       "    .dataframe tbody tr th {\n",
       "        vertical-align: top;\n",
       "    }\n",
       "\n",
       "    .dataframe thead th {\n",
       "        text-align: right;\n",
       "    }\n",
       "</style>\n",
       "<table border=\"1\" class=\"dataframe\">\n",
       "  <thead>\n",
       "    <tr style=\"text-align: right;\">\n",
       "      <th></th>\n",
       "      <th>id</th>\n",
       "      <th>belongs_to_collection</th>\n",
       "      <th>budget</th>\n",
       "      <th>genres</th>\n",
       "      <th>homepage</th>\n",
       "      <th>imdb_id</th>\n",
       "      <th>original_language</th>\n",
       "      <th>original_title</th>\n",
       "      <th>overview</th>\n",
       "      <th>popularity</th>\n",
       "      <th>...</th>\n",
       "      <th>release_date</th>\n",
       "      <th>runtime</th>\n",
       "      <th>spoken_languages</th>\n",
       "      <th>status</th>\n",
       "      <th>tagline</th>\n",
       "      <th>title</th>\n",
       "      <th>Keywords</th>\n",
       "      <th>cast</th>\n",
       "      <th>crew</th>\n",
       "      <th>revenue</th>\n",
       "    </tr>\n",
       "  </thead>\n",
       "  <tbody>\n",
       "    <tr>\n",
       "      <th>0</th>\n",
       "      <td>1</td>\n",
       "      <td>[{'id': 313576, 'name': 'Hot Tub Time Machine ...</td>\n",
       "      <td>14000000</td>\n",
       "      <td>[{'id': 35, 'name': 'Comedy'}]</td>\n",
       "      <td>NaN</td>\n",
       "      <td>tt2637294</td>\n",
       "      <td>en</td>\n",
       "      <td>Hot Tub Time Machine 2</td>\n",
       "      <td>When Lou, who has become the \"father of the In...</td>\n",
       "      <td>6.575393</td>\n",
       "      <td>...</td>\n",
       "      <td>2/20/15</td>\n",
       "      <td>93.0</td>\n",
       "      <td>[{'iso_639_1': 'en', 'name': 'English'}]</td>\n",
       "      <td>Released</td>\n",
       "      <td>The Laws of Space and Time are About to be Vio...</td>\n",
       "      <td>Hot Tub Time Machine 2</td>\n",
       "      <td>[{'id': 4379, 'name': 'time travel'}, {'id': 9...</td>\n",
       "      <td>[{'cast_id': 4, 'character': 'Lou', 'credit_id...</td>\n",
       "      <td>[{'credit_id': '59ac067c92514107af02c8c8', 'de...</td>\n",
       "      <td>12314651</td>\n",
       "    </tr>\n",
       "    <tr>\n",
       "      <th>1</th>\n",
       "      <td>2</td>\n",
       "      <td>[{'id': 107674, 'name': 'The Princess Diaries ...</td>\n",
       "      <td>40000000</td>\n",
       "      <td>[{'id': 35, 'name': 'Comedy'}, {'id': 18, 'nam...</td>\n",
       "      <td>NaN</td>\n",
       "      <td>tt0368933</td>\n",
       "      <td>en</td>\n",
       "      <td>The Princess Diaries 2: Royal Engagement</td>\n",
       "      <td>Mia Thermopolis is now a college graduate and ...</td>\n",
       "      <td>8.248895</td>\n",
       "      <td>...</td>\n",
       "      <td>8/6/04</td>\n",
       "      <td>113.0</td>\n",
       "      <td>[{'iso_639_1': 'en', 'name': 'English'}]</td>\n",
       "      <td>Released</td>\n",
       "      <td>It can take a lifetime to find true love; she'...</td>\n",
       "      <td>The Princess Diaries 2: Royal Engagement</td>\n",
       "      <td>[{'id': 2505, 'name': 'coronation'}, {'id': 42...</td>\n",
       "      <td>[{'cast_id': 1, 'character': 'Mia Thermopolis'...</td>\n",
       "      <td>[{'credit_id': '52fe43fe9251416c7502563d', 'de...</td>\n",
       "      <td>95149435</td>\n",
       "    </tr>\n",
       "    <tr>\n",
       "      <th>2</th>\n",
       "      <td>3</td>\n",
       "      <td>NaN</td>\n",
       "      <td>3300000</td>\n",
       "      <td>[{'id': 18, 'name': 'Drama'}]</td>\n",
       "      <td>http://sonyclassics.com/whiplash/</td>\n",
       "      <td>tt2582802</td>\n",
       "      <td>en</td>\n",
       "      <td>Whiplash</td>\n",
       "      <td>Under the direction of a ruthless instructor, ...</td>\n",
       "      <td>64.299990</td>\n",
       "      <td>...</td>\n",
       "      <td>10/10/14</td>\n",
       "      <td>105.0</td>\n",
       "      <td>[{'iso_639_1': 'en', 'name': 'English'}]</td>\n",
       "      <td>Released</td>\n",
       "      <td>The road to greatness can take you to the edge.</td>\n",
       "      <td>Whiplash</td>\n",
       "      <td>[{'id': 1416, 'name': 'jazz'}, {'id': 1523, 'n...</td>\n",
       "      <td>[{'cast_id': 5, 'character': 'Andrew Neimann',...</td>\n",
       "      <td>[{'credit_id': '54d5356ec3a3683ba0000039', 'de...</td>\n",
       "      <td>13092000</td>\n",
       "    </tr>\n",
       "    <tr>\n",
       "      <th>3</th>\n",
       "      <td>4</td>\n",
       "      <td>NaN</td>\n",
       "      <td>1200000</td>\n",
       "      <td>[{'id': 53, 'name': 'Thriller'}, {'id': 18, 'n...</td>\n",
       "      <td>http://kahaanithefilm.com/</td>\n",
       "      <td>tt1821480</td>\n",
       "      <td>hi</td>\n",
       "      <td>Kahaani</td>\n",
       "      <td>Vidya Bagchi (Vidya Balan) arrives in Kolkata ...</td>\n",
       "      <td>3.174936</td>\n",
       "      <td>...</td>\n",
       "      <td>3/9/12</td>\n",
       "      <td>122.0</td>\n",
       "      <td>[{'iso_639_1': 'en', 'name': 'English'}, {'iso...</td>\n",
       "      <td>Released</td>\n",
       "      <td>NaN</td>\n",
       "      <td>Kahaani</td>\n",
       "      <td>[{'id': 10092, 'name': 'mystery'}, {'id': 1054...</td>\n",
       "      <td>[{'cast_id': 1, 'character': 'Vidya Bagchi', '...</td>\n",
       "      <td>[{'credit_id': '52fe48779251416c9108d6eb', 'de...</td>\n",
       "      <td>16000000</td>\n",
       "    </tr>\n",
       "    <tr>\n",
       "      <th>4</th>\n",
       "      <td>5</td>\n",
       "      <td>NaN</td>\n",
       "      <td>0</td>\n",
       "      <td>[{'id': 28, 'name': 'Action'}, {'id': 53, 'nam...</td>\n",
       "      <td>NaN</td>\n",
       "      <td>tt1380152</td>\n",
       "      <td>ko</td>\n",
       "      <td>마린보이</td>\n",
       "      <td>Marine Boy is the story of a former national s...</td>\n",
       "      <td>1.148070</td>\n",
       "      <td>...</td>\n",
       "      <td>2/5/09</td>\n",
       "      <td>118.0</td>\n",
       "      <td>[{'iso_639_1': 'ko', 'name': '한국어/조선말'}]</td>\n",
       "      <td>Released</td>\n",
       "      <td>NaN</td>\n",
       "      <td>Marine Boy</td>\n",
       "      <td>NaN</td>\n",
       "      <td>[{'cast_id': 3, 'character': 'Chun-soo', 'cred...</td>\n",
       "      <td>[{'credit_id': '52fe464b9251416c75073b43', 'de...</td>\n",
       "      <td>3923970</td>\n",
       "    </tr>\n",
       "    <tr>\n",
       "      <th>...</th>\n",
       "      <td>...</td>\n",
       "      <td>...</td>\n",
       "      <td>...</td>\n",
       "      <td>...</td>\n",
       "      <td>...</td>\n",
       "      <td>...</td>\n",
       "      <td>...</td>\n",
       "      <td>...</td>\n",
       "      <td>...</td>\n",
       "      <td>...</td>\n",
       "      <td>...</td>\n",
       "      <td>...</td>\n",
       "      <td>...</td>\n",
       "      <td>...</td>\n",
       "      <td>...</td>\n",
       "      <td>...</td>\n",
       "      <td>...</td>\n",
       "      <td>...</td>\n",
       "      <td>...</td>\n",
       "      <td>...</td>\n",
       "      <td>...</td>\n",
       "    </tr>\n",
       "    <tr>\n",
       "      <th>95</th>\n",
       "      <td>96</td>\n",
       "      <td>NaN</td>\n",
       "      <td>0</td>\n",
       "      <td>[{'id': 18, 'name': 'Drama'}]</td>\n",
       "      <td>NaN</td>\n",
       "      <td>tt2569398</td>\n",
       "      <td>ru</td>\n",
       "      <td>Со мною вот что происходит</td>\n",
       "      <td>December, 31st. Impossible Moscow traffic, an ...</td>\n",
       "      <td>0.181963</td>\n",
       "      <td>...</td>\n",
       "      <td>12/9/12</td>\n",
       "      <td>72.0</td>\n",
       "      <td>[{'iso_639_1': 'ru', 'name': 'Pусский'}]</td>\n",
       "      <td>Released</td>\n",
       "      <td>NaN</td>\n",
       "      <td>And Here's What's Happening to Me</td>\n",
       "      <td>NaN</td>\n",
       "      <td>[{'cast_id': 4, 'character': 'Artyom', 'credit...</td>\n",
       "      <td>[{'credit_id': '52fe4b199251416c910cfbd9', 'de...</td>\n",
       "      <td>14353</td>\n",
       "    </tr>\n",
       "    <tr>\n",
       "      <th>96</th>\n",
       "      <td>97</td>\n",
       "      <td>NaN</td>\n",
       "      <td>2500000</td>\n",
       "      <td>[{'id': 28, 'name': 'Action'}, {'id': 35, 'nam...</td>\n",
       "      <td>NaN</td>\n",
       "      <td>tt1683921</td>\n",
       "      <td>fr</td>\n",
       "      <td>Nuit Blanche</td>\n",
       "      <td>Vincent is a crooked cop whose drug heist goes...</td>\n",
       "      <td>2.942355</td>\n",
       "      <td>...</td>\n",
       "      <td>11/14/11</td>\n",
       "      <td>98.0</td>\n",
       "      <td>[{'iso_639_1': 'fr', 'name': 'Français'}]</td>\n",
       "      <td>Released</td>\n",
       "      <td>NaN</td>\n",
       "      <td>Sleepless Night</td>\n",
       "      <td>NaN</td>\n",
       "      <td>[{'cast_id': 1, 'character': 'Vincent', 'credi...</td>\n",
       "      <td>[{'credit_id': '52fe49c0c3a368484e13dc9b', 'de...</td>\n",
       "      <td>3358</td>\n",
       "    </tr>\n",
       "    <tr>\n",
       "      <th>97</th>\n",
       "      <td>98</td>\n",
       "      <td>NaN</td>\n",
       "      <td>0</td>\n",
       "      <td>[{'id': 14, 'name': 'Fantasy'}, {'id': 18, 'na...</td>\n",
       "      <td>NaN</td>\n",
       "      <td>tt1772980</td>\n",
       "      <td>ru</td>\n",
       "      <td>Mishen</td>\n",
       "      <td>In the year 2020, a group of wealthy Moscovite...</td>\n",
       "      <td>1.042112</td>\n",
       "      <td>...</td>\n",
       "      <td>6/26/11</td>\n",
       "      <td>158.0</td>\n",
       "      <td>[{'iso_639_1': 'de', 'name': 'Deutsch'}, {'iso...</td>\n",
       "      <td>Released</td>\n",
       "      <td>NaN</td>\n",
       "      <td>Target</td>\n",
       "      <td>NaN</td>\n",
       "      <td>[{'cast_id': 1001, 'character': 'Victor', 'cre...</td>\n",
       "      <td>[{'credit_id': '58cdbad4c3a36850e9011085', 'de...</td>\n",
       "      <td>73000</td>\n",
       "    </tr>\n",
       "    <tr>\n",
       "      <th>98</th>\n",
       "      <td>99</td>\n",
       "      <td>NaN</td>\n",
       "      <td>10500000</td>\n",
       "      <td>[{'id': 16, 'name': 'Animation'}, {'id': 35, '...</td>\n",
       "      <td>NaN</td>\n",
       "      <td>tt1764625</td>\n",
       "      <td>es</td>\n",
       "      <td>Las aventuras de Tadeo Jones</td>\n",
       "      <td>Tad is a celebrity archeologist and adventurer...</td>\n",
       "      <td>11.003515</td>\n",
       "      <td>...</td>\n",
       "      <td>8/31/12</td>\n",
       "      <td>90.0</td>\n",
       "      <td>[{'iso_639_1': 'es', 'name': 'Español'}, {'iso...</td>\n",
       "      <td>Released</td>\n",
       "      <td>No whip, no gun...All fun!</td>\n",
       "      <td>Tad, the Lost Explorer</td>\n",
       "      <td>[{'id': 720, 'name': 'helicopter'}, {'id': 145...</td>\n",
       "      <td>[{'cast_id': 2, 'character': 'Sara', 'credit_i...</td>\n",
       "      <td>[{'credit_id': '52fe4a6bc3a368484e15241f', 'de...</td>\n",
       "      <td>23000000</td>\n",
       "    </tr>\n",
       "    <tr>\n",
       "      <th>99</th>\n",
       "      <td>100</td>\n",
       "      <td>NaN</td>\n",
       "      <td>6000000</td>\n",
       "      <td>[{'id': 28, 'name': 'Action'}, {'id': 80, 'nam...</td>\n",
       "      <td>NaN</td>\n",
       "      <td>tt0094894</td>\n",
       "      <td>en</td>\n",
       "      <td>Colors</td>\n",
       "      <td>A confident young cop is shown the ropes by a ...</td>\n",
       "      <td>5.529808</td>\n",
       "      <td>...</td>\n",
       "      <td>4/15/88</td>\n",
       "      <td>120.0</td>\n",
       "      <td>[{'iso_639_1': 'en', 'name': 'English'}, {'iso...</td>\n",
       "      <td>Released</td>\n",
       "      <td>70,000 gang members. One million guns. Two cops.</td>\n",
       "      <td>Colors</td>\n",
       "      <td>[{'id': 796, 'name': 'police brutality'}, {'id...</td>\n",
       "      <td>[{'cast_id': 1, 'character': 'Officer Danny Mc...</td>\n",
       "      <td>[{'credit_id': '52fe432f9251416c75006ac5', 'de...</td>\n",
       "      <td>46616067</td>\n",
       "    </tr>\n",
       "  </tbody>\n",
       "</table>\n",
       "<p>100 rows × 23 columns</p>\n",
       "</div>"
      ],
      "text/plain": [
       "     id                              belongs_to_collection    budget  \\\n",
       "0     1  [{'id': 313576, 'name': 'Hot Tub Time Machine ...  14000000   \n",
       "1     2  [{'id': 107674, 'name': 'The Princess Diaries ...  40000000   \n",
       "2     3                                                NaN   3300000   \n",
       "3     4                                                NaN   1200000   \n",
       "4     5                                                NaN         0   \n",
       "..  ...                                                ...       ...   \n",
       "95   96                                                NaN         0   \n",
       "96   97                                                NaN   2500000   \n",
       "97   98                                                NaN         0   \n",
       "98   99                                                NaN  10500000   \n",
       "99  100                                                NaN   6000000   \n",
       "\n",
       "                                               genres  \\\n",
       "0                      [{'id': 35, 'name': 'Comedy'}]   \n",
       "1   [{'id': 35, 'name': 'Comedy'}, {'id': 18, 'nam...   \n",
       "2                       [{'id': 18, 'name': 'Drama'}]   \n",
       "3   [{'id': 53, 'name': 'Thriller'}, {'id': 18, 'n...   \n",
       "4   [{'id': 28, 'name': 'Action'}, {'id': 53, 'nam...   \n",
       "..                                                ...   \n",
       "95                      [{'id': 18, 'name': 'Drama'}]   \n",
       "96  [{'id': 28, 'name': 'Action'}, {'id': 35, 'nam...   \n",
       "97  [{'id': 14, 'name': 'Fantasy'}, {'id': 18, 'na...   \n",
       "98  [{'id': 16, 'name': 'Animation'}, {'id': 35, '...   \n",
       "99  [{'id': 28, 'name': 'Action'}, {'id': 80, 'nam...   \n",
       "\n",
       "                             homepage    imdb_id original_language  \\\n",
       "0                                 NaN  tt2637294                en   \n",
       "1                                 NaN  tt0368933                en   \n",
       "2   http://sonyclassics.com/whiplash/  tt2582802                en   \n",
       "3          http://kahaanithefilm.com/  tt1821480                hi   \n",
       "4                                 NaN  tt1380152                ko   \n",
       "..                                ...        ...               ...   \n",
       "95                                NaN  tt2569398                ru   \n",
       "96                                NaN  tt1683921                fr   \n",
       "97                                NaN  tt1772980                ru   \n",
       "98                                NaN  tt1764625                es   \n",
       "99                                NaN  tt0094894                en   \n",
       "\n",
       "                              original_title  \\\n",
       "0                     Hot Tub Time Machine 2   \n",
       "1   The Princess Diaries 2: Royal Engagement   \n",
       "2                                   Whiplash   \n",
       "3                                    Kahaani   \n",
       "4                                       마린보이   \n",
       "..                                       ...   \n",
       "95                Со мною вот что происходит   \n",
       "96                              Nuit Blanche   \n",
       "97                                    Mishen   \n",
       "98              Las aventuras de Tadeo Jones   \n",
       "99                                    Colors   \n",
       "\n",
       "                                             overview  popularity  ...  \\\n",
       "0   When Lou, who has become the \"father of the In...    6.575393  ...   \n",
       "1   Mia Thermopolis is now a college graduate and ...    8.248895  ...   \n",
       "2   Under the direction of a ruthless instructor, ...   64.299990  ...   \n",
       "3   Vidya Bagchi (Vidya Balan) arrives in Kolkata ...    3.174936  ...   \n",
       "4   Marine Boy is the story of a former national s...    1.148070  ...   \n",
       "..                                                ...         ...  ...   \n",
       "95  December, 31st. Impossible Moscow traffic, an ...    0.181963  ...   \n",
       "96  Vincent is a crooked cop whose drug heist goes...    2.942355  ...   \n",
       "97  In the year 2020, a group of wealthy Moscovite...    1.042112  ...   \n",
       "98  Tad is a celebrity archeologist and adventurer...   11.003515  ...   \n",
       "99  A confident young cop is shown the ropes by a ...    5.529808  ...   \n",
       "\n",
       "   release_date runtime                                   spoken_languages  \\\n",
       "0       2/20/15    93.0           [{'iso_639_1': 'en', 'name': 'English'}]   \n",
       "1        8/6/04   113.0           [{'iso_639_1': 'en', 'name': 'English'}]   \n",
       "2      10/10/14   105.0           [{'iso_639_1': 'en', 'name': 'English'}]   \n",
       "3        3/9/12   122.0  [{'iso_639_1': 'en', 'name': 'English'}, {'iso...   \n",
       "4        2/5/09   118.0           [{'iso_639_1': 'ko', 'name': '한국어/조선말'}]   \n",
       "..          ...     ...                                                ...   \n",
       "95      12/9/12    72.0           [{'iso_639_1': 'ru', 'name': 'Pусский'}]   \n",
       "96     11/14/11    98.0          [{'iso_639_1': 'fr', 'name': 'Français'}]   \n",
       "97      6/26/11   158.0  [{'iso_639_1': 'de', 'name': 'Deutsch'}, {'iso...   \n",
       "98      8/31/12    90.0  [{'iso_639_1': 'es', 'name': 'Español'}, {'iso...   \n",
       "99      4/15/88   120.0  [{'iso_639_1': 'en', 'name': 'English'}, {'iso...   \n",
       "\n",
       "      status                                            tagline  \\\n",
       "0   Released  The Laws of Space and Time are About to be Vio...   \n",
       "1   Released  It can take a lifetime to find true love; she'...   \n",
       "2   Released    The road to greatness can take you to the edge.   \n",
       "3   Released                                                NaN   \n",
       "4   Released                                                NaN   \n",
       "..       ...                                                ...   \n",
       "95  Released                                                NaN   \n",
       "96  Released                                                NaN   \n",
       "97  Released                                                NaN   \n",
       "98  Released                         No whip, no gun...All fun!   \n",
       "99  Released   70,000 gang members. One million guns. Two cops.   \n",
       "\n",
       "                                       title  \\\n",
       "0                     Hot Tub Time Machine 2   \n",
       "1   The Princess Diaries 2: Royal Engagement   \n",
       "2                                   Whiplash   \n",
       "3                                    Kahaani   \n",
       "4                                 Marine Boy   \n",
       "..                                       ...   \n",
       "95         And Here's What's Happening to Me   \n",
       "96                           Sleepless Night   \n",
       "97                                    Target   \n",
       "98                    Tad, the Lost Explorer   \n",
       "99                                    Colors   \n",
       "\n",
       "                                             Keywords  \\\n",
       "0   [{'id': 4379, 'name': 'time travel'}, {'id': 9...   \n",
       "1   [{'id': 2505, 'name': 'coronation'}, {'id': 42...   \n",
       "2   [{'id': 1416, 'name': 'jazz'}, {'id': 1523, 'n...   \n",
       "3   [{'id': 10092, 'name': 'mystery'}, {'id': 1054...   \n",
       "4                                                 NaN   \n",
       "..                                                ...   \n",
       "95                                                NaN   \n",
       "96                                                NaN   \n",
       "97                                                NaN   \n",
       "98  [{'id': 720, 'name': 'helicopter'}, {'id': 145...   \n",
       "99  [{'id': 796, 'name': 'police brutality'}, {'id...   \n",
       "\n",
       "                                                 cast  \\\n",
       "0   [{'cast_id': 4, 'character': 'Lou', 'credit_id...   \n",
       "1   [{'cast_id': 1, 'character': 'Mia Thermopolis'...   \n",
       "2   [{'cast_id': 5, 'character': 'Andrew Neimann',...   \n",
       "3   [{'cast_id': 1, 'character': 'Vidya Bagchi', '...   \n",
       "4   [{'cast_id': 3, 'character': 'Chun-soo', 'cred...   \n",
       "..                                                ...   \n",
       "95  [{'cast_id': 4, 'character': 'Artyom', 'credit...   \n",
       "96  [{'cast_id': 1, 'character': 'Vincent', 'credi...   \n",
       "97  [{'cast_id': 1001, 'character': 'Victor', 'cre...   \n",
       "98  [{'cast_id': 2, 'character': 'Sara', 'credit_i...   \n",
       "99  [{'cast_id': 1, 'character': 'Officer Danny Mc...   \n",
       "\n",
       "                                                 crew   revenue  \n",
       "0   [{'credit_id': '59ac067c92514107af02c8c8', 'de...  12314651  \n",
       "1   [{'credit_id': '52fe43fe9251416c7502563d', 'de...  95149435  \n",
       "2   [{'credit_id': '54d5356ec3a3683ba0000039', 'de...  13092000  \n",
       "3   [{'credit_id': '52fe48779251416c9108d6eb', 'de...  16000000  \n",
       "4   [{'credit_id': '52fe464b9251416c75073b43', 'de...   3923970  \n",
       "..                                                ...       ...  \n",
       "95  [{'credit_id': '52fe4b199251416c910cfbd9', 'de...     14353  \n",
       "96  [{'credit_id': '52fe49c0c3a368484e13dc9b', 'de...      3358  \n",
       "97  [{'credit_id': '58cdbad4c3a36850e9011085', 'de...     73000  \n",
       "98  [{'credit_id': '52fe4a6bc3a368484e15241f', 'de...  23000000  \n",
       "99  [{'credit_id': '52fe432f9251416c75006ac5', 'de...  46616067  \n",
       "\n",
       "[100 rows x 23 columns]"
      ]
     },
     "execution_count": 38,
     "metadata": {},
     "output_type": "execute_result"
    }
   ],
>>>>>>> Stashed changes
   "source": [
    "import pandas as pd \n",
    "data = pd.read_csv(\"train.csv\")\n"
   ]
  },
  {
   "cell_type": "code",
<<<<<<< Updated upstream
   "execution_count": 4,
=======
   "execution_count": 39,
>>>>>>> Stashed changes
   "metadata": {},
   "outputs": [
    {
     "name": "stdout",
     "output_type": "stream",
     "text": [
      "data.shape: (3000, 23)\n",
      "data.index: RangeIndex(start=0, stop=3000, step=1)\n",
      "data.columns: Index(['id', 'belongs_to_collection', 'budget', 'genres', 'homepage',\n",
      "       'imdb_id', 'original_language', 'original_title', 'overview',\n",
      "       'popularity', 'poster_path', 'production_companies',\n",
      "       'production_countries', 'release_date', 'runtime', 'spoken_languages',\n",
      "       'status', 'tagline', 'title', 'Keywords', 'cast', 'crew', 'revenue'],\n",
      "      dtype='object')\n"
     ]
    }
   ],
   "source": [
    "print(\"data.shape:\", data.shape)\n",
    "print(\"data.index:\", data.index)\n",
    "print(\"data.columns:\", data.columns)"
   ]
  },
  {
   "cell_type": "code",
<<<<<<< Updated upstream
   "execution_count": 5,
=======
   "execution_count": 40,
>>>>>>> Stashed changes
   "metadata": {},
   "outputs": [],
   "source": [
    "data.drop(['homepage'],axis=1,inplace=True)"
   ]
  },
  {
<<<<<<< Updated upstream
=======
   "cell_type": "code",
   "execution_count": 41,
   "metadata": {},
   "outputs": [
    {
     "data": {
      "text/plain": [
       "0       [{'name': 'Paramount Pictures', 'id': 4}, {'na...\n",
       "1             [{'name': 'Walt Disney Pictures', 'id': 2}]\n",
       "2       [{'name': 'Bold Films', 'id': 2266}, {'name': ...\n",
       "3                                                     NaN\n",
       "4                                                     NaN\n",
       "                              ...                        \n",
       "2995    [{'name': 'Warner Bros.', 'id': 6194}, {'name'...\n",
       "2996    [{'name': 'Memfis Film', 'id': 321}, {'name': ...\n",
       "2997    [{'name': 'New Line Cinema', 'id': 12}, {'name...\n",
       "2998    [{'name': 'Jersey Films', 'id': 216}, {'name':...\n",
       "2999    [{'name': 'Lions Gate Films', 'id': 35}, {'nam...\n",
       "Name: production_companies, Length: 3000, dtype: object"
      ]
     },
     "execution_count": 41,
     "metadata": {},
     "output_type": "execute_result"
    }
   ],
   "source": [
    "data[\"production_companies\"]"
   ]
  },
  {
>>>>>>> Stashed changes
   "cell_type": "markdown",
   "metadata": {},
   "source": [
    "### data[\"genres\"]"
   ]
  },
  {
   "cell_type": "code",
<<<<<<< Updated upstream
   "execution_count": 6,
=======
   "execution_count": 42,
>>>>>>> Stashed changes
   "metadata": {},
   "outputs": [
    {
     "data": {
      "text/plain": [
       "id                          0\n",
       "belongs_to_collection    2396\n",
       "budget                      0\n",
       "genres                      7\n",
       "imdb_id                     0\n",
       "original_language           0\n",
       "original_title              0\n",
       "overview                    8\n",
       "popularity                  0\n",
       "poster_path                 1\n",
       "production_companies      156\n",
       "production_countries       55\n",
       "release_date                0\n",
       "runtime                     2\n",
       "spoken_languages           20\n",
       "status                      0\n",
       "tagline                   597\n",
       "title                       0\n",
       "Keywords                  276\n",
       "cast                       13\n",
       "crew                       16\n",
       "revenue                     0\n",
       "dtype: int64"
      ]
     },
<<<<<<< Updated upstream
     "execution_count": 6,
=======
     "execution_count": 42,
>>>>>>> Stashed changes
     "metadata": {},
     "output_type": "execute_result"
    }
   ],
   "source": [
    "data.isna().sum()\n"
   ]
  },
  {
   "cell_type": "code",
<<<<<<< Updated upstream
   "execution_count": 7,
=======
   "execution_count": 45,
>>>>>>> Stashed changes
   "metadata": {},
   "outputs": [],
   "source": [
    "def convertAll():\n",
    "    import math\n",
    "    import datetime\n",
    "\n",
    "    data[\"release_date\"] = pd.to_datetime(data[\"release_date\"])\n",
    "    #fix della data in quanto ci sono date che superano il 2021\n",
    "    i=0\n",
    "    maxDate = datetime.datetime(2020, 1, 1)\n",
    "    n_elem = data.shape[0]\n",
    "    while i<n_elem:\n",
    "        if data['release_date'][i]>maxDate:\n",
    "            new_year=(data['release_date'][i].year)-100\n",
    "            new_date = datetime.datetime(new_year, data['release_date'][i].month, data['release_date'][i].day, 0, 0, 0)\n",
    "            data['release_date'][i] = new_date\n",
    "        i+=1\n",
    "    i=0\n",
    "    n_elem = data.shape[0]\n",
    "    while i<n_elem:\n",
    "        if isinstance(data[\"genres\"][i], float):\n",
    "            if math.isnan(data[\"genres\"][i]):\n",
    "                i+=1\n",
    "                continue\n",
    "        data[\"genres\"][i]=eval(data[\"genres\"][i]) \n",
    "        i+=1\n",
    "    \n",
    "    i=0\n",
    "    while i<n_elem:\n",
    "        if isinstance(data[\"production_countries\"][i], float):\n",
    "            if math.isnan(data[\"production_countries\"][i]):\n",
    "                i+=1\n",
    "                continue\n",
    "        data[\"production_countries\"][i]=eval(data[\"production_countries\"][i]) \n",
    "        i+=1\n",
    "    \n",
    "    i=0\n",
    "    while i<n_elem:\n",
    "        if isinstance(data[\"spoken_languages\"][i], float):\n",
    "            if math.isnan(data[\"spoken_languages\"][i]):\n",
    "                i+=1\n",
    "                continue\n",
    "        data[\"spoken_languages\"][i]=eval(data[\"spoken_languages\"][i]) \n",
    "        i+=1\n",
    "    \n",
    "    i=0\n",
    "    while i<n_elem:\n",
    "        if isinstance(data[\"Keywords\"][i], float):\n",
    "            if math.isnan(data[\"Keywords\"][i]):\n",
    "                i+=1\n",
    "                continue\n",
    "        data[\"Keywords\"][i]=eval(data[\"Keywords\"][i]) \n",
    "        i+=1\n",
    "    \n",
    "    i=0\n",
    "    while i<n_elem:\n",
    "        if isinstance(data[\"cast\"][i], float):\n",
    "            if math.isnan(data[\"cast\"][i]):\n",
    "                i+=1\n",
    "                continue\n",
    "        data[\"cast\"][i]=eval(data[\"cast\"][i]) \n",
    "        i+=1\n",
    "\n",
    "    i=0\n",
    "    while i<n_elem:\n",
    "        if isinstance(data[\"crew\"][i], float):\n",
    "            if math.isnan(data[\"crew\"][i]):\n",
    "                i+=1\n",
    "                continue\n",
    "        data[\"crew\"][i]=eval(data[\"crew\"][i]) \n",
    "        i+=1\n",
    "\n",
    "    i=0\n",
    "    while i<n_elem:\n",
    "        if isinstance(data[\"production_companies\"][i], float):\n",
    "            if math.isnan(data[\"production_companies\"][i]):\n",
    "                i+=1\n",
    "                continue\n",
    "        data[\"production_companies\"][i]=eval(data[\"production_companies\"][i])\n",
    "        i+=1\n"
   ]
  },
  {
   "cell_type": "code",
<<<<<<< Updated upstream
   "execution_count": 8,
=======
   "execution_count": 46,
>>>>>>> Stashed changes
   "metadata": {
    "scrolled": true
   },
   "outputs": [
    {
     "name": "stderr",
     "output_type": "stream",
     "text": [
<<<<<<< Updated upstream
<<<<<<< Updated upstream
      "<ipython-input-7-1ae77e7ce95a>:14: SettingWithCopyWarning: \n",
      "A value is trying to be set on a copy of a slice from a DataFrame\n",
      "\n",
      "See the caveats in the documentation: https://pandas.pydata.org/pandas-docs/stable/user_guide/indexing.html#returning-a-view-versus-a-copy\n",
      "  data['release_date'][i] = new_date\n",
      "<ipython-input-7-1ae77e7ce95a>:23: SettingWithCopyWarning: \n",
=======
      "<ipython-input-45-183aa8536cce>:10: SettingWithCopyWarning: \n",
>>>>>>> Stashed changes
      "A value is trying to be set on a copy of a slice from a DataFrame\n",
      "\n",
      "See the caveats in the documentation: https://pandas.pydata.org/pandas-docs/stable/user_guide/indexing.html#returning-a-view-versus-a-copy\n",
      "  data[\"genres\"][i]=eval(data[\"genres\"][i])\n",
<<<<<<< Updated upstream
      "<ipython-input-7-1ae77e7ce95a>:32: SettingWithCopyWarning: \n",
=======
      "<ipython-input-45-183aa8536cce>:19: SettingWithCopyWarning: \n",
>>>>>>> Stashed changes
      "A value is trying to be set on a copy of a slice from a DataFrame\n",
      "\n",
      "See the caveats in the documentation: https://pandas.pydata.org/pandas-docs/stable/user_guide/indexing.html#returning-a-view-versus-a-copy\n",
      "  data[\"production_countries\"][i]=eval(data[\"production_countries\"][i])\n",
<<<<<<< Updated upstream
      "<ipython-input-7-1ae77e7ce95a>:41: SettingWithCopyWarning: \n",
=======
      "<ipython-input-45-183aa8536cce>:28: SettingWithCopyWarning: \n",
>>>>>>> Stashed changes
      "A value is trying to be set on a copy of a slice from a DataFrame\n",
      "\n",
      "See the caveats in the documentation: https://pandas.pydata.org/pandas-docs/stable/user_guide/indexing.html#returning-a-view-versus-a-copy\n",
      "  data[\"spoken_languages\"][i]=eval(data[\"spoken_languages\"][i])\n",
<<<<<<< Updated upstream
      "<ipython-input-7-1ae77e7ce95a>:50: SettingWithCopyWarning: \n",
=======
      "<ipython-input-45-183aa8536cce>:37: SettingWithCopyWarning: \n",
>>>>>>> Stashed changes
      "A value is trying to be set on a copy of a slice from a DataFrame\n",
      "\n",
      "See the caveats in the documentation: https://pandas.pydata.org/pandas-docs/stable/user_guide/indexing.html#returning-a-view-versus-a-copy\n",
      "  data[\"Keywords\"][i]=eval(data[\"Keywords\"][i])\n",
<<<<<<< Updated upstream
      "<ipython-input-7-1ae77e7ce95a>:59: SettingWithCopyWarning: \n",
=======
      "<ipython-input-45-183aa8536cce>:46: SettingWithCopyWarning: \n",
>>>>>>> Stashed changes
      "A value is trying to be set on a copy of a slice from a DataFrame\n",
      "\n",
      "See the caveats in the documentation: https://pandas.pydata.org/pandas-docs/stable/user_guide/indexing.html#returning-a-view-versus-a-copy\n",
      "  data[\"cast\"][i]=eval(data[\"cast\"][i])\n",
<<<<<<< Updated upstream
      "<ipython-input-7-1ae77e7ce95a>:68: SettingWithCopyWarning: \n",
=======
      "<ipython-input-45-183aa8536cce>:55: SettingWithCopyWarning: \n",
>>>>>>> Stashed changes
      "A value is trying to be set on a copy of a slice from a DataFrame\n",
      "\n",
      "See the caveats in the documentation: https://pandas.pydata.org/pandas-docs/stable/user_guide/indexing.html#returning-a-view-versus-a-copy\n",
      "  data[\"crew\"][i]=eval(data[\"crew\"][i])\n",
<<<<<<< Updated upstream
      "<ipython-input-7-1ae77e7ce95a>:77: SettingWithCopyWarning: \n",
=======
      "E:\\anaconda\\lib\\site-packages\\ipykernel_launcher.py:14: SettingWithCopyWarning: \n",
=======
      "<ipython-input-45-183aa8536cce>:64: SettingWithCopyWarning: \n",
>>>>>>> Stashed changes
      "A value is trying to be set on a copy of a slice from a DataFrame\n",
      "\n",
      "See the caveats in the documentation: http://pandas.pydata.org/pandas-docs/stable/indexing.html#indexing-view-versus-copy\n",
      "  \n",
      "E:\\anaconda\\lib\\site-packages\\ipykernel_launcher.py:23: SettingWithCopyWarning: \n",
      "A value is trying to be set on a copy of a slice from a DataFrame\n",
      "\n",
      "See the caveats in the documentation: http://pandas.pydata.org/pandas-docs/stable/indexing.html#indexing-view-versus-copy\n",
      "E:\\anaconda\\lib\\site-packages\\ipykernel_launcher.py:32: SettingWithCopyWarning: \n",
      "A value is trying to be set on a copy of a slice from a DataFrame\n",
      "\n",
      "See the caveats in the documentation: http://pandas.pydata.org/pandas-docs/stable/indexing.html#indexing-view-versus-copy\n",
      "E:\\anaconda\\lib\\site-packages\\ipykernel_launcher.py:41: SettingWithCopyWarning: \n",
      "A value is trying to be set on a copy of a slice from a DataFrame\n",
      "\n",
      "See the caveats in the documentation: http://pandas.pydata.org/pandas-docs/stable/indexing.html#indexing-view-versus-copy\n",
      "E:\\anaconda\\lib\\site-packages\\ipykernel_launcher.py:50: SettingWithCopyWarning: \n",
      "A value is trying to be set on a copy of a slice from a DataFrame\n",
      "\n",
      "See the caveats in the documentation: http://pandas.pydata.org/pandas-docs/stable/indexing.html#indexing-view-versus-copy\n",
      "E:\\anaconda\\lib\\site-packages\\ipykernel_launcher.py:59: SettingWithCopyWarning: \n",
      "A value is trying to be set on a copy of a slice from a DataFrame\n",
      "\n",
      "See the caveats in the documentation: http://pandas.pydata.org/pandas-docs/stable/indexing.html#indexing-view-versus-copy\n",
      "E:\\anaconda\\lib\\site-packages\\ipykernel_launcher.py:68: SettingWithCopyWarning: \n",
      "A value is trying to be set on a copy of a slice from a DataFrame\n",
      "\n",
      "See the caveats in the documentation: http://pandas.pydata.org/pandas-docs/stable/indexing.html#indexing-view-versus-copy\n",
      "E:\\anaconda\\lib\\site-packages\\ipykernel_launcher.py:77: SettingWithCopyWarning: \n",
>>>>>>> Stashed changes
      "A value is trying to be set on a copy of a slice from a DataFrame\n",
      "\n",
      "See the caveats in the documentation: http://pandas.pydata.org/pandas-docs/stable/indexing.html#indexing-view-versus-copy\n"
     ]
    }
   ],
   "source": [
    "convertAll()"
   ]
  },
  {
   "cell_type": "code",
<<<<<<< Updated upstream
   "execution_count": 9,
=======
   "execution_count": 47,
>>>>>>> Stashed changes
   "metadata": {},
   "outputs": [],
   "source": [
    "def get_words (data):\n",
    "    import math\n",
    "    descrizioni = []\n",
    "    i=0\n",
    "    while i<1000:\n",
    "        if isinstance(data[\"overview\"][i], float):\n",
    "            if math.isnan(data[\"overview\"][i]):\n",
    "                empty_list=[]\n",
    "                descrizioni += empty_list\n",
    "                i+=1\n",
    "                continue\n",
    "        desc = data[\"overview\"][i]         # this is a string\n",
    "        words = desc.split() # this is a list\n",
    "        words = set(words)     # create a set\n",
    "        descrizioni += [words] # append words to the list\n",
    "        i=i+1\n",
    "    return descrizioni"
   ]
  },
  {
   "cell_type": "code",
<<<<<<< Updated upstream
   "execution_count": 10,
=======
   "execution_count": 48,
>>>>>>> Stashed changes
   "metadata": {},
   "outputs": [
    {
     "name": "stdout",
     "output_type": "stream",
     "text": [
<<<<<<< Updated upstream
<<<<<<< Updated upstream
      "{'arrives', 'end', 'pregnant', 'own', 'what', 'rely', 'that', 'begins', 'city', 'unborn', '-', 'determined', 'child', 'to', 'She', 'dead', 'search', '(Vidya', 'reach', 'when', 'Vidya', 'herself', 'lies,', 'of', 'except', 'London', 'she', 'husband', 'for', 'on', 'Bagchi.', 'even', 'truth', 'husband.', 'tries', 'find', 'alone', 'and', 'from', 'soaked', 'does', 'at', 'months', 'him,', 'unravel', 'memories', 'all', 'city,', 'Balan)', 'life.', 'convince', 'nothing', 'Arnab', 'her', 'not', 'in', 'Seven', 'a', 'cost', 'it', 'Kolkata', 'With', 'the', 'relentless', 'In', 'clues', 'seems.', 'is', 'fragments', 'about', 'Bagchi', 'slowly', 'missing', 'exist.', 'everyone', 'festive', 'realises', 'seem'}\n"
=======
      "{'Balan)', 'memories', 'convince', '-', 'life.', 'realises', 'clues', 'Bagchi', 'for', 'husband.', 'lies,', 'Bagchi.', 'missing', 'does', 'a', 'everyone', 'cost', 'her', 'and', 'pregnant', 'is', 'begins', 'determined', 'Arnab', 'find', 'city', 'dead', 'alone', 'seems.', 'months', 'about', 'of', 'rely', 'city,', 'reach', 'unravel', 'on', 'even', 'from', 'In', 'nothing', 'fragments', 'festive', 'seem', 'slowly', 'end', 'all', '(Vidya', 'own', 'she', 'to', 'Vidya', 'when', 'the', 'Seven', 'what', 'that', 'She', 'arrives', 'except', 'soaked', 'search', 'London', 'exist.', 'tries', 'herself', 'child', 'husband', 'unborn', 'truth', 'in', 'Kolkata', 'not', 'With', 'it', 'relentless', 'him,', 'at'}\n"
>>>>>>> Stashed changes
=======
      "{'search', 'all', 'not', 'at', 'With', 'London', 'realises', 'from', 'she', 'for', 'relentless', 'in', 'a', 'pregnant', 'Kolkata', 'does', 'that', 'everyone', 'Balan)', 'memories', 'clues', 'lies,', 'Vidya', 'cost', 'She', 'months', '-', 'city', 'slowly', 'dead', 'on', 'herself', 'husband', 'about', 'Seven', 'seems.', 'Arnab', 'In', 'unravel', 'begins', 'fragments', 'end', 'the', '(Vidya', 'convince', 'except', 'unborn', 'alone', 'soaked', 'arrives', 'tries', 'reach', 'Bagchi.', 'is', 'her', 'to', 'even', 'own', 'life.', 'truth', 'him,', 'missing', 'find', 'seem', 'Bagchi', 'exist.', 'determined', 'and', 'when', 'what', 'of', 'it', 'festive', 'husband.', 'rely', 'nothing', 'city,', 'child'}\n"
>>>>>>> Stashed changes
     ]
    }
   ],
   "source": [
    "lyrics_word_split = get_words(data)\n",
    "\n",
    "print ( lyrics_word_split[3] )"
   ]
  },
  {
   "cell_type": "code",
<<<<<<< Updated upstream
   "execution_count": 11,
=======
   "execution_count": 49,
>>>>>>> Stashed changes
   "metadata": {},
   "outputs": [],
   "source": [
    "def jaccard(a,b):\n",
    "    return len(a & b) / len( a | b)"
   ]
  },
  {
   "cell_type": "code",
<<<<<<< Updated upstream
   "execution_count": 12,
=======
   "execution_count": 50,
>>>>>>> Stashed changes
   "metadata": {},
   "outputs": [
    {
     "data": {
      "text/plain": [
       "0.06896551724137931"
      ]
     },
<<<<<<< Updated upstream
     "execution_count": 12,
=======
     "execution_count": 50,
>>>>>>> Stashed changes
     "metadata": {},
     "output_type": "execute_result"
    }
   ],
   "source": [
    "jaccard(lyrics_word_split[0],lyrics_word_split[123])"
   ]
  },
  {
   "cell_type": "code",
<<<<<<< Updated upstream
   "execution_count": 13,
=======
   "execution_count": 51,
>>>>>>> Stashed changes
   "metadata": {},
   "outputs": [],
   "source": [
    "def most_similar_jaccard(film_ricerca, lyrics_word_split):\n",
    "    most_similar_id=1\n",
    "    jaccard_most_similar=jaccard(lyrics_word_split[film_ricerca],lyrics_word_split[2])\n",
    "    list_size=len(lyrics_word_split)\n",
    "    current_id=2\n",
    "    while current_id<list_size:\n",
    "        current_sim=jaccard(lyrics_word_split[film_ricerca],lyrics_word_split[current_id])\n",
    "        if current_sim>jaccard_most_similar:\n",
    "            jaccard_most_similar=current_sim\n",
    "            most_similar_id=current_id\n",
    "        current_id=current_id+1\n",
    "    \n",
    "    return most_similar_id, jaccard_most_similar\n",
    "\n",
    "sim_id, sim_value = most_similar_jaccard(0, lyrics_word_split)"
   ]
  },
  {
   "cell_type": "code",
<<<<<<< Updated upstream
   "execution_count": 14,
=======
   "execution_count": 52,
>>>>>>> Stashed changes
   "metadata": {},
   "outputs": [
    {
     "ename": "IndexError",
     "evalue": "single positional indexer is out-of-bounds",
     "output_type": "error",
     "traceback": [
      "\u001b[1;31m---------------------------------------------------------------------------\u001b[0m",
      "\u001b[1;31mIndexError\u001b[0m                                Traceback (most recent call last)",
<<<<<<< Updated upstream
<<<<<<< Updated upstream
      "\u001b[1;32m<ipython-input-14-32af1527f5ce>\u001b[0m in \u001b[0;36m<module>\u001b[1;34m\u001b[0m\n\u001b[0;32m      9\u001b[0m \u001b[1;33m\u001b[0m\u001b[0m\n\u001b[0;32m     10\u001b[0m \u001b[1;31m#https://stackoverflow.com/questions/31593201/how-are-iloc-and-loc-different\u001b[0m\u001b[1;33m\u001b[0m\u001b[1;33m\u001b[0m\u001b[1;33m\u001b[0m\u001b[0m\n\u001b[1;32m---> 11\u001b[1;33m \u001b[0max\u001b[0m\u001b[1;33m.\u001b[0m\u001b[0mscatter\u001b[0m\u001b[1;33m(\u001b[0m\u001b[0mdata\u001b[0m\u001b[1;33m.\u001b[0m\u001b[0miloc\u001b[0m\u001b[1;33m[\u001b[0m\u001b[1;33m:\u001b[0m\u001b[1;33m,\u001b[0m \u001b[1;36m2\u001b[0m\u001b[1;33m]\u001b[0m\u001b[1;33m,\u001b[0m \u001b[0mdata\u001b[0m\u001b[1;33m.\u001b[0m\u001b[0miloc\u001b[0m\u001b[1;33m[\u001b[0m\u001b[1;33m:\u001b[0m\u001b[1;33m,\u001b[0m \u001b[1;36m22\u001b[0m\u001b[1;33m]\u001b[0m\u001b[1;33m)\u001b[0m\u001b[1;33m\u001b[0m\u001b[1;33m\u001b[0m\u001b[0m\n\u001b[0m",
=======
      "\u001b[1;32m<ipython-input-52-b929c77077c7>\u001b[0m in \u001b[0;36m<module>\u001b[1;34m\u001b[0m\n\u001b[0;32m      9\u001b[0m \u001b[1;33m\u001b[0m\u001b[0m\n\u001b[0;32m     10\u001b[0m \u001b[1;31m#https://stackoverflow.com/questions/31593201/how-are-iloc-and-loc-different\u001b[0m\u001b[1;33m\u001b[0m\u001b[1;33m\u001b[0m\u001b[1;33m\u001b[0m\u001b[0m\n\u001b[1;32m---> 11\u001b[1;33m \u001b[0max\u001b[0m\u001b[1;33m.\u001b[0m\u001b[0mscatter\u001b[0m\u001b[1;33m(\u001b[0m\u001b[0mdata\u001b[0m\u001b[1;33m.\u001b[0m\u001b[0miloc\u001b[0m\u001b[1;33m[\u001b[0m\u001b[1;33m:\u001b[0m\u001b[1;33m,\u001b[0m \u001b[1;36m2\u001b[0m\u001b[1;33m]\u001b[0m\u001b[1;33m,\u001b[0m \u001b[0mdata\u001b[0m\u001b[1;33m.\u001b[0m\u001b[0miloc\u001b[0m\u001b[1;33m[\u001b[0m\u001b[1;33m:\u001b[0m\u001b[1;33m,\u001b[0m \u001b[1;36m22\u001b[0m\u001b[1;33m]\u001b[0m\u001b[1;33m)\u001b[0m\u001b[1;33m\u001b[0m\u001b[1;33m\u001b[0m\u001b[0m\n\u001b[0m",
>>>>>>> Stashed changes
      "\u001b[1;32m~\\anaconda3\\lib\\site-packages\\pandas\\core\\indexing.py\u001b[0m in \u001b[0;36m__getitem__\u001b[1;34m(self, key)\u001b[0m\n\u001b[0;32m    871\u001b[0m                     \u001b[1;31m# AttributeError for IntervalTree get_value\u001b[0m\u001b[1;33m\u001b[0m\u001b[1;33m\u001b[0m\u001b[1;33m\u001b[0m\u001b[0m\n\u001b[0;32m    872\u001b[0m                     \u001b[1;32mpass\u001b[0m\u001b[1;33m\u001b[0m\u001b[1;33m\u001b[0m\u001b[0m\n\u001b[1;32m--> 873\u001b[1;33m             \u001b[1;32mreturn\u001b[0m \u001b[0mself\u001b[0m\u001b[1;33m.\u001b[0m\u001b[0m_getitem_tuple\u001b[0m\u001b[1;33m(\u001b[0m\u001b[0mkey\u001b[0m\u001b[1;33m)\u001b[0m\u001b[1;33m\u001b[0m\u001b[1;33m\u001b[0m\u001b[0m\n\u001b[0m\u001b[0;32m    874\u001b[0m         \u001b[1;32melse\u001b[0m\u001b[1;33m:\u001b[0m\u001b[1;33m\u001b[0m\u001b[1;33m\u001b[0m\u001b[0m\n\u001b[0;32m    875\u001b[0m             \u001b[1;31m# we by definition only have the 0th axis\u001b[0m\u001b[1;33m\u001b[0m\u001b[1;33m\u001b[0m\u001b[1;33m\u001b[0m\u001b[0m\n",
      "\u001b[1;32m~\\anaconda3\\lib\\site-packages\\pandas\\core\\indexing.py\u001b[0m in \u001b[0;36m_getitem_tuple\u001b[1;34m(self, tup)\u001b[0m\n\u001b[0;32m   1441\u001b[0m     \u001b[1;32mdef\u001b[0m \u001b[0m_getitem_tuple\u001b[0m\u001b[1;33m(\u001b[0m\u001b[0mself\u001b[0m\u001b[1;33m,\u001b[0m \u001b[0mtup\u001b[0m\u001b[1;33m:\u001b[0m \u001b[0mTuple\u001b[0m\u001b[1;33m)\u001b[0m\u001b[1;33m:\u001b[0m\u001b[1;33m\u001b[0m\u001b[1;33m\u001b[0m\u001b[0m\n\u001b[0;32m   1442\u001b[0m \u001b[1;33m\u001b[0m\u001b[0m\n\u001b[1;32m-> 1443\u001b[1;33m         \u001b[0mself\u001b[0m\u001b[1;33m.\u001b[0m\u001b[0m_has_valid_tuple\u001b[0m\u001b[1;33m(\u001b[0m\u001b[0mtup\u001b[0m\u001b[1;33m)\u001b[0m\u001b[1;33m\u001b[0m\u001b[1;33m\u001b[0m\u001b[0m\n\u001b[0m\u001b[0;32m   1444\u001b[0m         \u001b[1;32mtry\u001b[0m\u001b[1;33m:\u001b[0m\u001b[1;33m\u001b[0m\u001b[1;33m\u001b[0m\u001b[0m\n\u001b[0;32m   1445\u001b[0m             \u001b[1;32mreturn\u001b[0m \u001b[0mself\u001b[0m\u001b[1;33m.\u001b[0m\u001b[0m_getitem_lowerdim\u001b[0m\u001b[1;33m(\u001b[0m\u001b[0mtup\u001b[0m\u001b[1;33m)\u001b[0m\u001b[1;33m\u001b[0m\u001b[1;33m\u001b[0m\u001b[0m\n",
      "\u001b[1;32m~\\anaconda3\\lib\\site-packages\\pandas\\core\\indexing.py\u001b[0m in \u001b[0;36m_has_valid_tuple\u001b[1;34m(self, key)\u001b[0m\n\u001b[0;32m    700\u001b[0m                 \u001b[1;32mraise\u001b[0m \u001b[0mIndexingError\u001b[0m\u001b[1;33m(\u001b[0m\u001b[1;34m\"Too many indexers\"\u001b[0m\u001b[1;33m)\u001b[0m\u001b[1;33m\u001b[0m\u001b[1;33m\u001b[0m\u001b[0m\n\u001b[0;32m    701\u001b[0m             \u001b[1;32mtry\u001b[0m\u001b[1;33m:\u001b[0m\u001b[1;33m\u001b[0m\u001b[1;33m\u001b[0m\u001b[0m\n\u001b[1;32m--> 702\u001b[1;33m                 \u001b[0mself\u001b[0m\u001b[1;33m.\u001b[0m\u001b[0m_validate_key\u001b[0m\u001b[1;33m(\u001b[0m\u001b[0mk\u001b[0m\u001b[1;33m,\u001b[0m \u001b[0mi\u001b[0m\u001b[1;33m)\u001b[0m\u001b[1;33m\u001b[0m\u001b[1;33m\u001b[0m\u001b[0m\n\u001b[0m\u001b[0;32m    703\u001b[0m             \u001b[1;32mexcept\u001b[0m \u001b[0mValueError\u001b[0m \u001b[1;32mas\u001b[0m \u001b[0merr\u001b[0m\u001b[1;33m:\u001b[0m\u001b[1;33m\u001b[0m\u001b[1;33m\u001b[0m\u001b[0m\n\u001b[0;32m    704\u001b[0m                 raise ValueError(\n",
      "\u001b[1;32m~\\anaconda3\\lib\\site-packages\\pandas\\core\\indexing.py\u001b[0m in \u001b[0;36m_validate_key\u001b[1;34m(self, key, axis)\u001b[0m\n\u001b[0;32m   1350\u001b[0m             \u001b[1;32mreturn\u001b[0m\u001b[1;33m\u001b[0m\u001b[1;33m\u001b[0m\u001b[0m\n\u001b[0;32m   1351\u001b[0m         \u001b[1;32melif\u001b[0m \u001b[0mis_integer\u001b[0m\u001b[1;33m(\u001b[0m\u001b[0mkey\u001b[0m\u001b[1;33m)\u001b[0m\u001b[1;33m:\u001b[0m\u001b[1;33m\u001b[0m\u001b[1;33m\u001b[0m\u001b[0m\n\u001b[1;32m-> 1352\u001b[1;33m             \u001b[0mself\u001b[0m\u001b[1;33m.\u001b[0m\u001b[0m_validate_integer\u001b[0m\u001b[1;33m(\u001b[0m\u001b[0mkey\u001b[0m\u001b[1;33m,\u001b[0m \u001b[0maxis\u001b[0m\u001b[1;33m)\u001b[0m\u001b[1;33m\u001b[0m\u001b[1;33m\u001b[0m\u001b[0m\n\u001b[0m\u001b[0;32m   1353\u001b[0m         \u001b[1;32melif\u001b[0m \u001b[0misinstance\u001b[0m\u001b[1;33m(\u001b[0m\u001b[0mkey\u001b[0m\u001b[1;33m,\u001b[0m \u001b[0mtuple\u001b[0m\u001b[1;33m)\u001b[0m\u001b[1;33m:\u001b[0m\u001b[1;33m\u001b[0m\u001b[1;33m\u001b[0m\u001b[0m\n\u001b[0;32m   1354\u001b[0m             \u001b[1;31m# a tuple should already have been caught by this point\u001b[0m\u001b[1;33m\u001b[0m\u001b[1;33m\u001b[0m\u001b[1;33m\u001b[0m\u001b[0m\n",
      "\u001b[1;32m~\\anaconda3\\lib\\site-packages\\pandas\\core\\indexing.py\u001b[0m in \u001b[0;36m_validate_integer\u001b[1;34m(self, key, axis)\u001b[0m\n\u001b[0;32m   1435\u001b[0m         \u001b[0mlen_axis\u001b[0m \u001b[1;33m=\u001b[0m \u001b[0mlen\u001b[0m\u001b[1;33m(\u001b[0m\u001b[0mself\u001b[0m\u001b[1;33m.\u001b[0m\u001b[0mobj\u001b[0m\u001b[1;33m.\u001b[0m\u001b[0m_get_axis\u001b[0m\u001b[1;33m(\u001b[0m\u001b[0maxis\u001b[0m\u001b[1;33m)\u001b[0m\u001b[1;33m)\u001b[0m\u001b[1;33m\u001b[0m\u001b[1;33m\u001b[0m\u001b[0m\n\u001b[0;32m   1436\u001b[0m         \u001b[1;32mif\u001b[0m \u001b[0mkey\u001b[0m \u001b[1;33m>=\u001b[0m \u001b[0mlen_axis\u001b[0m \u001b[1;32mor\u001b[0m \u001b[0mkey\u001b[0m \u001b[1;33m<\u001b[0m \u001b[1;33m-\u001b[0m\u001b[0mlen_axis\u001b[0m\u001b[1;33m:\u001b[0m\u001b[1;33m\u001b[0m\u001b[1;33m\u001b[0m\u001b[0m\n\u001b[1;32m-> 1437\u001b[1;33m             \u001b[1;32mraise\u001b[0m \u001b[0mIndexError\u001b[0m\u001b[1;33m(\u001b[0m\u001b[1;34m\"single positional indexer is out-of-bounds\"\u001b[0m\u001b[1;33m)\u001b[0m\u001b[1;33m\u001b[0m\u001b[1;33m\u001b[0m\u001b[0m\n\u001b[0m\u001b[0;32m   1438\u001b[0m \u001b[1;33m\u001b[0m\u001b[0m\n\u001b[0;32m   1439\u001b[0m     \u001b[1;31m# -------------------------------------------------------------------\u001b[0m\u001b[1;33m\u001b[0m\u001b[1;33m\u001b[0m\u001b[1;33m\u001b[0m\u001b[0m\n",
<<<<<<< Updated upstream
=======
      "\u001b[1;32m<ipython-input-14-9d6d516fb632>\u001b[0m in \u001b[0;36m<module>\u001b[1;34m\u001b[0m\n\u001b[0;32m      9\u001b[0m \u001b[1;33m\u001b[0m\u001b[0m\n\u001b[0;32m     10\u001b[0m \u001b[1;31m#https://stackoverflow.com/questions/31593201/how-are-iloc-and-loc-different\u001b[0m\u001b[1;33m\u001b[0m\u001b[1;33m\u001b[0m\u001b[1;33m\u001b[0m\u001b[0m\n\u001b[1;32m---> 11\u001b[1;33m \u001b[0max\u001b[0m\u001b[1;33m.\u001b[0m\u001b[0mscatter\u001b[0m\u001b[1;33m(\u001b[0m\u001b[0mdata\u001b[0m\u001b[1;33m.\u001b[0m\u001b[0miloc\u001b[0m\u001b[1;33m[\u001b[0m\u001b[1;33m:\u001b[0m\u001b[1;33m,\u001b[0m \u001b[1;36m2\u001b[0m\u001b[1;33m]\u001b[0m\u001b[1;33m,\u001b[0m \u001b[0mdata\u001b[0m\u001b[1;33m.\u001b[0m\u001b[0miloc\u001b[0m\u001b[1;33m[\u001b[0m\u001b[1;33m:\u001b[0m\u001b[1;33m,\u001b[0m \u001b[1;36m22\u001b[0m\u001b[1;33m]\u001b[0m\u001b[1;33m)\u001b[0m\u001b[1;33m\u001b[0m\u001b[1;33m\u001b[0m\u001b[0m\n\u001b[0m",
      "\u001b[1;32mE:\\anaconda\\lib\\site-packages\\pandas\\core\\indexing.py\u001b[0m in \u001b[0;36m__getitem__\u001b[1;34m(self, key)\u001b[0m\n\u001b[0;32m   1492\u001b[0m             \u001b[1;32mexcept\u001b[0m \u001b[1;33m(\u001b[0m\u001b[0mKeyError\u001b[0m\u001b[1;33m,\u001b[0m \u001b[0mIndexError\u001b[0m\u001b[1;33m,\u001b[0m \u001b[0mAttributeError\u001b[0m\u001b[1;33m)\u001b[0m\u001b[1;33m:\u001b[0m\u001b[1;33m\u001b[0m\u001b[1;33m\u001b[0m\u001b[0m\n\u001b[0;32m   1493\u001b[0m                 \u001b[1;32mpass\u001b[0m\u001b[1;33m\u001b[0m\u001b[1;33m\u001b[0m\u001b[0m\n\u001b[1;32m-> 1494\u001b[1;33m             \u001b[1;32mreturn\u001b[0m \u001b[0mself\u001b[0m\u001b[1;33m.\u001b[0m\u001b[0m_getitem_tuple\u001b[0m\u001b[1;33m(\u001b[0m\u001b[0mkey\u001b[0m\u001b[1;33m)\u001b[0m\u001b[1;33m\u001b[0m\u001b[1;33m\u001b[0m\u001b[0m\n\u001b[0m\u001b[0;32m   1495\u001b[0m         \u001b[1;32melse\u001b[0m\u001b[1;33m:\u001b[0m\u001b[1;33m\u001b[0m\u001b[1;33m\u001b[0m\u001b[0m\n\u001b[0;32m   1496\u001b[0m             \u001b[1;31m# we by definition only have the 0th axis\u001b[0m\u001b[1;33m\u001b[0m\u001b[1;33m\u001b[0m\u001b[1;33m\u001b[0m\u001b[0m\n",
      "\u001b[1;32mE:\\anaconda\\lib\\site-packages\\pandas\\core\\indexing.py\u001b[0m in \u001b[0;36m_getitem_tuple\u001b[1;34m(self, tup)\u001b[0m\n\u001b[0;32m   2141\u001b[0m     \u001b[1;32mdef\u001b[0m \u001b[0m_getitem_tuple\u001b[0m\u001b[1;33m(\u001b[0m\u001b[0mself\u001b[0m\u001b[1;33m,\u001b[0m \u001b[0mtup\u001b[0m\u001b[1;33m)\u001b[0m\u001b[1;33m:\u001b[0m\u001b[1;33m\u001b[0m\u001b[1;33m\u001b[0m\u001b[0m\n\u001b[0;32m   2142\u001b[0m \u001b[1;33m\u001b[0m\u001b[0m\n\u001b[1;32m-> 2143\u001b[1;33m         \u001b[0mself\u001b[0m\u001b[1;33m.\u001b[0m\u001b[0m_has_valid_tuple\u001b[0m\u001b[1;33m(\u001b[0m\u001b[0mtup\u001b[0m\u001b[1;33m)\u001b[0m\u001b[1;33m\u001b[0m\u001b[1;33m\u001b[0m\u001b[0m\n\u001b[0m\u001b[0;32m   2144\u001b[0m         \u001b[1;32mtry\u001b[0m\u001b[1;33m:\u001b[0m\u001b[1;33m\u001b[0m\u001b[1;33m\u001b[0m\u001b[0m\n\u001b[0;32m   2145\u001b[0m             \u001b[1;32mreturn\u001b[0m \u001b[0mself\u001b[0m\u001b[1;33m.\u001b[0m\u001b[0m_getitem_lowerdim\u001b[0m\u001b[1;33m(\u001b[0m\u001b[0mtup\u001b[0m\u001b[1;33m)\u001b[0m\u001b[1;33m\u001b[0m\u001b[1;33m\u001b[0m\u001b[0m\n",
      "\u001b[1;32mE:\\anaconda\\lib\\site-packages\\pandas\\core\\indexing.py\u001b[0m in \u001b[0;36m_has_valid_tuple\u001b[1;34m(self, key)\u001b[0m\n\u001b[0;32m    221\u001b[0m                 \u001b[1;32mraise\u001b[0m \u001b[0mIndexingError\u001b[0m\u001b[1;33m(\u001b[0m\u001b[1;34m'Too many indexers'\u001b[0m\u001b[1;33m)\u001b[0m\u001b[1;33m\u001b[0m\u001b[1;33m\u001b[0m\u001b[0m\n\u001b[0;32m    222\u001b[0m             \u001b[1;32mtry\u001b[0m\u001b[1;33m:\u001b[0m\u001b[1;33m\u001b[0m\u001b[1;33m\u001b[0m\u001b[0m\n\u001b[1;32m--> 223\u001b[1;33m                 \u001b[0mself\u001b[0m\u001b[1;33m.\u001b[0m\u001b[0m_validate_key\u001b[0m\u001b[1;33m(\u001b[0m\u001b[0mk\u001b[0m\u001b[1;33m,\u001b[0m \u001b[0mi\u001b[0m\u001b[1;33m)\u001b[0m\u001b[1;33m\u001b[0m\u001b[1;33m\u001b[0m\u001b[0m\n\u001b[0m\u001b[0;32m    224\u001b[0m             \u001b[1;32mexcept\u001b[0m \u001b[0mValueError\u001b[0m\u001b[1;33m:\u001b[0m\u001b[1;33m\u001b[0m\u001b[1;33m\u001b[0m\u001b[0m\n\u001b[0;32m    225\u001b[0m                 raise ValueError(\"Location based indexing can only have \"\n",
      "\u001b[1;32mE:\\anaconda\\lib\\site-packages\\pandas\\core\\indexing.py\u001b[0m in \u001b[0;36m_validate_key\u001b[1;34m(self, key, axis)\u001b[0m\n\u001b[0;32m   2068\u001b[0m             \u001b[1;32mreturn\u001b[0m\u001b[1;33m\u001b[0m\u001b[1;33m\u001b[0m\u001b[0m\n\u001b[0;32m   2069\u001b[0m         \u001b[1;32melif\u001b[0m \u001b[0mis_integer\u001b[0m\u001b[1;33m(\u001b[0m\u001b[0mkey\u001b[0m\u001b[1;33m)\u001b[0m\u001b[1;33m:\u001b[0m\u001b[1;33m\u001b[0m\u001b[1;33m\u001b[0m\u001b[0m\n\u001b[1;32m-> 2070\u001b[1;33m             \u001b[0mself\u001b[0m\u001b[1;33m.\u001b[0m\u001b[0m_validate_integer\u001b[0m\u001b[1;33m(\u001b[0m\u001b[0mkey\u001b[0m\u001b[1;33m,\u001b[0m \u001b[0maxis\u001b[0m\u001b[1;33m)\u001b[0m\u001b[1;33m\u001b[0m\u001b[1;33m\u001b[0m\u001b[0m\n\u001b[0m\u001b[0;32m   2071\u001b[0m         \u001b[1;32melif\u001b[0m \u001b[0misinstance\u001b[0m\u001b[1;33m(\u001b[0m\u001b[0mkey\u001b[0m\u001b[1;33m,\u001b[0m \u001b[0mtuple\u001b[0m\u001b[1;33m)\u001b[0m\u001b[1;33m:\u001b[0m\u001b[1;33m\u001b[0m\u001b[1;33m\u001b[0m\u001b[0m\n\u001b[0;32m   2072\u001b[0m             \u001b[1;31m# a tuple should already have been caught by this point\u001b[0m\u001b[1;33m\u001b[0m\u001b[1;33m\u001b[0m\u001b[1;33m\u001b[0m\u001b[0m\n",
      "\u001b[1;32mE:\\anaconda\\lib\\site-packages\\pandas\\core\\indexing.py\u001b[0m in \u001b[0;36m_validate_integer\u001b[1;34m(self, key, axis)\u001b[0m\n\u001b[0;32m   2137\u001b[0m         \u001b[0mlen_axis\u001b[0m \u001b[1;33m=\u001b[0m \u001b[0mlen\u001b[0m\u001b[1;33m(\u001b[0m\u001b[0mself\u001b[0m\u001b[1;33m.\u001b[0m\u001b[0mobj\u001b[0m\u001b[1;33m.\u001b[0m\u001b[0m_get_axis\u001b[0m\u001b[1;33m(\u001b[0m\u001b[0maxis\u001b[0m\u001b[1;33m)\u001b[0m\u001b[1;33m)\u001b[0m\u001b[1;33m\u001b[0m\u001b[1;33m\u001b[0m\u001b[0m\n\u001b[0;32m   2138\u001b[0m         \u001b[1;32mif\u001b[0m \u001b[0mkey\u001b[0m \u001b[1;33m>=\u001b[0m \u001b[0mlen_axis\u001b[0m \u001b[1;32mor\u001b[0m \u001b[0mkey\u001b[0m \u001b[1;33m<\u001b[0m \u001b[1;33m-\u001b[0m\u001b[0mlen_axis\u001b[0m\u001b[1;33m:\u001b[0m\u001b[1;33m\u001b[0m\u001b[1;33m\u001b[0m\u001b[0m\n\u001b[1;32m-> 2139\u001b[1;33m             \u001b[1;32mraise\u001b[0m \u001b[0mIndexError\u001b[0m\u001b[1;33m(\u001b[0m\u001b[1;34m\"single positional indexer is out-of-bounds\"\u001b[0m\u001b[1;33m)\u001b[0m\u001b[1;33m\u001b[0m\u001b[1;33m\u001b[0m\u001b[0m\n\u001b[0m\u001b[0;32m   2140\u001b[0m \u001b[1;33m\u001b[0m\u001b[0m\n\u001b[0;32m   2141\u001b[0m     \u001b[1;32mdef\u001b[0m \u001b[0m_getitem_tuple\u001b[0m\u001b[1;33m(\u001b[0m\u001b[0mself\u001b[0m\u001b[1;33m,\u001b[0m \u001b[0mtup\u001b[0m\u001b[1;33m)\u001b[0m\u001b[1;33m:\u001b[0m\u001b[1;33m\u001b[0m\u001b[1;33m\u001b[0m\u001b[0m\n",
>>>>>>> Stashed changes
=======
>>>>>>> Stashed changes
      "\u001b[1;31mIndexError\u001b[0m: single positional indexer is out-of-bounds"
     ]
    },
    {
     "data": {
<<<<<<< Updated upstream
      "image/png": "iVBORw0KGgoAAAANSUhEUgAAAUQAAAEzCAYAAABJzXq/AAAABHNCSVQICAgIfAhkiAAAAAlwSFlzAAALEgAACxIB0t1+/AAAADh0RVh0U29mdHdhcmUAbWF0cGxvdGxpYiB2ZXJzaW9uMy4xLjAsIGh0dHA6Ly9tYXRwbG90bGliLm9yZy+17YcXAAANwklEQVR4nO3cf4jk9X3H8edLrzbUGlPiBoJ3RkPPJlcpaBexBBpDbDkt3P1jwx1ImyIeSWP6R0LBYrHB/FVDGwhcmx5UTALRXPJHs4QToalikFziionxTq5sL7YuhnpJjP+Iv+i7f8y7cVz33O/tzczeXp8POJjvzGdn3x9n73nf2ZkxVYUkCc7Z6AEk6UxhECWpGURJagZRkppBlKRmECWprRnEJHcneS7Jkye5PUm+kGQpyRNJrpr8mJI0fUPOEO8Bdr7F7dcD2/vPPuAfT38sSZq9NYNYVQ8DP3+LJbuBL9fIYeAdSd49qQElaVYm8TvEi4Fnxo6X+zpJ2lS2TOA+ssp1q34eMMk+Rk+rOf/883/3fe973wS+vSS97rHHHvtpVc2t52snEcRlYNvY8Vbg2dUWVtUB4ADA/Px8LS4uTuDbS9Lrkvzner92Ek+ZF4A/6VebrwFeqKqfTOB+JWmm1jxDTHIvcC1wUZJl4G+AXwGoqi8Ch4AbgCXgReDPpjWsJE3TmkGsqr1r3F7AJyY2kSRtED+pIknNIEpSM4iS1AyiJDWDKEnNIEpSM4iS1AyiJDWDKEnNIEpSM4iS1AyiJDWDKEnNIEpSM4iS1AyiJDWDKEnNIEpSM4iS1AyiJDWDKEnNIEpSM4iS1AyiJDWDKEnNIEpSM4iS1AyiJDWDKEnNIEpSM4iS1AyiJDWDKEnNIEpSM4iS1AyiJDWDKEnNIEpSM4iS1AyiJDWDKEnNIEpSM4iS1AyiJDWDKEnNIEpSGxTEJDuTHEuylOS2VW6/JMmDSR5P8kSSGyY/qiRN15pBTHIusB+4HtgB7E2yY8WyvwYOVtWVwB7gHyY9qCRN25AzxKuBpao6XlWvAPcBu1esKeDtfflC4NnJjShJszEkiBcDz4wdL/d14z4D3JRkGTgEfHK1O0qyL8liksUTJ06sY1xJmp4hQcwq19WK473APVW1FbgB+EqSN913VR2oqvmqmp+bmzv1aSVpioYEcRnYNna8lTc/Jb4ZOAhQVd8F3gZcNIkBJWlWhgTxUWB7ksuSnMfoRZOFFWv+C/gwQJL3Mwqiz4klbSprBrGqXgNuBR4AnmL0avKRJHcm2dXLPg3ckuSHwL3AR6tq5dNqSTqjbRmyqKoOMXqxZPy6O8YuHwU+MNnRJGm2/KSKJDWDKEnNIEpSM4iS1AyiJDWDKEnNIEpSM4iS1AyiJDWDKEnNIEpSM4iS1AyiJDWDKEnNIEpSM4iS1AyiJDWDKEnNIEpSM4iS1AyiJDWDKEnNIEpSM4iS1AyiJDWDKEnNIEpSM4iS1AyiJDWDKEnNIEpSM4iS1AyiJDWDKEnNIEpSM4iS1AyiJDWDKEnNIEpSM4iS1AyiJDWDKEnNIEpSM4iS1AyiJLVBQUyyM8mxJEtJbjvJmo8kOZrkSJKvTnZMSZq+LWstSHIusB/4A2AZeDTJQlUdHVuzHfgr4ANV9XySd01rYEmaliFniFcDS1V1vKpeAe4Ddq9Ycwuwv6qeB6iq5yY7piRN35AgXgw8M3a83NeNuxy4PMkjSQ4n2TmpASVpVtZ8ygxkletqlfvZDlwLbAW+k+SKqvrFG+4o2QfsA7jkkktOeVhJmqYhZ4jLwLax463As6us+WZVvVpVPwaOMQrkG1TVgaqar6r5ubm59c4sSVMxJIiPAtuTXJbkPGAPsLBizb8AHwJIchGjp9DHJzmoJE3bmkGsqteAW4EHgKeAg1V1JMmdSXb1sgeAnyU5CjwI/GVV/WxaQ0vSNKRq5a8DZ2N+fr4WFxc35HtLOnsleayq5tfztX5SRZKaQZSkZhAlqRlESWoGUZKaQZSkZhAlqRlESWoGUZKaQZSkZhAlqRlESWoGUZKaQZSkZhAlqRlESWoGUZKaQZSkZhAlqRlESWoGUZKaQZSkZhAlqRlESWoGUZKaQZSkZhAlqRlESWoGUZKaQZSkZhAlqRlESWoGUZKaQZSkZhAlqRlESWoGUZKaQZSkZhAlqRlESWoGUZKaQZSkZhAlqRlESWoGUZLaoCAm2ZnkWJKlJLe9xbobk1SS+cmNKEmzsWYQk5wL7AeuB3YAe5PsWGXdBcBfAN+b9JCSNAtDzhCvBpaq6nhVvQLcB+xeZd1ngbuAlyY4nyTNzJAgXgw8M3a83Nf9UpIrgW1V9a0JziZJMzUkiFnluvrljck5wOeBT695R8m+JItJFk+cODF8SkmagSFBXAa2jR1vBZ4dO74AuAJ4KMnTwDXAwmovrFTVgaqar6r5ubm59U8tSVMwJIiPAtuTXJbkPGAPsPB/N1bVC1V1UVVdWlWXAoeBXVW1OJWJJWlK1gxiVb0G3Ao8ADwFHKyqI0nuTLJr2gNK0qxsGbKoqg4Bh1Zcd8dJ1l57+mNJ0uz5SRVJagZRkppBlKRmECWpGURJagZRkppBlKRmECWpGURJagZRkppBlKRmECWpGURJagZRkppBlKRmECWpGURJagZRkppBlKRmECWpGURJagZRkppBlKRmECWpGURJagZRkppBlKRmECWpGURJagZRkppBlKRmECWpGURJagZRkppBlKRmECWpGURJagZRkppBlKRmECWpGURJagZRkppBlKRmECWpGURJagZRktqgICbZmeRYkqUkt61y+6eSHE3yRJJvJ3nP5EeVpOlaM4hJzgX2A9cDO4C9SXasWPY4MF9VvwN8A7hr0oNK0rQNOUO8GliqquNV9QpwH7B7fEFVPVhVL/bhYWDrZMeUpOkbEsSLgWfGjpf7upO5Gbh/tRuS7EuymGTxxIkTw6eUpBkYEsSscl2tujC5CZgHPrfa7VV1oKrmq2p+bm5u+JSSNANbBqxZBraNHW8Fnl25KMl1wO3AB6vq5cmMJ0mzM+QM8VFge5LLkpwH7AEWxhckuRL4J2BXVT03+TElafrWDGJVvQbcCjwAPAUcrKojSe5MsquXfQ74deDrSX6QZOEkdydJZ6whT5mpqkPAoRXX3TF2+boJzyVJM+cnVSSpGURJagZRkppBlKRmECWpGURJagZRkppBlKRmECWpGURJagZRkppBlKRmECWpGURJagZRkppBlKRmECWpGURJagZRkppBlKRmECWpGURJagZRkppBlKRmECWpGURJagZRkppBlKRmECWpGURJagZRkppBlKRmECWpGURJagZRkppBlKRmECWpGURJagZRkppBlKRmECWpGURJagZRkppBlKRmECWpDQpikp1JjiVZSnLbKrf/apKv9e3fS3LppAeVpGlbM4hJzgX2A9cDO4C9SXasWHYz8HxV/SbweeBvJz2oJE3bkDPEq4GlqjpeVa8A9wG7V6zZDXypL38D+HCSTG5MSZq+IUG8GHhm7Hi5r1t1TVW9BrwAvHMSA0rSrGwZsGa1M71axxqS7AP29eHLSZ4c8P03q4uAn270EFN0Nu/vbN4bnP37+631fuGQIC4D28aOtwLPnmTNcpItwIXAz1feUVUdAA4AJFmsqvn1DL0ZuL/N62zeG/z/2N96v3bIU+ZHge1JLktyHrAHWFixZgH40758I/BvVfWmM0RJOpOteYZYVa8luRV4ADgXuLuqjiS5E1isqgXgn4GvJFlidGa4Z5pDS9I0DHnKTFUdAg6tuO6OscsvAX98it/7wCmu32zc3+Z1Nu8N3N9JxWe2kjTiR/ckqU09iGf7x/4G7O9TSY4meSLJt5O8ZyPmXI+19ja27sYklWRTvXI5ZH9JPtKP35EkX531jKdjwM/mJUkeTPJ4/3zesBFzrkeSu5M8d7K37mXkC733J5JcNeiOq2pqfxi9CPMfwHuB84AfAjtWrPlz4It9eQ/wtWnOtAH7+xDwa33545tlf0P21usuAB4GDgPzGz33hB+77cDjwG/08bs2eu4J7+8A8PG+vAN4eqPnPoX9/T5wFfDkSW6/Abif0XukrwG+N+R+p32GeLZ/7G/N/VXVg1X1Yh8eZvQ+zs1gyGMH8FngLuClWQ43AUP2dwuwv6qeB6iq52Y84+kYsr8C3t6XL+TN7y8+Y1XVw6zyXucxu4Ev18hh4B1J3r3W/U47iGf7x/6G7G/czYz+1doM1txbkiuBbVX1rVkONiFDHrvLgcuTPJLkcJKdM5vu9A3Z32eAm5IsM3oXySdnM9pMnOrfTWDg225Ow8Q+9neGGjx7kpuAeeCDU51oct5yb0nOYfR/NvrorAaasCGP3RZGT5uvZXRm/50kV1TVL6Y82yQM2d9e4J6q+rskv8fovcRXVNX/TH+8qVtXV6Z9hngqH/vjrT72d4Yasj+SXAfcDuyqqpdnNNvpWmtvFwBXAA8leZrR72kWNtELK0N/Nr9ZVa9W1Y+BY4wCuRkM2d/NwEGAqvou8DZGn3M+Gwz6u/kmU/7F5xbgOHAZr/9i97dXrPkEb3xR5eBG/8J2wvu7ktEvt7dv9LyT3tuK9Q+xuV5UGfLY7QS+1JcvYvQU7J0bPfsE93c/8NG+/P4ORjZ69lPY46Wc/EWVP+KNL6p8f9B9zmDoG4B/7yjc3tfdyehsCUb/Kn0dWAK+D7x3o/9DT3h//wr8N/CD/rOw0TNPam8r1m6qIA587AL8PXAU+BGwZ6NnnvD+dgCPdCx/APzhRs98Cnu7F/gJ8Cqjs8GbgY8BHxt77Pb33n809GfTT6pIUvOTKpLUDKIkNYMoSc0gSlIziJLUDKIkNYMoSc0gSlL7X0ncl6qNxlkSAAAAAElFTkSuQmCC\n",
=======
      "image/png": "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\n",
>>>>>>> Stashed changes
      "text/plain": [
       "<Figure size 360x360 with 1 Axes>"
      ]
     },
     "metadata": {
      "needs_background": "light"
     },
     "output_type": "display_data"
    }
   ],
   "source": [
    "# plot film with revenue on X and budget on Y. There are budget's row with 0 value.\n",
    "%matplotlib inline \n",
    "import matplotlib.pyplot as plt\n",
    "# use the following for more interactive plots\n",
    "# %matplotlib inline \n",
    "\n",
    "import numpy as np\n",
    "fig, ax = plt.subplots(figsize=(5,5))\n",
    "\n",
    "#https://stackoverflow.com/questions/31593201/how-are-iloc-and-loc-different\n",
    "ax.scatter(data.iloc[:, 2], data.iloc[:, 22])"
   ]
  },
  {
   "cell_type": "code",
<<<<<<< Updated upstream
<<<<<<< Updated upstream
   "execution_count": 15,
=======
   "execution_count": 53,
>>>>>>> Stashed changes
   "metadata": {},
   "outputs": [
    {
     "data": {
      "text/plain": [
       "id                          0\n",
       "belongs_to_collection    2396\n",
       "budget                      0\n",
       "genres                      7\n",
       "imdb_id                     0\n",
       "original_language           0\n",
       "original_title              0\n",
       "overview                    8\n",
       "popularity                  0\n",
       "poster_path                 1\n",
       "production_companies      156\n",
       "production_countries       55\n",
       "release_date                0\n",
       "runtime                     2\n",
       "spoken_languages           20\n",
       "status                      0\n",
       "tagline                   597\n",
       "title                       0\n",
       "Keywords                  276\n",
       "cast                       13\n",
       "crew                       16\n",
       "revenue                     0\n",
       "dtype: int64"
      ]
     },
     "execution_count": 53,
     "metadata": {},
     "output_type": "execute_result"
    }
   ],
=======
   "execution_count": null,
   "metadata": {},
   "outputs": [],
>>>>>>> Stashed changes
   "source": [
    "data.isna().sum()"
   ]
  },
  {
   "cell_type": "code",
<<<<<<< Updated upstream
   "execution_count": 16,
=======
   "execution_count": 54,
>>>>>>> Stashed changes
   "metadata": {},
   "outputs": [
    {
     "ename": "AttributeError",
     "evalue": "'DataFrame' object has no attribute 'dtype'",
     "output_type": "error",
     "traceback": [
      "\u001b[1;31m---------------------------------------------------------------------------\u001b[0m",
      "\u001b[1;31mValueError\u001b[0m                                Traceback (most recent call last)",
<<<<<<< Updated upstream
<<<<<<< Updated upstream
      "\u001b[1;32m<ipython-input-16-c440ef7206d0>\u001b[0m in \u001b[0;36m<module>\u001b[1;34m\u001b[0m\n\u001b[0;32m      1\u001b[0m \u001b[1;32mfrom\u001b[0m \u001b[0msklearn\u001b[0m\u001b[1;33m.\u001b[0m\u001b[0mimpute\u001b[0m \u001b[1;32mimport\u001b[0m \u001b[0mSimpleImputer\u001b[0m\u001b[1;33m\u001b[0m\u001b[1;33m\u001b[0m\u001b[0m\n\u001b[0;32m      2\u001b[0m \u001b[0mimputer\u001b[0m \u001b[1;33m=\u001b[0m \u001b[0mSimpleImputer\u001b[0m\u001b[1;33m(\u001b[0m\u001b[0mmissing_values\u001b[0m \u001b[1;33m=\u001b[0m \u001b[0mnp\u001b[0m\u001b[1;33m.\u001b[0m\u001b[0mnan\u001b[0m\u001b[1;33m,\u001b[0m \u001b[0mstrategy\u001b[0m \u001b[1;33m=\u001b[0m \u001b[1;34m'mean'\u001b[0m\u001b[1;33m,\u001b[0m\u001b[0mverbose\u001b[0m\u001b[1;33m=\u001b[0m\u001b[1;36m0\u001b[0m\u001b[1;33m)\u001b[0m\u001b[1;33m\u001b[0m\u001b[1;33m\u001b[0m\u001b[0m\n\u001b[1;32m----> 3\u001b[1;33m \u001b[0mimputer\u001b[0m \u001b[1;33m=\u001b[0m \u001b[0mimputer\u001b[0m\u001b[1;33m.\u001b[0m\u001b[0mfit\u001b[0m\u001b[1;33m(\u001b[0m\u001b[0mdata\u001b[0m\u001b[1;33m.\u001b[0m\u001b[0miloc\u001b[0m\u001b[1;33m[\u001b[0m\u001b[1;33m:\u001b[0m\u001b[1;33m,\u001b[0m \u001b[1;36m1\u001b[0m\u001b[1;33m:\u001b[0m\u001b[1;36m3\u001b[0m\u001b[1;33m]\u001b[0m\u001b[1;33m)\u001b[0m\u001b[1;33m\u001b[0m\u001b[1;33m\u001b[0m\u001b[0m\n\u001b[0m\u001b[0;32m      4\u001b[0m \u001b[0mdata\u001b[0m\u001b[1;33m.\u001b[0m\u001b[0miloc\u001b[0m\u001b[1;33m[\u001b[0m\u001b[1;33m:\u001b[0m\u001b[1;33m,\u001b[0m \u001b[1;36m1\u001b[0m\u001b[1;33m:\u001b[0m\u001b[1;36m3\u001b[0m\u001b[1;33m]\u001b[0m \u001b[1;33m=\u001b[0m \u001b[0mimputer\u001b[0m\u001b[1;33m.\u001b[0m\u001b[0mtransform\u001b[0m\u001b[1;33m(\u001b[0m\u001b[0mdata\u001b[0m\u001b[1;33m.\u001b[0m\u001b[0miloc\u001b[0m\u001b[1;33m[\u001b[0m\u001b[1;33m:\u001b[0m\u001b[1;33m,\u001b[0m \u001b[1;36m1\u001b[0m\u001b[1;33m:\u001b[0m\u001b[1;36m3\u001b[0m\u001b[1;33m]\u001b[0m\u001b[1;33m)\u001b[0m\u001b[1;33m\u001b[0m\u001b[1;33m\u001b[0m\u001b[0m\n",
=======
      "\u001b[1;32m<ipython-input-54-c440ef7206d0>\u001b[0m in \u001b[0;36m<module>\u001b[1;34m\u001b[0m\n\u001b[0;32m      1\u001b[0m \u001b[1;32mfrom\u001b[0m \u001b[0msklearn\u001b[0m\u001b[1;33m.\u001b[0m\u001b[0mimpute\u001b[0m \u001b[1;32mimport\u001b[0m \u001b[0mSimpleImputer\u001b[0m\u001b[1;33m\u001b[0m\u001b[1;33m\u001b[0m\u001b[0m\n\u001b[0;32m      2\u001b[0m \u001b[0mimputer\u001b[0m \u001b[1;33m=\u001b[0m \u001b[0mSimpleImputer\u001b[0m\u001b[1;33m(\u001b[0m\u001b[0mmissing_values\u001b[0m \u001b[1;33m=\u001b[0m \u001b[0mnp\u001b[0m\u001b[1;33m.\u001b[0m\u001b[0mnan\u001b[0m\u001b[1;33m,\u001b[0m \u001b[0mstrategy\u001b[0m \u001b[1;33m=\u001b[0m \u001b[1;34m'mean'\u001b[0m\u001b[1;33m,\u001b[0m\u001b[0mverbose\u001b[0m\u001b[1;33m=\u001b[0m\u001b[1;36m0\u001b[0m\u001b[1;33m)\u001b[0m\u001b[1;33m\u001b[0m\u001b[1;33m\u001b[0m\u001b[0m\n\u001b[1;32m----> 3\u001b[1;33m \u001b[0mimputer\u001b[0m \u001b[1;33m=\u001b[0m \u001b[0mimputer\u001b[0m\u001b[1;33m.\u001b[0m\u001b[0mfit\u001b[0m\u001b[1;33m(\u001b[0m\u001b[0mdata\u001b[0m\u001b[1;33m.\u001b[0m\u001b[0miloc\u001b[0m\u001b[1;33m[\u001b[0m\u001b[1;33m:\u001b[0m\u001b[1;33m,\u001b[0m \u001b[1;36m1\u001b[0m\u001b[1;33m:\u001b[0m\u001b[1;36m3\u001b[0m\u001b[1;33m]\u001b[0m\u001b[1;33m)\u001b[0m\u001b[1;33m\u001b[0m\u001b[1;33m\u001b[0m\u001b[0m\n\u001b[0m\u001b[0;32m      4\u001b[0m \u001b[0mdata\u001b[0m\u001b[1;33m.\u001b[0m\u001b[0miloc\u001b[0m\u001b[1;33m[\u001b[0m\u001b[1;33m:\u001b[0m\u001b[1;33m,\u001b[0m \u001b[1;36m1\u001b[0m\u001b[1;33m:\u001b[0m\u001b[1;36m3\u001b[0m\u001b[1;33m]\u001b[0m \u001b[1;33m=\u001b[0m \u001b[0mimputer\u001b[0m\u001b[1;33m.\u001b[0m\u001b[0mtransform\u001b[0m\u001b[1;33m(\u001b[0m\u001b[0mdata\u001b[0m\u001b[1;33m.\u001b[0m\u001b[0miloc\u001b[0m\u001b[1;33m[\u001b[0m\u001b[1;33m:\u001b[0m\u001b[1;33m,\u001b[0m \u001b[1;36m1\u001b[0m\u001b[1;33m:\u001b[0m\u001b[1;36m3\u001b[0m\u001b[1;33m]\u001b[0m\u001b[1;33m)\u001b[0m\u001b[1;33m\u001b[0m\u001b[1;33m\u001b[0m\u001b[0m\n",
>>>>>>> Stashed changes
      "\u001b[1;32m~\\anaconda3\\lib\\site-packages\\sklearn\\impute\\_base.py\u001b[0m in \u001b[0;36mfit\u001b[1;34m(self, X, y)\u001b[0m\n\u001b[0;32m    275\u001b[0m         \u001b[0mself\u001b[0m \u001b[1;33m:\u001b[0m \u001b[0mSimpleImputer\u001b[0m\u001b[1;33m\u001b[0m\u001b[1;33m\u001b[0m\u001b[0m\n\u001b[0;32m    276\u001b[0m         \"\"\"\n\u001b[1;32m--> 277\u001b[1;33m         \u001b[0mX\u001b[0m \u001b[1;33m=\u001b[0m \u001b[0mself\u001b[0m\u001b[1;33m.\u001b[0m\u001b[0m_validate_input\u001b[0m\u001b[1;33m(\u001b[0m\u001b[0mX\u001b[0m\u001b[1;33m,\u001b[0m \u001b[0min_fit\u001b[0m\u001b[1;33m=\u001b[0m\u001b[1;32mTrue\u001b[0m\u001b[1;33m)\u001b[0m\u001b[1;33m\u001b[0m\u001b[1;33m\u001b[0m\u001b[0m\n\u001b[0m\u001b[0;32m    278\u001b[0m         \u001b[0msuper\u001b[0m\u001b[1;33m(\u001b[0m\u001b[1;33m)\u001b[0m\u001b[1;33m.\u001b[0m\u001b[0m_fit_indicator\u001b[0m\u001b[1;33m(\u001b[0m\u001b[0mX\u001b[0m\u001b[1;33m)\u001b[0m\u001b[1;33m\u001b[0m\u001b[1;33m\u001b[0m\u001b[0m\n\u001b[0;32m    279\u001b[0m \u001b[1;33m\u001b[0m\u001b[0m\n",
      "\u001b[1;32m~\\anaconda3\\lib\\site-packages\\sklearn\\impute\\_base.py\u001b[0m in \u001b[0;36m_validate_input\u001b[1;34m(self, X, in_fit)\u001b[0m\n\u001b[0;32m    247\u001b[0m                 new_ve = ValueError(\"Cannot use {} strategy with non-numeric \"\n\u001b[0;32m    248\u001b[0m                                     \"data:\\n{}\".format(self.strategy, ve))\n\u001b[1;32m--> 249\u001b[1;33m                 \u001b[1;32mraise\u001b[0m \u001b[0mnew_ve\u001b[0m \u001b[1;32mfrom\u001b[0m \u001b[1;32mNone\u001b[0m\u001b[1;33m\u001b[0m\u001b[1;33m\u001b[0m\u001b[0m\n\u001b[0m\u001b[0;32m    250\u001b[0m             \u001b[1;32melse\u001b[0m\u001b[1;33m:\u001b[0m\u001b[1;33m\u001b[0m\u001b[1;33m\u001b[0m\u001b[0m\n\u001b[0;32m    251\u001b[0m                 \u001b[1;32mraise\u001b[0m \u001b[0mve\u001b[0m\u001b[1;33m\u001b[0m\u001b[1;33m\u001b[0m\u001b[0m\n",
      "\u001b[1;31mValueError\u001b[0m: Cannot use mean strategy with non-numeric data:\ncould not convert string to float: \"[{'id': 313576, 'name': 'Hot Tub Time Machine Collection', 'poster_path': '/iEhb00TGPucF0b4joM1ieyY026U.jpg', 'backdrop_path': '/noeTVcgpBiD48fDjFVic1Vz7ope.jpg'}]\""
=======
      "\u001b[1;32mE:\\anaconda\\lib\\site-packages\\sklearn\\impute\\_base.py\u001b[0m in \u001b[0;36m_validate_input\u001b[1;34m(self, X)\u001b[0m\n\u001b[0;32m    198\u001b[0m             X = check_array(X, accept_sparse='csc', dtype=dtype,\n\u001b[1;32m--> 199\u001b[1;33m                             force_all_finite=force_all_finite, copy=self.copy)\n\u001b[0m\u001b[0;32m    200\u001b[0m         \u001b[1;32mexcept\u001b[0m \u001b[0mValueError\u001b[0m \u001b[1;32mas\u001b[0m \u001b[0mve\u001b[0m\u001b[1;33m:\u001b[0m\u001b[1;33m\u001b[0m\u001b[1;33m\u001b[0m\u001b[0m\n",
      "\u001b[1;32mE:\\anaconda\\lib\\site-packages\\sklearn\\utils\\validation.py\u001b[0m in \u001b[0;36mcheck_array\u001b[1;34m(array, accept_sparse, accept_large_sparse, dtype, order, copy, force_all_finite, ensure_2d, allow_nd, ensure_min_samples, ensure_min_features, warn_on_dtype, estimator)\u001b[0m\n\u001b[0;32m    495\u001b[0m                 \u001b[0mwarnings\u001b[0m\u001b[1;33m.\u001b[0m\u001b[0msimplefilter\u001b[0m\u001b[1;33m(\u001b[0m\u001b[1;34m'error'\u001b[0m\u001b[1;33m,\u001b[0m \u001b[0mComplexWarning\u001b[0m\u001b[1;33m)\u001b[0m\u001b[1;33m\u001b[0m\u001b[1;33m\u001b[0m\u001b[0m\n\u001b[1;32m--> 496\u001b[1;33m                 \u001b[0marray\u001b[0m \u001b[1;33m=\u001b[0m \u001b[0mnp\u001b[0m\u001b[1;33m.\u001b[0m\u001b[0masarray\u001b[0m\u001b[1;33m(\u001b[0m\u001b[0marray\u001b[0m\u001b[1;33m,\u001b[0m \u001b[0mdtype\u001b[0m\u001b[1;33m=\u001b[0m\u001b[0mdtype\u001b[0m\u001b[1;33m,\u001b[0m \u001b[0morder\u001b[0m\u001b[1;33m=\u001b[0m\u001b[0morder\u001b[0m\u001b[1;33m)\u001b[0m\u001b[1;33m\u001b[0m\u001b[1;33m\u001b[0m\u001b[0m\n\u001b[0m\u001b[0;32m    497\u001b[0m             \u001b[1;32mexcept\u001b[0m \u001b[0mComplexWarning\u001b[0m\u001b[1;33m:\u001b[0m\u001b[1;33m\u001b[0m\u001b[1;33m\u001b[0m\u001b[0m\n",
      "\u001b[1;32mE:\\anaconda\\lib\\site-packages\\numpy\\core\\numeric.py\u001b[0m in \u001b[0;36masarray\u001b[1;34m(a, dtype, order)\u001b[0m\n\u001b[0;32m    537\u001b[0m     \"\"\"\n\u001b[1;32m--> 538\u001b[1;33m     \u001b[1;32mreturn\u001b[0m \u001b[0marray\u001b[0m\u001b[1;33m(\u001b[0m\u001b[0ma\u001b[0m\u001b[1;33m,\u001b[0m \u001b[0mdtype\u001b[0m\u001b[1;33m,\u001b[0m \u001b[0mcopy\u001b[0m\u001b[1;33m=\u001b[0m\u001b[1;32mFalse\u001b[0m\u001b[1;33m,\u001b[0m \u001b[0morder\u001b[0m\u001b[1;33m=\u001b[0m\u001b[0morder\u001b[0m\u001b[1;33m)\u001b[0m\u001b[1;33m\u001b[0m\u001b[1;33m\u001b[0m\u001b[0m\n\u001b[0m\u001b[0;32m    539\u001b[0m \u001b[1;33m\u001b[0m\u001b[0m\n",
      "\u001b[1;31mValueError\u001b[0m: could not convert string to float: \"[{'id': 313576, 'name': 'Hot Tub Time Machine Collection', 'poster_path': '/iEhb00TGPucF0b4joM1ieyY026U.jpg', 'backdrop_path': '/noeTVcgpBiD48fDjFVic1Vz7ope.jpg'}]\"",
      "\nDuring handling of the above exception, another exception occurred:\n",
      "\u001b[1;31mAttributeError\u001b[0m                            Traceback (most recent call last)",
      "\u001b[1;32m<ipython-input-15-c440ef7206d0>\u001b[0m in \u001b[0;36m<module>\u001b[1;34m\u001b[0m\n\u001b[0;32m      1\u001b[0m \u001b[1;32mfrom\u001b[0m \u001b[0msklearn\u001b[0m\u001b[1;33m.\u001b[0m\u001b[0mimpute\u001b[0m \u001b[1;32mimport\u001b[0m \u001b[0mSimpleImputer\u001b[0m\u001b[1;33m\u001b[0m\u001b[1;33m\u001b[0m\u001b[0m\n\u001b[0;32m      2\u001b[0m \u001b[0mimputer\u001b[0m \u001b[1;33m=\u001b[0m \u001b[0mSimpleImputer\u001b[0m\u001b[1;33m(\u001b[0m\u001b[0mmissing_values\u001b[0m \u001b[1;33m=\u001b[0m \u001b[0mnp\u001b[0m\u001b[1;33m.\u001b[0m\u001b[0mnan\u001b[0m\u001b[1;33m,\u001b[0m \u001b[0mstrategy\u001b[0m \u001b[1;33m=\u001b[0m \u001b[1;34m'mean'\u001b[0m\u001b[1;33m,\u001b[0m\u001b[0mverbose\u001b[0m\u001b[1;33m=\u001b[0m\u001b[1;36m0\u001b[0m\u001b[1;33m)\u001b[0m\u001b[1;33m\u001b[0m\u001b[1;33m\u001b[0m\u001b[0m\n\u001b[1;32m----> 3\u001b[1;33m \u001b[0mimputer\u001b[0m \u001b[1;33m=\u001b[0m \u001b[0mimputer\u001b[0m\u001b[1;33m.\u001b[0m\u001b[0mfit\u001b[0m\u001b[1;33m(\u001b[0m\u001b[0mdata\u001b[0m\u001b[1;33m.\u001b[0m\u001b[0miloc\u001b[0m\u001b[1;33m[\u001b[0m\u001b[1;33m:\u001b[0m\u001b[1;33m,\u001b[0m \u001b[1;36m1\u001b[0m\u001b[1;33m:\u001b[0m\u001b[1;36m3\u001b[0m\u001b[1;33m]\u001b[0m\u001b[1;33m)\u001b[0m\u001b[1;33m\u001b[0m\u001b[1;33m\u001b[0m\u001b[0m\n\u001b[0m\u001b[0;32m      4\u001b[0m \u001b[0mdata\u001b[0m\u001b[1;33m.\u001b[0m\u001b[0miloc\u001b[0m\u001b[1;33m[\u001b[0m\u001b[1;33m:\u001b[0m\u001b[1;33m,\u001b[0m \u001b[1;36m1\u001b[0m\u001b[1;33m:\u001b[0m\u001b[1;36m3\u001b[0m\u001b[1;33m]\u001b[0m \u001b[1;33m=\u001b[0m \u001b[0mimputer\u001b[0m\u001b[1;33m.\u001b[0m\u001b[0mtransform\u001b[0m\u001b[1;33m(\u001b[0m\u001b[0mdata\u001b[0m\u001b[1;33m.\u001b[0m\u001b[0miloc\u001b[0m\u001b[1;33m[\u001b[0m\u001b[1;33m:\u001b[0m\u001b[1;33m,\u001b[0m \u001b[1;36m1\u001b[0m\u001b[1;33m:\u001b[0m\u001b[1;36m3\u001b[0m\u001b[1;33m]\u001b[0m\u001b[1;33m)\u001b[0m\u001b[1;33m\u001b[0m\u001b[1;33m\u001b[0m\u001b[0m\n",
      "\u001b[1;32mE:\\anaconda\\lib\\site-packages\\sklearn\\impute\\_base.py\u001b[0m in \u001b[0;36mfit\u001b[1;34m(self, X, y)\u001b[0m\n\u001b[0;32m    230\u001b[0m         \u001b[0mself\u001b[0m \u001b[1;33m:\u001b[0m \u001b[0mSimpleImputer\u001b[0m\u001b[1;33m\u001b[0m\u001b[1;33m\u001b[0m\u001b[0m\n\u001b[0;32m    231\u001b[0m         \"\"\"\n\u001b[1;32m--> 232\u001b[1;33m         \u001b[0mX\u001b[0m \u001b[1;33m=\u001b[0m \u001b[0mself\u001b[0m\u001b[1;33m.\u001b[0m\u001b[0m_validate_input\u001b[0m\u001b[1;33m(\u001b[0m\u001b[0mX\u001b[0m\u001b[1;33m)\u001b[0m\u001b[1;33m\u001b[0m\u001b[1;33m\u001b[0m\u001b[0m\n\u001b[0m\u001b[0;32m    233\u001b[0m \u001b[1;33m\u001b[0m\u001b[0m\n\u001b[0;32m    234\u001b[0m         \u001b[1;31m# default fill_value is 0 for numerical input and \"missing_value\"\u001b[0m\u001b[1;33m\u001b[0m\u001b[1;33m\u001b[0m\u001b[1;33m\u001b[0m\u001b[0m\n",
      "\u001b[1;32mE:\\anaconda\\lib\\site-packages\\sklearn\\impute\\_base.py\u001b[0m in \u001b[0;36m_validate_input\u001b[1;34m(self, X)\u001b[0m\n\u001b[0;32m    202\u001b[0m                 raise ValueError(\"Cannot use {0} strategy with non-numeric \"\n\u001b[0;32m    203\u001b[0m                                  \u001b[1;34m\"data. Received datatype :{1}.\"\u001b[0m\u001b[1;33m\u001b[0m\u001b[1;33m\u001b[0m\u001b[0m\n\u001b[1;32m--> 204\u001b[1;33m                                  \"\".format(self.strategy, X.dtype.kind))\n\u001b[0m\u001b[0;32m    205\u001b[0m             \u001b[1;32melse\u001b[0m\u001b[1;33m:\u001b[0m\u001b[1;33m\u001b[0m\u001b[1;33m\u001b[0m\u001b[0m\n\u001b[0;32m    206\u001b[0m                 \u001b[1;32mraise\u001b[0m \u001b[0mve\u001b[0m\u001b[1;33m\u001b[0m\u001b[1;33m\u001b[0m\u001b[0m\n",
      "\u001b[1;32mE:\\anaconda\\lib\\site-packages\\pandas\\core\\generic.py\u001b[0m in \u001b[0;36m__getattr__\u001b[1;34m(self, name)\u001b[0m\n\u001b[0;32m   5065\u001b[0m             \u001b[1;32mif\u001b[0m \u001b[0mself\u001b[0m\u001b[1;33m.\u001b[0m\u001b[0m_info_axis\u001b[0m\u001b[1;33m.\u001b[0m\u001b[0m_can_hold_identifiers_and_holds_name\u001b[0m\u001b[1;33m(\u001b[0m\u001b[0mname\u001b[0m\u001b[1;33m)\u001b[0m\u001b[1;33m:\u001b[0m\u001b[1;33m\u001b[0m\u001b[1;33m\u001b[0m\u001b[0m\n\u001b[0;32m   5066\u001b[0m                 \u001b[1;32mreturn\u001b[0m \u001b[0mself\u001b[0m\u001b[1;33m[\u001b[0m\u001b[0mname\u001b[0m\u001b[1;33m]\u001b[0m\u001b[1;33m\u001b[0m\u001b[1;33m\u001b[0m\u001b[0m\n\u001b[1;32m-> 5067\u001b[1;33m             \u001b[1;32mreturn\u001b[0m \u001b[0mobject\u001b[0m\u001b[1;33m.\u001b[0m\u001b[0m__getattribute__\u001b[0m\u001b[1;33m(\u001b[0m\u001b[0mself\u001b[0m\u001b[1;33m,\u001b[0m \u001b[0mname\u001b[0m\u001b[1;33m)\u001b[0m\u001b[1;33m\u001b[0m\u001b[1;33m\u001b[0m\u001b[0m\n\u001b[0m\u001b[0;32m   5068\u001b[0m \u001b[1;33m\u001b[0m\u001b[0m\n\u001b[0;32m   5069\u001b[0m     \u001b[1;32mdef\u001b[0m \u001b[0m__setattr__\u001b[0m\u001b[1;33m(\u001b[0m\u001b[0mself\u001b[0m\u001b[1;33m,\u001b[0m \u001b[0mname\u001b[0m\u001b[1;33m,\u001b[0m \u001b[0mvalue\u001b[0m\u001b[1;33m)\u001b[0m\u001b[1;33m:\u001b[0m\u001b[1;33m\u001b[0m\u001b[1;33m\u001b[0m\u001b[0m\n",
      "\u001b[1;31mAttributeError\u001b[0m: 'DataFrame' object has no attribute 'dtype'"
>>>>>>> Stashed changes
     ]
    }
   ],
   "source": [
    "from sklearn.impute import SimpleImputer\n",
    "imputer = SimpleImputer(missing_values = np.nan, strategy = 'mean',verbose=0)\n",
    "imputer = imputer.fit(data.iloc[:, 1:3])\n",
    "data.iloc[:, 1:3] = imputer.transform(data.iloc[:, 1:3])"
   ]
  },
  {
   "cell_type": "code",
<<<<<<< Updated upstream
   "execution_count": 17,
=======
   "execution_count": 55,
>>>>>>> Stashed changes
   "metadata": {},
   "outputs": [
    {
     "name": "stdout",
     "output_type": "stream",
     "text": [
      "data_with_budget.shape: (2188, 22)\n"
     ]
    },
    {
<<<<<<< Updated upstream
     "data": {
      "text/plain": [
       "Text(0.5, 1.0, 'Revenue based on budget per movie')"
      ]
     },
     "execution_count": 17,
     "metadata": {},
     "output_type": "execute_result"
    },
    {
     "data": {
      "image/png": "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\n",
=======
     "ename": "IndexError",
     "evalue": "single positional indexer is out-of-bounds",
     "output_type": "error",
     "traceback": [
      "\u001b[1;31m---------------------------------------------------------------------------\u001b[0m",
      "\u001b[1;31mIndexError\u001b[0m                                Traceback (most recent call last)",
      "\u001b[1;32m<ipython-input-55-f12638f026da>\u001b[0m in \u001b[0;36m<module>\u001b[1;34m\u001b[0m\n\u001b[0;32m      5\u001b[0m \u001b[0mfig\u001b[0m\u001b[1;33m,\u001b[0m \u001b[0max\u001b[0m \u001b[1;33m=\u001b[0m \u001b[0mplt\u001b[0m\u001b[1;33m.\u001b[0m\u001b[0msubplots\u001b[0m\u001b[1;33m(\u001b[0m\u001b[0mfigsize\u001b[0m\u001b[1;33m=\u001b[0m\u001b[1;33m(\u001b[0m\u001b[1;36m20\u001b[0m\u001b[1;33m,\u001b[0m\u001b[1;36m20\u001b[0m\u001b[1;33m)\u001b[0m\u001b[1;33m)\u001b[0m\u001b[1;33m\u001b[0m\u001b[1;33m\u001b[0m\u001b[0m\n\u001b[0;32m      6\u001b[0m \u001b[1;33m\u001b[0m\u001b[0m\n\u001b[1;32m----> 7\u001b[1;33m \u001b[0max\u001b[0m\u001b[1;33m.\u001b[0m\u001b[0mscatter\u001b[0m\u001b[1;33m(\u001b[0m\u001b[0mdata_with_budget\u001b[0m\u001b[1;33m.\u001b[0m\u001b[0miloc\u001b[0m\u001b[1;33m[\u001b[0m\u001b[1;33m:\u001b[0m\u001b[1;33m,\u001b[0m \u001b[1;36m2\u001b[0m\u001b[1;33m]\u001b[0m\u001b[1;33m,\u001b[0m \u001b[0mdata_with_budget\u001b[0m\u001b[1;33m.\u001b[0m\u001b[0miloc\u001b[0m\u001b[1;33m[\u001b[0m\u001b[1;33m:\u001b[0m\u001b[1;33m,\u001b[0m \u001b[1;36m22\u001b[0m\u001b[1;33m]\u001b[0m\u001b[1;33m)\u001b[0m\u001b[1;33m\u001b[0m\u001b[1;33m\u001b[0m\u001b[0m\n\u001b[0m",
      "\u001b[1;32m~\\anaconda3\\lib\\site-packages\\pandas\\core\\indexing.py\u001b[0m in \u001b[0;36m__getitem__\u001b[1;34m(self, key)\u001b[0m\n\u001b[0;32m    871\u001b[0m                     \u001b[1;31m# AttributeError for IntervalTree get_value\u001b[0m\u001b[1;33m\u001b[0m\u001b[1;33m\u001b[0m\u001b[1;33m\u001b[0m\u001b[0m\n\u001b[0;32m    872\u001b[0m                     \u001b[1;32mpass\u001b[0m\u001b[1;33m\u001b[0m\u001b[1;33m\u001b[0m\u001b[0m\n\u001b[1;32m--> 873\u001b[1;33m             \u001b[1;32mreturn\u001b[0m \u001b[0mself\u001b[0m\u001b[1;33m.\u001b[0m\u001b[0m_getitem_tuple\u001b[0m\u001b[1;33m(\u001b[0m\u001b[0mkey\u001b[0m\u001b[1;33m)\u001b[0m\u001b[1;33m\u001b[0m\u001b[1;33m\u001b[0m\u001b[0m\n\u001b[0m\u001b[0;32m    874\u001b[0m         \u001b[1;32melse\u001b[0m\u001b[1;33m:\u001b[0m\u001b[1;33m\u001b[0m\u001b[1;33m\u001b[0m\u001b[0m\n\u001b[0;32m    875\u001b[0m             \u001b[1;31m# we by definition only have the 0th axis\u001b[0m\u001b[1;33m\u001b[0m\u001b[1;33m\u001b[0m\u001b[1;33m\u001b[0m\u001b[0m\n",
      "\u001b[1;32m~\\anaconda3\\lib\\site-packages\\pandas\\core\\indexing.py\u001b[0m in \u001b[0;36m_getitem_tuple\u001b[1;34m(self, tup)\u001b[0m\n\u001b[0;32m   1441\u001b[0m     \u001b[1;32mdef\u001b[0m \u001b[0m_getitem_tuple\u001b[0m\u001b[1;33m(\u001b[0m\u001b[0mself\u001b[0m\u001b[1;33m,\u001b[0m \u001b[0mtup\u001b[0m\u001b[1;33m:\u001b[0m \u001b[0mTuple\u001b[0m\u001b[1;33m)\u001b[0m\u001b[1;33m:\u001b[0m\u001b[1;33m\u001b[0m\u001b[1;33m\u001b[0m\u001b[0m\n\u001b[0;32m   1442\u001b[0m \u001b[1;33m\u001b[0m\u001b[0m\n\u001b[1;32m-> 1443\u001b[1;33m         \u001b[0mself\u001b[0m\u001b[1;33m.\u001b[0m\u001b[0m_has_valid_tuple\u001b[0m\u001b[1;33m(\u001b[0m\u001b[0mtup\u001b[0m\u001b[1;33m)\u001b[0m\u001b[1;33m\u001b[0m\u001b[1;33m\u001b[0m\u001b[0m\n\u001b[0m\u001b[0;32m   1444\u001b[0m         \u001b[1;32mtry\u001b[0m\u001b[1;33m:\u001b[0m\u001b[1;33m\u001b[0m\u001b[1;33m\u001b[0m\u001b[0m\n\u001b[0;32m   1445\u001b[0m             \u001b[1;32mreturn\u001b[0m \u001b[0mself\u001b[0m\u001b[1;33m.\u001b[0m\u001b[0m_getitem_lowerdim\u001b[0m\u001b[1;33m(\u001b[0m\u001b[0mtup\u001b[0m\u001b[1;33m)\u001b[0m\u001b[1;33m\u001b[0m\u001b[1;33m\u001b[0m\u001b[0m\n",
      "\u001b[1;32m~\\anaconda3\\lib\\site-packages\\pandas\\core\\indexing.py\u001b[0m in \u001b[0;36m_has_valid_tuple\u001b[1;34m(self, key)\u001b[0m\n\u001b[0;32m    700\u001b[0m                 \u001b[1;32mraise\u001b[0m \u001b[0mIndexingError\u001b[0m\u001b[1;33m(\u001b[0m\u001b[1;34m\"Too many indexers\"\u001b[0m\u001b[1;33m)\u001b[0m\u001b[1;33m\u001b[0m\u001b[1;33m\u001b[0m\u001b[0m\n\u001b[0;32m    701\u001b[0m             \u001b[1;32mtry\u001b[0m\u001b[1;33m:\u001b[0m\u001b[1;33m\u001b[0m\u001b[1;33m\u001b[0m\u001b[0m\n\u001b[1;32m--> 702\u001b[1;33m                 \u001b[0mself\u001b[0m\u001b[1;33m.\u001b[0m\u001b[0m_validate_key\u001b[0m\u001b[1;33m(\u001b[0m\u001b[0mk\u001b[0m\u001b[1;33m,\u001b[0m \u001b[0mi\u001b[0m\u001b[1;33m)\u001b[0m\u001b[1;33m\u001b[0m\u001b[1;33m\u001b[0m\u001b[0m\n\u001b[0m\u001b[0;32m    703\u001b[0m             \u001b[1;32mexcept\u001b[0m \u001b[0mValueError\u001b[0m \u001b[1;32mas\u001b[0m \u001b[0merr\u001b[0m\u001b[1;33m:\u001b[0m\u001b[1;33m\u001b[0m\u001b[1;33m\u001b[0m\u001b[0m\n\u001b[0;32m    704\u001b[0m                 raise ValueError(\n",
      "\u001b[1;32m~\\anaconda3\\lib\\site-packages\\pandas\\core\\indexing.py\u001b[0m in \u001b[0;36m_validate_key\u001b[1;34m(self, key, axis)\u001b[0m\n\u001b[0;32m   1350\u001b[0m             \u001b[1;32mreturn\u001b[0m\u001b[1;33m\u001b[0m\u001b[1;33m\u001b[0m\u001b[0m\n\u001b[0;32m   1351\u001b[0m         \u001b[1;32melif\u001b[0m \u001b[0mis_integer\u001b[0m\u001b[1;33m(\u001b[0m\u001b[0mkey\u001b[0m\u001b[1;33m)\u001b[0m\u001b[1;33m:\u001b[0m\u001b[1;33m\u001b[0m\u001b[1;33m\u001b[0m\u001b[0m\n\u001b[1;32m-> 1352\u001b[1;33m             \u001b[0mself\u001b[0m\u001b[1;33m.\u001b[0m\u001b[0m_validate_integer\u001b[0m\u001b[1;33m(\u001b[0m\u001b[0mkey\u001b[0m\u001b[1;33m,\u001b[0m \u001b[0maxis\u001b[0m\u001b[1;33m)\u001b[0m\u001b[1;33m\u001b[0m\u001b[1;33m\u001b[0m\u001b[0m\n\u001b[0m\u001b[0;32m   1353\u001b[0m         \u001b[1;32melif\u001b[0m \u001b[0misinstance\u001b[0m\u001b[1;33m(\u001b[0m\u001b[0mkey\u001b[0m\u001b[1;33m,\u001b[0m \u001b[0mtuple\u001b[0m\u001b[1;33m)\u001b[0m\u001b[1;33m:\u001b[0m\u001b[1;33m\u001b[0m\u001b[1;33m\u001b[0m\u001b[0m\n\u001b[0;32m   1354\u001b[0m             \u001b[1;31m# a tuple should already have been caught by this point\u001b[0m\u001b[1;33m\u001b[0m\u001b[1;33m\u001b[0m\u001b[1;33m\u001b[0m\u001b[0m\n",
      "\u001b[1;32m~\\anaconda3\\lib\\site-packages\\pandas\\core\\indexing.py\u001b[0m in \u001b[0;36m_validate_integer\u001b[1;34m(self, key, axis)\u001b[0m\n\u001b[0;32m   1435\u001b[0m         \u001b[0mlen_axis\u001b[0m \u001b[1;33m=\u001b[0m \u001b[0mlen\u001b[0m\u001b[1;33m(\u001b[0m\u001b[0mself\u001b[0m\u001b[1;33m.\u001b[0m\u001b[0mobj\u001b[0m\u001b[1;33m.\u001b[0m\u001b[0m_get_axis\u001b[0m\u001b[1;33m(\u001b[0m\u001b[0maxis\u001b[0m\u001b[1;33m)\u001b[0m\u001b[1;33m)\u001b[0m\u001b[1;33m\u001b[0m\u001b[1;33m\u001b[0m\u001b[0m\n\u001b[0;32m   1436\u001b[0m         \u001b[1;32mif\u001b[0m \u001b[0mkey\u001b[0m \u001b[1;33m>=\u001b[0m \u001b[0mlen_axis\u001b[0m \u001b[1;32mor\u001b[0m \u001b[0mkey\u001b[0m \u001b[1;33m<\u001b[0m \u001b[1;33m-\u001b[0m\u001b[0mlen_axis\u001b[0m\u001b[1;33m:\u001b[0m\u001b[1;33m\u001b[0m\u001b[1;33m\u001b[0m\u001b[0m\n\u001b[1;32m-> 1437\u001b[1;33m             \u001b[1;32mraise\u001b[0m \u001b[0mIndexError\u001b[0m\u001b[1;33m(\u001b[0m\u001b[1;34m\"single positional indexer is out-of-bounds\"\u001b[0m\u001b[1;33m)\u001b[0m\u001b[1;33m\u001b[0m\u001b[1;33m\u001b[0m\u001b[0m\n\u001b[0m\u001b[0;32m   1438\u001b[0m \u001b[1;33m\u001b[0m\u001b[0m\n\u001b[0;32m   1439\u001b[0m     \u001b[1;31m# -------------------------------------------------------------------\u001b[0m\u001b[1;33m\u001b[0m\u001b[1;33m\u001b[0m\u001b[1;33m\u001b[0m\u001b[0m\n",
      "\u001b[1;31mIndexError\u001b[0m: single positional indexer is out-of-bounds"
     ]
    },
    {
     "data": {
      "image/png": "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\n",
>>>>>>> Stashed changes
      "text/plain": [
       "<Figure size 720x720 with 1 Axes>"
      ]
     },
     "metadata": {
      "needs_background": "light"
     },
     "output_type": "display_data"
    }
   ],
   "source": [
    "#data_with_budget: array tolti gli elementi con budget = 0\n",
    "data_with_budget = data[data[\"budget\"] != 0]\n",
    "print(\"data_with_budget.shape:\", data_with_budget.shape)\n",
    "\n",
    "fig, ax = plt.subplots(figsize=(10,10))\n",
    "\n",
    "ax.scatter(data_with_budget.iloc[:, 2], data_with_budget.iloc[:, 21])\n",
    "\n",
    "ax.set_xlabel(\"Budget per movie\", fontsize=10)\n",
    "ax.set_ylabel(\"Revenue per movie\", fontsize=10)\n",
    "ax.set_title('Revenue based on budget per movie', fontsize=20)"
   ]
  },
  {
   "cell_type": "code",
<<<<<<< Updated upstream
   "execution_count": 18,
=======
   "execution_count": 56,
>>>>>>> Stashed changes
   "metadata": {},
   "outputs": [
    {
     "data": {
      "text/plain": [
       "666"
      ]
     },
<<<<<<< Updated upstream
     "execution_count": 18,
=======
     "execution_count": 56,
>>>>>>> Stashed changes
     "metadata": {},
     "output_type": "execute_result"
    }
   ],
   "source": [
    "# The number of the beast\n",
    "sum(data_with_budget['revenue'] <= 10000000)"
   ]
  },
  {
   "cell_type": "code",
<<<<<<< Updated upstream
   "execution_count": 19,
=======
   "execution_count": 57,
>>>>>>> Stashed changes
   "metadata": {},
   "outputs": [
    {
     "ename": "IndexError",
     "evalue": "list index out of range",
     "output_type": "error",
     "traceback": [
      "\u001b[1;31m---------------------------------------------------------------------------\u001b[0m",
      "\u001b[1;31mIndexError\u001b[0m                                Traceback (most recent call last)",
<<<<<<< Updated upstream
      "\u001b[1;32m<ipython-input-19-8c18ca71b52d>\u001b[0m in \u001b[0;36m<module>\u001b[1;34m\u001b[0m\n\u001b[0;32m      5\u001b[0m \u001b[1;33m\u001b[0m\u001b[0m\n\u001b[0;32m      6\u001b[0m \u001b[1;31m#matrix budget-revenue\u001b[0m\u001b[1;33m\u001b[0m\u001b[1;33m\u001b[0m\u001b[1;33m\u001b[0m\u001b[0m\n\u001b[1;32m----> 7\u001b[1;33m \u001b[0mmatrice\u001b[0m \u001b[1;33m=\u001b[0m \u001b[1;33m[\u001b[0m\u001b[0mlen\u001b[0m\u001b[1;33m(\u001b[0m\u001b[0mdata_with_budget\u001b[0m\u001b[1;33m)\u001b[0m\u001b[1;33m]\u001b[0m\u001b[1;33m[\u001b[0m\u001b[1;36m2\u001b[0m\u001b[1;33m]\u001b[0m\u001b[1;33m\u001b[0m\u001b[1;33m\u001b[0m\u001b[0m\n\u001b[0m\u001b[0;32m      8\u001b[0m \u001b[0mbr\u001b[0m \u001b[1;33m=\u001b[0m \u001b[1;33m[\u001b[0m\u001b[0mdata_with_budget\u001b[0m\u001b[1;33m[\u001b[0m\u001b[1;34m'budget'\u001b[0m\u001b[1;33m]\u001b[0m\u001b[1;33m,\u001b[0m \u001b[0mdata_with_budget\u001b[0m\u001b[1;33m[\u001b[0m\u001b[1;34m'revenue'\u001b[0m\u001b[1;33m]\u001b[0m\u001b[1;33m]\u001b[0m\u001b[1;33m\u001b[0m\u001b[1;33m\u001b[0m\u001b[0m\n\u001b[0;32m      9\u001b[0m \u001b[1;33m\u001b[0m\u001b[0m\n",
=======
      "\u001b[1;32m<ipython-input-57-8c18ca71b52d>\u001b[0m in \u001b[0;36m<module>\u001b[1;34m\u001b[0m\n\u001b[0;32m      5\u001b[0m \u001b[1;33m\u001b[0m\u001b[0m\n\u001b[0;32m      6\u001b[0m \u001b[1;31m#matrix budget-revenue\u001b[0m\u001b[1;33m\u001b[0m\u001b[1;33m\u001b[0m\u001b[1;33m\u001b[0m\u001b[0m\n\u001b[1;32m----> 7\u001b[1;33m \u001b[0mmatrice\u001b[0m \u001b[1;33m=\u001b[0m \u001b[1;33m[\u001b[0m\u001b[0mlen\u001b[0m\u001b[1;33m(\u001b[0m\u001b[0mdata_with_budget\u001b[0m\u001b[1;33m)\u001b[0m\u001b[1;33m]\u001b[0m\u001b[1;33m[\u001b[0m\u001b[1;36m2\u001b[0m\u001b[1;33m]\u001b[0m\u001b[1;33m\u001b[0m\u001b[1;33m\u001b[0m\u001b[0m\n\u001b[0m\u001b[0;32m      8\u001b[0m \u001b[0mbr\u001b[0m \u001b[1;33m=\u001b[0m \u001b[1;33m[\u001b[0m\u001b[0mdata_with_budget\u001b[0m\u001b[1;33m[\u001b[0m\u001b[1;34m'budget'\u001b[0m\u001b[1;33m]\u001b[0m\u001b[1;33m,\u001b[0m \u001b[0mdata_with_budget\u001b[0m\u001b[1;33m[\u001b[0m\u001b[1;34m'revenue'\u001b[0m\u001b[1;33m]\u001b[0m\u001b[1;33m]\u001b[0m\u001b[1;33m\u001b[0m\u001b[1;33m\u001b[0m\u001b[0m\n\u001b[0;32m      9\u001b[0m \u001b[1;33m\u001b[0m\u001b[0m\n",
>>>>>>> Stashed changes
      "\u001b[1;31mIndexError\u001b[0m: list index out of range"
     ]
    }
   ],
   "source": [
    "import numpy as np\n",
    "\n",
    "from sklearn.datasets import make_blobs\n",
    "from sklearn.cluster import KMeans\n",
    "\n",
    "#matrix budget-revenue\n",
    "matrice = [len(data_with_budget)][2]\n",
    "br = [data_with_budget['budget'], data_with_budget['revenue']]\n",
    "\n",
    "k_means = KMeans(n_clusters=5, n_init=1)\n",
    "k_means.fit(br)\n",
    "\n",
    "\n",
    "fig, ax = plt.subplots(figsize=(5,5))\n",
    "\n",
    "ax.scatter(br.iloc[0, :], br.iloc[1, :], c=k_means.labels_)"
   ]
  },
  {
   "cell_type": "code",
<<<<<<< Updated upstream
   "execution_count": 20,
   "metadata": {},
   "outputs": [
    {
     "name": "stderr",
     "output_type": "stream",
     "text": [
      "E:\\anaconda\\lib\\site-packages\\pandas\\plotting\\_converter.py:129: FutureWarning: Using an implicitly registered datetime converter for a matplotlib plotting method. The converter was registered by pandas on import. Future versions of pandas will require you to explicitly register matplotlib converters.\n",
      "\n",
      "To register the converters:\n",
      "\t>>> from pandas.plotting import register_matplotlib_converters\n",
      "\t>>> register_matplotlib_converters()\n",
      "  warnings.warn(msg, FutureWarning)\n"
     ]
    },
    {
     "data": {
      "text/plain": [
<<<<<<< Updated upstream
       "<matplotlib.collections.PathCollection at 0x164e2da38e0>"
=======
       "<matplotlib.collections.PathCollection at 0x2254b18cf60>"
>>>>>>> Stashed changes
      ]
     },
     "execution_count": 20,
     "metadata": {},
     "output_type": "execute_result"
    },
    {
     "data": {
      "image/png": "iVBORw0KGgoAAAANSUhEUgAAAUUAAAEvCAYAAADSG9NhAAAABHNCSVQICAgIfAhkiAAAAAlwSFlzAAALEgAACxIB0t1+/AAAADh0RVh0U29mdHdhcmUAbWF0cGxvdGxpYiB2ZXJzaW9uMy4xLjAsIGh0dHA6Ly9tYXRwbG90bGliLm9yZy+17YcXAAAdlklEQVR4nO3df3Bc5X3v8fdX8kIW6EV2EIwtTExT4hYuwSYqdeM7vQm0MT+mRSHhEkIaJmHG+YPOBELV2G1mIL1lcOK2pJn2ZkoDt2TCJTaJEU7h1qXg3k7p5YeMbIwBFfMjoLUHKwFBiAXI8rd/7Fn50frs7z27Z6XPa8azu8+es/scHeujc87znOcxd0dERPK62l0BEZE0USiKiAQUiiIiAYWiiEhAoSgiElAoiogEFrS7AgAnnXSSL1u2rN3VEJE5ZseOHT91995a1klFKC5btozh4eF2V0NE5hgz+0mt6+j0WUQkoFAUEQlUDEUze5+ZPW5mu8xsj5l9PSo/3cweM7PnzWyTmR0TlR8bvd4bvb8s2U0QEWmeao4U3wXOd/dzgBXAhWa2CvgGcKu7nwG8AVwTLX8N8Ia7/wpwa7SciEhHqBiKnvd29DIT/XPgfOCHUfmdwED0/NLoNdH7F5iZNa3GIiIJquqaopl1m9lO4ADwIPACMOHuh6JFxoC+6Hkf8CpA9P6bwPubWWkRkaRUFYruPu3uK4BTgfOAX4tbLHqMOyo8anwyM1trZsNmNjw+Pl5tfUVEElVTP0V3nzCzfwFWAT1mtiA6GjwV2BctNgYsBcbMbAFwIvB6zGfdBtwG0N/fr0EdRSTW0EiOjdtG2TcxyZKeLINrljOwsq/yinWqpvW518x6oudZ4LeBZ4HtwKejxa4G7oueb41eE73/sGskWxGpw9BIjvVbdpObmMSB3MQk67fsZmgkl9h3VnP6vBjYbmZPAU8AD7r7PwBfBb5iZnvJXzO8PVr+duD9UflXgHXNr7aIzAcbt40yOTU9q2xyapqN20YT+86Kp8/u/hSwMqb8RfLXF4vL3wEub0rtRGRe2zcxWVN5M+iOFhFJrSU92ZrKm0GhKCKpNbhmOdlM96yybKabwTXLE/tOhaKIpNqxC47E1MLjMtxy2dmJtj6nYugwEZFihZbnsKHlnanDiX+vjhRFJJXa0fIMCkURSal2tDyDQlFEUqodLc+gUBSRlGpHyzOooUVEUqrQwtzK+55BoSgiKTawsi/xECym02cRkYBCUUQkoFAUEQkoFEVEAgpFEZGAQlFEJKBQFBEJKBRFRAIKRRGRgEJRRCSgUBQRCSgURUQCCkURkYBCUUQkoFAUEQkoFEVEAgpFEZGAQlFEJKBQFBEJKBRFRAIKRRGRgEJRRCSgUBQRCVQMRTNbambbzexZM9tjZl+Oym8ys5yZ7Yz+XRyss97M9prZqJmtSXIDRESaaUEVyxwCbnD3J83sl4AdZvZg9N6t7v7n4cJmdibwGeAsYAnwz2b2IXefbmbFRUSSUPFI0d33u/uT0fOfA88CfWVWuRT4gbu/6+4vAXuB85pRWRGRpNV0TdHMlgErgceioj8ws6fM7A4zWxiV9QGvBquNUT5ERURSo+pQNLMTgB8B17n7W8B3gA8CK4D9wF8UFo1Z3WM+b62ZDZvZ8Pj4eM0VFxFJQlWhaGYZ8oF4l7tvAXD319x92t0PA3/HkVPkMWBpsPqpwL7iz3T329y93937e3t7G9kGEZGmqab12YDbgWfd/S+D8sXBYp8Eno6ebwU+Y2bHmtnpwBnA482rsohIcqppfV4N/D6w28x2RmV/DFxpZivInxq/DHwJwN33mNlm4BnyLdfXquVZRDpFxVB0938j/jrhA2XWuRm4uYF6iYi0he5oEREJKBRFRAIKRRGRgEJRRCSgUBQRCSgURUQCCkURkYBCUUQkoFAUEQkoFEVEAtXc+ywi0jZDIzk2bhtl38QkS3qyDK5ZzsDK5IZoVSiKSGoNjeRYv2U3k1P5MWVyE5Os37IbILFg1OmziKTWxm2jM4FYMDk1zcZto4l9p0JRRFJr38RkTeXNoFAUkdRa0pOtqbwZFIoiklqDa5aTzXTPKstmuhlcszyx71RDi4ikVqExRa3PIiKRgZV9iYZgMZ0+i4gEFIoiIgGFoohIQKEoIhJQKIqIBBSKIiIBhaKISEChKCISUCiKiAQUiiIiAYWiiEhAoSgiElAoiogEFIoiIgGFoohIoGIomtlSM9tuZs+a2R4z+3JUvsjMHjSz56PHhVG5mdm3zWyvmT1lZucmvREiIs1SzZHiIeAGd/81YBVwrZmdCawDHnL3M4CHotcAFwFnRP/WAt9peq1FRBJSMRTdfb+7Pxk9/znwLNAHXArcGS12JzAQPb8U+J7nPQr0mNniptdcRCQBNV1TNLNlwErgMeAUd98P+eAETo4W6wNeDVYbi8pERFKv6lA0sxOAHwHXuftb5RaNKfOYz1trZsNmNjw+Pl5tNUREElVVKJpZhnwg3uXuW6Li1wqnxdHjgah8DFgarH4qsK/4M939Nnfvd/f+3t7eeusvItJU1bQ+G3A78Ky7/2Xw1lbg6uj51cB9Qfnno1boVcCbhdNsEZG0q2aK09XA7wO7zWxnVPbHwAZgs5ldA7wCXB699wBwMbAXOAh8oak1FhFJUMVQdPd/I/46IcAFMcs7cG2D9RIRaQvd0SIiElAoiogEqrmmKCLSMkMjOTZuG2XfxCRLerIMrlnOwMrWdXVWKIpIagyN5Fi/ZTeTU9MA5CYmWb9lN0DLglGnzyKSGhu3jc4EYsHk1DQ3bN7F6evuZ/WGhxkaySVaBx0pikhq7JuYjC2f9vxNca04ctSRooikxpKebMVlJqem2bhtNLE6KBRFJDUG1ywnm+muuFypI8pm0OmziKRG4ZS40PrcZTZz6hyq5oiyXgpFEUmVgZV9M+FY3BoNkM10M7hmeWLfr1AUkdQqPnJsRb9FhaKIpFp45NgKamgREQkoFEVEAgpFEZGAQlFEJKBQFBEJKBRFRAIKRRGRgEJRRCSgUBQRCSgURUQCCkURkYBCUUQkoFAUEQkoFEVEAgpFEZGAQlFEJKBQFBEJaORtEWm7oZFcS6ccKEehKCJtVTw5VSsmvC9Hp88i0lYbt43Omq0Pkp/wvhyFooi0VamJ7ZOc8L6ciqFoZneY2QEzezoou8nMcma2M/p3cfDeejPba2ajZrYmqYqLyNxQamL7JCe8L6eaI8W/By6MKb/V3VdE/x4AMLMzgc8AZ0Xr/C8z625WZUVk7hlcs5xsZnZMJD3hfTkVQ9Hd/xV4vcrPuxT4gbu/6+4vAXuB8xqon4jMcQMr+7jlsrPp68liQF9PllsuO7sjW5//wMw+DwwDN7j7G0Af8GiwzFhUJiJSUqsnvC+n3oaW7wAfBFYA+4G/iMotZlmP+wAzW2tmw2Y2PD4+Xmc1RGSuGxrJsXrDw5y+7n5Wb3iYoZFcot9XVyi6+2vuPu3uh4G/48gp8hiwNFj0VGBfic+4zd373b2/t7e3nmqIyBxX6MOYm5jEOdKHMclgrCsUzWxx8PKTQKFleivwGTM71sxOB84AHm+siiIyX7WjD2PFa4pmdjfwMeAkMxsDbgQ+ZmYryJ8avwx8CcDd95jZZuAZ4BBwrbtPx32uiEgl7ejDWDEU3f3KmOLbyyx/M3BzI5USEYF8X8VcTAAm2YdRd7SISGq1ow+jBoQQkdQqdNNp5Qg6CkURSbVW92HU6bOISEChKCISUCiKiAQUiiIiAYWiiEhAoSgiElAoiogEFIoiIgGFoohIQKEoIhJQKIqIBHTvs4g0bGgk19JBG5KkUBSRhhSmDCiMkF2YMgDoyGDU6bOINKQdUwYkSaEoIg1px5QBSVIoikhDSk0NkOSUAUlSKIpIQ9oxZUCS1NAiIg1px5QBSVIoikjDWj1lQJJ0+iwiElAoiogEFIoiIgGFoohIQKEoIhJQKIqIBBSKIiIBhaKISEChKCISUCiKiAQUiiIigYqhaGZ3mNkBM3s6KFtkZg+a2fPR48Ko3Mzs22a218yeMrNzk6y8iEizVXOk+PfAhUVl64CH3P0M4KHoNcBFwBnRv7XAd5pTTRGR1qgYiu7+r8DrRcWXAndGz+8EBoLy73neo0CPmS1uVmVFRJJW7zXFU9x9P0D0eHJU3ge8Giw3FpUdxczWmtmwmQ2Pj4/XWQ0RkeZqdkOLxZR53ILufpu797t7f29vb5OrISJSn3pD8bXCaXH0eCAqHwOWBsudCuyrv3oiIq1VbyhuBa6Onl8N3BeUfz5qhV4FvFk4zRYR6QQVpyMws7uBjwEnmdkYcCOwAdhsZtcArwCXR4s/AFwM7AUOAl9IoM4iIompGIrufmWJty6IWdaBaxutlIhIu2jiKhFpmaGRXOpn/VMoikhLDI3kWL9lN5NT0wDkJiZZv2U3QNlgbHWQ6t5nEWmJjdtGZwKxYHJqmo3bRkuuUwjS3MQkzpEgHRrJJVZPhaKItMS+icmayqG+IG2UQlFEWmJJT7amcqgvSBulUBSRlhhcs5xspntWWTbTzeCa5SXXqSdIG6VQFJGWGFjZxy2XnU1fTxYD+nqy3HLZ2WUbTeoJ0kap9VlEWmZgZV9NLceFZVvZ+qxQFJFUqzVIG6XTZxGRgEJRRCSgUBQRCSgURUQCCkURkYBCUUQkoFAUEQkoFEVEAgpFEZGAQlFEJKBQFBEJKBRFRAIaEEJE2i5NE1opFEXmiTQFT3G96pnQKik6fRaZB9oxAVS12jEPSzkKRZF5IG3BE2rHPCzlKBRF5oG0BU+oHfOwlKNQFJkH0hY8oXbMw1KOQlFkHkhb8ITqmdAqSWp9FpkH2jEBVC1aPQ9LOQpFkXkiTcGTZgpFEUmtdvStVCiKSFuVCr52depWKIp0mLTemVKPcsFXrm9lakPRzF4Gfg5MA4fcvd/MFgGbgGXAy8D/cPc3GqumiED6bolrVLnga1ffymZ0yfm4u69w9/7o9TrgIXc/A3goei0iTZDmO1PqUS742tW3Mol+ipcCd0bP7wQGEvgOkXkpzXem1KNc8H38V3tj3ytV3iyNhqID/2RmO8xsbVR2irvvB4geT45b0czWmtmwmQ2Pj483WA2R+SHpo6ehkRyrNzzM6evuZ/WGhxMfMKJcp/Ltz8XnQqnyZmk0FFe7+7nARcC1ZvZb1a7o7re5e7+79/f2Jpv8InNFknemtGMknXJ3s7TrqLihhhZ33xc9HjCze4HzgNfMbLG77zezxcCBJtRTREj2zpR2tfaW6lS+pCdLLiYAk76mWHcomtnxQJe7/zx6/gngT4GtwNXAhujxvmZUVETykrozJW3XKwfXLJ/V0g6tuV+7kSPFU4B7zazwOf/H3f/RzJ4ANpvZNcArwOWNV1NEktauI7NQcR/MT32kj+3PjXfGHS3u/iJwTkz5z4ALGqmUSK3mUofmdmnXkVnB0EiOwXt2MXXYgfw1zU2Pv8rGy89p6b7UHS3S8eZah+ZmqOePRLtH0rlp656ZQCyYOuzctHWPQlGkFu1qIEirRv5ItHMknYnJqZLlqzc83LKg1iCz0vHS1kDQbnPtrhdgVjehwXt2JdpNSKEoHS/NQ+23Qyf+kagl5Aqn1ElRKErHS/NQ++3QiX8kaj2KLXWq3QwKRel4aZvjo93S8keillsG03QUq4YWmRM01P4R7W5Fhtobe0r1kWwHhaLIHFTtH4lG+neWW7fWHgFxfSTLsaqWqo+5e+WlEtbf3+/Dw8PtrobIvFJ8NAf5sHHylyDKBWTcupku44T3LWDi4BSlUsWAlzZcEvve14Z2c/djrzLtPlOPcl4u8Tmzvs9sRzDWa1V0pCgyT8UdzRWCqND1BeJPd+PWnTrsvHGwfANIqcaeoZEcmx7PB2JYj1L6Emw0UiiKzFOVGjfCri/Fp8n1NowcfO8QQyO5WUE7NJLj+k07KwZhQXeXJdpopNZnkXmqmi46E5NTsWMs9hyXqes73zg4NWuMxsJpeC0X8ZIOLV1TFJmn4q4LVqsnm+HdQ4crrtttNnNKXLw+1N/fsK8nyyPrzq+4nK4piswBSbUIFwtbimvtDvPm5BS3XrFi5rtOzGb4xXuHmJo+EoAGsYEIjXe+TrJfo06fRYq0ep6S4u+ud0qAetYdWNnHI+vO51tXrCDTXX1Hly4zrt+0E4Bbr1jBzhs/wRW/vnRWVxknua4zSd6doyNFkUCzhyGr9aivmv594WeemM1gBhMHp+iKOVWtdrSgwvvXRUFXSeF7wp/P9ufGj7o2WAjGZl+kS7KhRaEoEmjmMGRfG9rNXY++MqubS6WArTSYQ3Foh6ehpU5V901MVgznwvv1qDR5fVirZgVkknfnKBRl3qjmqK2REWaKj+DirpuFQ3jdtHXPzDILj8tw4++eVXFKgLjQruTEbKbs0W8jDS4FuYlJ+qq4Va/9zbqVqfVZZgnvKug248rfWMqfDZzd7mo1LO4XP5vpPmrgiNUbHo79xa7U2llrsGS67KhRpjPdxhW/vpQf7ciVvMukmfcHG9BzXKZih+tqrf7gIh554fWmfFYl37piRVVHi2p9lpqFRzfvy3QxOXV45r1pd77/6CsAqQ/GSkeB1Z4W1zJPSfidcdfzSum2owMRYGrauevRV8hmZrd/hqffzeTQtEAEWhaIQKKjqisU57Hio5swEEN3P/ZqqkOxVOPI8E9en5kJrlRcFZ8WVzPCzNBIbtapL5S+nlesXDcVyAfVwRL7QY5IskuOQnEeq/b6VDW/8NVeyA/fL9ShUstsvUeBYSNHKV1mnL7u/lmfW26EmUavv7X/YtXcUO8dNdVQKKZQq6brrPZ0rNvK9zar1I0l7v3Be3aBMdPZN1wHKNkpOK4Ft5pWz1LCriXXb9rJ8E9e588Gzi65D+pp6JDmeyfBfTAvGlo6aU7gahsE6vnc4r5t1V5POv6Ybm7+ZPz3D43kuH7zTuL+GxUaJ0o1XsSp5faxw+6cmM3w1jtTxFyiq4sBH/3gIv79hdePCtWFTWyUkMYlNXTYnA/FZoVMq4K13tbPcoZGcgz+cNesW7BqFY6VF57+fmXzzrKB9LlVp8001og0k8ZTrFMzOuO2crL1JGZi+/qP9zQUiDB7rLzcxCTXbdpZVUdcBaIkIcmRt+d8KDYjZJKabL24FXPhcZmS/cbCez2rPWotLJfUKV/7zzFkvkry/17HhWKtp7GV7hCo5rtKXQ8rDta4kLvxd8+q2J2j4I2DU3RZvhNveGQX9pMrd9QKR0Y8SeJ+U5H5oKNCsZ7T2Fo645b7rjjFR2+D9+ya1Sn3jYNTXFfUolm8TLHDDsd2GYcPM3NXyac+0jer/1zcUevgPTs5dPhIECoQRerTUaFYz2lsvdM9Vup6kemePST6xm2jJcPu+4++Qv8HFuWv7VXRTBp3V8m9T+Y4+N50ybBTf1+R5uioUKzm+mCp0+viEKx0Gl7xmmNROlVafv2Wp0reMVKNX7ynvnEiBccf053YZ3dUKFa6Pljt6XU1y1W6UX7qsHPD5l1cv2knS3qyFZdvJBCbRdcZZa44mOBBQkeNvD24ZjnZzOy/EOH1wXKn16FKyw2N5Hj7nUMV6zPtPjPC8dvvHKKrwX4CC4/LsDDB25cUiDJXdOTI22Z2IfBXQDfwXXff0OhnVro+WOoUNjcxybJ195ecRCdcbuWf/hNAVdf+QlOHnZ5shjcn4ycCr3SUVuicPTSSq3r0Y5H5quNG3jazbuBvgN8BxoAnzGyruz/T6GeXu1m/1Ol1QTUDGzTSp+/NySmuquMOjvBod2BlH39y725dQxRpk6ROn88D9rr7i+7+HvAD4NKEvmtG3Ol1Ky3pybL9ufHY90rFcV9P9qhbDpO8XiIyF9Q7dUI1kgrFPuDV4PVYVDbDzNaa2bCZDY+PxwdJrQZW9nHLZWfT15NN9DagOEY+lGu5U8aAR9adf9SRbz3XSxr5Y9Dqn5VIozpxitO437NZB0vufpu797t7f29vb9O+uDBl40sbLqGvgYuxPdnMzPqVQsOAq1adxsDKvpoCrdSyg2uWk6mh1abbbOaPQTk92cxR01hmM91cteq0isOD1auwGX09WT636rSZSdALjst0zTQuJVUHmXs6saFlDFgavD4V2JfQd5UUdzdLNTLdxk2/d+T2vPB2v0JjTeGxr6ixJ+47M102a+xAKH9XTeGzSt0OGCoe8SfujplMt7Hx0+fMjG0Y11DV/4FFJX9WmS4j020zI0IvPC7DJR9efNRcInEj6RQfBVczgnc1d/7UyoBfOfl4Xhw/eNT8M18b2q2BKzpId5cl2tCSyNBhZrYA+A/gAiAHPAF81t33xC2f9NBhxYHW15Pl47/ayz/s2n9U6MTdr1zvd9YzynSlzwvn+a1mqPxatqfUz6reEbEbUbzN7x2aPiqUtz83HvuHqtIfrjjF05Ee020s6LKGpgZQv9DmKze2Z5xUjadoZhcD3yLfJecOd7+51LKazU9EkpCq8RTd/QHggaQ+X0QkCR11R4uISNIUiiIiAYWiiEhAoSgiElAoiogEFIoiIgGFoohIILHO2zVVwmwc+EkVi54E/DTh6rTaXNumubY9MPe2aa5tD5Tepg+4e02DK6QiFKtlZsO19k5Pu7m2TXNte2DubdNc2x5o7jbp9FlEJKBQFBEJdFoo3tbuCiRgrm3TXNsemHvbNNe2B5q4TR11TVFEJGmddqQoIpKotoeimd1hZgfM7Omg7Bwz+/9mttvMfmxm/yUq/x0z2xGV7zCz84N1PhKV7zWzb5u1Z2z7WrYneP80M3vbzP4wKLvQzEaj7VnXym0oVus2mdmHo/f2RO+/LyrvuH1kZhkzuzMqf9bM1gfrpGIfmdlSM9se1W+PmX05Kl9kZg+a2fPR48Ko3KKf/14ze8rMzg0+6+po+efN7OoO2qarom15ysz+3czOCT6rtv3k7m39B/wWcC7wdFD2BPDfo+dfBP5n9HwlsCR6/l+BXLDO48Bvkh/w+P8CF6V9e4L3fwTcA/xh9LobeAH4ZeAYYBdwZofsowXAU8A50ev3A92duo+AzwI/iJ4fB7wMLEvTPgIWA+dGz3+J/Kj3ZwLfBNZF5euAb0TPL45+/gasAh6LyhcBL0aPC6PnCztkmz5aqCtwUbBNNe+ntvySxfwAlhX9B32LI9c7lwLPxKxjwM+AY6Mf4HPBe1cCf9sJ2wMMABuBmzgSir8JbAuWWQ+s74R9FP3CfT9m/Y7cR1E9f0w+7N8f/XIuSuM+CupyH/k510eBxcHPfzR6/rfAlcHyo9H7s/ZJ8XJp3qaiZRcSHTDVs5/afvpcwtPA70XPL2f2JFgFnwJG3P1d8tOnjgXvHTWlapvFbo+ZHQ98Ffh60fIVp4hNgVL76EOAm9k2M3vSzP4oKu/IfQT8EPgFsB94Bfhzd3+dlO4jM1tG/ozqMeAUd98PED2eHC1Wqu6dvE2ha8gfCUMd25TWUPwicK2Z7SB/6Pxe+KaZnQV8A/hSoSjmM9LUrF5qe74O3Orubxctn/btgdLbtAD4b8BV0eMnzewC0r9NpbbnPGAaWAKcDtxgZr9MCrfHzE4gfynmOnd/q9yiMWVeprxtatimwvIfJx+KXy0UxSxWdpsSm6OlEe7+HPAJADP7EHBJ4T0zOxW4F/i8u78QFY+Rn0a1oC1TqpZSZnt+A/i0mX0T6AEOm9k7wA5SMEVsOWW2aQz4f+7+0+i9B8hfv/s+nbmPPgv8o7tPAQfM7BGgn/zRR2r2kZllyIfHXe6+JSp+zcwWu/t+M1sMHIjKS01BPAZ8rKj8X5Ksdzk1bhNm9mHgu+SvVf8sKq59uuV2Xyvw+Os7J0ePXcD3gC9Gr3vIXyj9VMxnPEH+onHhIv7Fad+eonVu4sg1xQXkL3KfzpGLw2d1yD5aCDxJvlFiAfDPwCWduo/IH3H876jOxwPPAB9O0z6K6vY94FtF5RuZ3Sjxzej5JcxuaHk8Kl8EvBTtw4XR80Udsk2nAXuBjxYtX/N+ast/yKJK303+es0U+VS/Bvgy+Qva/wFs4MgF8K+Rv76zM/hX+M/cT/660AvAXxfWSfP2FK13E1EoRq8vjpZ/AfiTTtlH0fKfA/ZE++ObQXnH7SPgBPI9A/aQD8TBtO0j8pcpnHyrf+H34mLyDUMPAc9Hj4ui5Q34m6jeu4H+4LO+GIXLXuALHbRN3wXeCJYdrnc/6Y4WEZFAWhtaRETaQqEoIhJQKIqIBBSKIiIBhaKISEChKCISUCiKiAQUiiIigf8E9PauaTxP3soAAAAASUVORK5CYII=\n",
      "text/plain": [
       "<Figure size 360x360 with 1 Axes>"
      ]
     },
     "metadata": {
      "needs_background": "light"
     },
     "output_type": "display_data"
=======
   "execution_count": 96,
   "metadata": {},
   "outputs": [
    {
     "name": "stdout",
     "output_type": "stream",
     "text": [
      "\n",
      "prima\n",
      "790    1971-01-15\n",
      "1178   1971-02-19\n",
      "1525   1971-03-11\n",
      "2417   1971-06-29\n",
      "1628   1971-10-09\n",
      "          ...    \n",
      "2383   2070-05-19\n",
      "1447   2070-06-24\n",
      "2529   2070-10-26\n",
      "631    2070-10-29\n",
      "2211   2070-12-16\n",
      "Name: release_date, Length: 3000, dtype: datetime64[ns]\n",
      "\n",
      "\n",
      "dopo\n",
      "790    1971-01-15\n",
      "1178   1971-02-19\n",
      "1525   1971-03-11\n",
      "2417   1971-06-29\n",
      "1628   1971-10-09\n",
      "          ...    \n",
      "2383   2070-05-19\n",
      "1447   2070-06-24\n",
      "2529   2070-10-26\n",
      "631    2070-10-29\n",
      "2211   2070-12-16\n",
      "Name: release_date, Length: 3000, dtype: datetime64[ns]\n"
     ]
>>>>>>> Stashed changes
    }
   ],
   "source": [
    "from datetime import datetime\n",
<<<<<<< Updated upstream
    "import matplotlib.pyplot as plt\n",
=======
>>>>>>> Stashed changes
    "\n",
    "data = data.sort_values(by=\"release_date\")\n",
    "data[\"release_date\"] = pd.to_datetime(data[\"release_date\"])\n",
    "\n",
<<<<<<< Updated upstream
    "fig, ax = plt.subplots(figsize=(5,5))\n",
    "\n",
    "ax.scatter(data['release_date'], data['popularity'])\n"
   ]
  },
  {
   "cell_type": "code",
   "execution_count": 21,
   "metadata": {},
   "outputs": [
    {
     "data": {
      "text/plain": [
       "Timestamp('2017-07-20 00:00:00')"
      ]
     },
     "execution_count": 21,
     "metadata": {},
     "output_type": "execute_result"
    }
   ],
   "source": [
    "#c'è un problema, ci sono date errate in quanto sono spostate avanti di 100 annic\n",
    "#da sistemare\n",
    "\n",
    "max(data['release_date'])\n"
=======
    "print()\n",
    "print(\"prima\")\n",
    "\n",
    "print(data[\"release_date\"])\n",
    "\n",
    "print()\n",
    "print()\n",
    "\n",
    "while date in data[\"release_date\"]:\n",
    "    if date > datetime.now():\n",
    "        \n",
    "        new_date = datetime(date.year-100, date.month, date.day, 0, 0, 0)\n",
    "        \n",
    "        data[\"release_date\"] = new_date\n",
    "        \n",
    "print(\"dopo\")\n",
    "print(data[\"release_date\"])"
>>>>>>> Stashed changes
   ]
  },
  {
   "cell_type": "code",
<<<<<<< Updated upstream
   "execution_count": 22,
=======
   "execution_count": 92,
>>>>>>> Stashed changes
   "metadata": {},
   "outputs": [
    {
     "data": {
      "text/html": [
       "<div>\n",
       "<style scoped>\n",
       "    .dataframe tbody tr th:only-of-type {\n",
       "        vertical-align: middle;\n",
       "    }\n",
       "\n",
       "    .dataframe tbody tr th {\n",
       "        vertical-align: top;\n",
       "    }\n",
       "\n",
       "    .dataframe thead th {\n",
       "        text-align: right;\n",
       "    }\n",
       "</style>\n",
       "<table border=\"1\" class=\"dataframe\">\n",
       "  <thead>\n",
       "    <tr style=\"text-align: right;\">\n",
       "      <th></th>\n",
       "      <th>id</th>\n",
<<<<<<< Updated upstream
       "      <th>budget</th>\n",
       "      <th>popularity</th>\n",
       "      <th>runtime</th>\n",
=======
       "      <th>belongs_to_collection</th>\n",
       "      <th>budget</th>\n",
       "      <th>genres</th>\n",
       "      <th>imdb_id</th>\n",
       "      <th>original_language</th>\n",
       "      <th>original_title</th>\n",
       "      <th>overview</th>\n",
       "      <th>popularity</th>\n",
       "      <th>poster_path</th>\n",
       "      <th>...</th>\n",
       "      <th>release_date</th>\n",
       "      <th>runtime</th>\n",
       "      <th>spoken_languages</th>\n",
       "      <th>status</th>\n",
       "      <th>tagline</th>\n",
       "      <th>title</th>\n",
       "      <th>Keywords</th>\n",
       "      <th>cast</th>\n",
       "      <th>crew</th>\n",
>>>>>>> Stashed changes
       "      <th>revenue</th>\n",
       "    </tr>\n",
       "  </thead>\n",
       "  <tbody>\n",
       "    <tr>\n",
<<<<<<< Updated upstream
       "      <th>count</th>\n",
       "      <td>3000.000000</td>\n",
       "      <td>3.000000e+03</td>\n",
       "      <td>3000.000000</td>\n",
       "      <td>2998.000000</td>\n",
       "      <td>3.000000e+03</td>\n",
       "    </tr>\n",
       "    <tr>\n",
       "      <th>mean</th>\n",
       "      <td>1500.500000</td>\n",
       "      <td>2.253133e+07</td>\n",
       "      <td>8.463274</td>\n",
       "      <td>107.856571</td>\n",
       "      <td>6.672585e+07</td>\n",
       "    </tr>\n",
       "    <tr>\n",
       "      <th>std</th>\n",
       "      <td>866.169729</td>\n",
       "      <td>3.702609e+07</td>\n",
       "      <td>12.104000</td>\n",
       "      <td>22.086434</td>\n",
       "      <td>1.375323e+08</td>\n",
       "    </tr>\n",
       "    <tr>\n",
       "      <th>min</th>\n",
       "      <td>1.000000</td>\n",
       "      <td>0.000000e+00</td>\n",
       "      <td>0.000001</td>\n",
       "      <td>0.000000</td>\n",
       "      <td>1.000000e+00</td>\n",
       "    </tr>\n",
       "    <tr>\n",
       "      <th>25%</th>\n",
       "      <td>750.750000</td>\n",
       "      <td>0.000000e+00</td>\n",
       "      <td>4.018053</td>\n",
       "      <td>94.000000</td>\n",
       "      <td>2.379808e+06</td>\n",
       "    </tr>\n",
       "    <tr>\n",
       "      <th>50%</th>\n",
       "      <td>1500.500000</td>\n",
       "      <td>8.000000e+06</td>\n",
       "      <td>7.374861</td>\n",
       "      <td>104.000000</td>\n",
       "      <td>1.680707e+07</td>\n",
       "    </tr>\n",
       "    <tr>\n",
       "      <th>75%</th>\n",
       "      <td>2250.250000</td>\n",
       "      <td>2.900000e+07</td>\n",
       "      <td>10.890983</td>\n",
       "      <td>118.000000</td>\n",
       "      <td>6.891920e+07</td>\n",
       "    </tr>\n",
       "    <tr>\n",
       "      <th>max</th>\n",
       "      <td>3000.000000</td>\n",
       "      <td>3.800000e+08</td>\n",
       "      <td>294.337037</td>\n",
       "      <td>338.000000</td>\n",
       "      <td>1.519558e+09</td>\n",
       "    </tr>\n",
       "  </tbody>\n",
       "</table>\n",
       "</div>"
      ],
      "text/plain": [
       "                id        budget   popularity      runtime       revenue\n",
       "count  3000.000000  3.000000e+03  3000.000000  2998.000000  3.000000e+03\n",
       "mean   1500.500000  2.253133e+07     8.463274   107.856571  6.672585e+07\n",
       "std     866.169729  3.702609e+07    12.104000    22.086434  1.375323e+08\n",
       "min       1.000000  0.000000e+00     0.000001     0.000000  1.000000e+00\n",
       "25%     750.750000  0.000000e+00     4.018053    94.000000  2.379808e+06\n",
       "50%    1500.500000  8.000000e+06     7.374861   104.000000  1.680707e+07\n",
       "75%    2250.250000  2.900000e+07    10.890983   118.000000  6.891920e+07\n",
       "max    3000.000000  3.800000e+08   294.337037   338.000000  1.519558e+09"
      ]
     },
     "execution_count": 22,
=======
       "      <th>790</th>\n",
       "      <td>791</td>\n",
       "      <td>NaN</td>\n",
       "      <td>1300000</td>\n",
       "      <td>[{'id': 28, 'name': 'Action'}, {'id': 53, 'nam...</td>\n",
       "      <td>tt0067927</td>\n",
       "      <td>en</td>\n",
       "      <td>Vanishing Point</td>\n",
       "      <td>Kowalski works for a car delivery service. He ...</td>\n",
       "      <td>5.184013</td>\n",
       "      <td>/it9ph8BRIkyEqqSxVKHOFeLMVaQ.jpg</td>\n",
       "      <td>...</td>\n",
       "      <td>1971-01-15</td>\n",
       "      <td>99.0</td>\n",
       "      <td>[{'iso_639_1': 'en', 'name': 'English'}]</td>\n",
       "      <td>Released</td>\n",
       "      <td>It's the maximum trip... at maximum speed.</td>\n",
       "      <td>Vanishing Point</td>\n",
       "      <td>[{'id': 582, 'name': 'san francisco'}, {'id': ...</td>\n",
       "      <td>[{'cast_id': 1, 'character': 'Kowalski', 'cred...</td>\n",
       "      <td>[{'credit_id': '52fe44a89251416c7503c713', 'de...</td>\n",
       "      <td>72266306</td>\n",
       "    </tr>\n",
       "    <tr>\n",
       "      <th>1178</th>\n",
       "      <td>1179</td>\n",
       "      <td>NaN</td>\n",
       "      <td>0</td>\n",
       "      <td>[{'id': 35, 'name': 'Comedy'}]</td>\n",
       "      <td>tt0066927</td>\n",
       "      <td>en</td>\n",
       "      <td>Cold Turkey</td>\n",
       "      <td>Reverend Brooks leads the town in a contest to...</td>\n",
       "      <td>0.609080</td>\n",
       "      <td>/qdFKoEina8RARqN9D4eKBNnANUC.jpg</td>\n",
       "      <td>...</td>\n",
       "      <td>1971-02-19</td>\n",
       "      <td>99.0</td>\n",
       "      <td>[{'iso_639_1': 'en', 'name': 'English'}]</td>\n",
       "      <td>Released</td>\n",
       "      <td>See the hilarious BATTLE OF THE BUTT!</td>\n",
       "      <td>Cold Turkey</td>\n",
       "      <td>[{'id': 6782, 'name': 'addiction'}, {'id': 117...</td>\n",
       "      <td>[{'cast_id': 2, 'character': 'Rev. Clayton Bro...</td>\n",
       "      <td>[{'credit_id': '575dfafd9251415dd2004994', 'de...</td>\n",
       "      <td>11000000</td>\n",
       "    </tr>\n",
       "    <tr>\n",
       "      <th>1525</th>\n",
       "      <td>1526</td>\n",
       "      <td>NaN</td>\n",
       "      <td>777000</td>\n",
       "      <td>[{'id': 18, 'name': 'Drama'}, {'id': 9648, 'na...</td>\n",
       "      <td>tt0066434</td>\n",
       "      <td>en</td>\n",
       "      <td>THX 1138</td>\n",
       "      <td>People in the future live in a totalitarian so...</td>\n",
       "      <td>8.152085</td>\n",
       "      <td>/8cie5mojY6MlIrYMs9EtNSyterv.jpg</td>\n",
       "      <td>...</td>\n",
       "      <td>1971-03-11</td>\n",
       "      <td>86.0</td>\n",
       "      <td>[{'iso_639_1': 'en', 'name': 'English'}]</td>\n",
       "      <td>Released</td>\n",
       "      <td>Visit the future where love is the ultimate cr...</td>\n",
       "      <td>THX 1138</td>\n",
       "      <td>[{'id': 378, 'name': 'prison'}, {'id': 1803, '...</td>\n",
       "      <td>[{'cast_id': 13, 'character': 'THX', 'credit_i...</td>\n",
       "      <td>[{'credit_id': '52fe4261c3a36847f801a07d', 'de...</td>\n",
       "      <td>2437000</td>\n",
       "    </tr>\n",
       "    <tr>\n",
       "      <th>2417</th>\n",
       "      <td>2418</td>\n",
       "      <td>NaN</td>\n",
       "      <td>3000000</td>\n",
       "      <td>[{'id': 10751, 'name': 'Family'}, {'id': 14, '...</td>\n",
       "      <td>tt0067992</td>\n",
       "      <td>en</td>\n",
       "      <td>Willy Wonka &amp; the Chocolate Factory</td>\n",
       "      <td>Eccentric candy man Willy Wonka prompts a worl...</td>\n",
       "      <td>12.416635</td>\n",
       "      <td>/b94qXd1FcIwgzv0NYMUe2bjrzJR.jpg</td>\n",
       "      <td>...</td>\n",
       "      <td>1971-06-29</td>\n",
       "      <td>100.0</td>\n",
       "      <td>[{'iso_639_1': 'en', 'name': 'English'}, {'iso...</td>\n",
       "      <td>Released</td>\n",
       "      <td>It's Scrumdiddlyumptious!</td>\n",
       "      <td>Willy Wonka &amp; the Chocolate Factory</td>\n",
       "      <td>[{'id': 715, 'name': 'chocolate'}, {'id': 730,...</td>\n",
       "      <td>[{'cast_id': 11, 'character': 'Willy Wonka', '...</td>\n",
       "      <td>[{'credit_id': '52fe422dc3a36847f800a06d', 'de...</td>\n",
       "      <td>4000000</td>\n",
       "    </tr>\n",
       "    <tr>\n",
       "      <th>1628</th>\n",
       "      <td>1629</td>\n",
       "      <td>[{'id': 155474, 'name': 'French Connection Col...</td>\n",
       "      <td>1800000</td>\n",
       "      <td>[{'id': 28, 'name': 'Action'}, {'id': 80, 'nam...</td>\n",
       "      <td>tt0067116</td>\n",
       "      <td>en</td>\n",
       "      <td>The French Connection</td>\n",
       "      <td>Tough narcotics detective 'Popeye' Doyle is in...</td>\n",
       "      <td>6.694959</td>\n",
       "      <td>/xwDi4wF0I1L5bSW08Y8GocDGjJP.jpg</td>\n",
       "      <td>...</td>\n",
       "      <td>1971-10-09</td>\n",
       "      <td>104.0</td>\n",
       "      <td>[{'iso_639_1': 'en', 'name': 'English'}, {'iso...</td>\n",
       "      <td>Released</td>\n",
       "      <td>There are no rules and no holds barred when Po...</td>\n",
       "      <td>The French Connection</td>\n",
       "      <td>[{'id': 796, 'name': 'police brutality'}, {'id...</td>\n",
       "      <td>[{'cast_id': 21, 'character': 'Jimmy Doyle', '...</td>\n",
       "      <td>[{'credit_id': '52fe42e6c3a36847f802b3bf', 'de...</td>\n",
       "      <td>41158757</td>\n",
       "    </tr>\n",
       "    <tr>\n",
       "      <th>...</th>\n",
       "      <td>...</td>\n",
       "      <td>...</td>\n",
       "      <td>...</td>\n",
       "      <td>...</td>\n",
       "      <td>...</td>\n",
       "      <td>...</td>\n",
       "      <td>...</td>\n",
       "      <td>...</td>\n",
       "      <td>...</td>\n",
       "      <td>...</td>\n",
       "      <td>...</td>\n",
       "      <td>...</td>\n",
       "      <td>...</td>\n",
       "      <td>...</td>\n",
       "      <td>...</td>\n",
       "      <td>...</td>\n",
       "      <td>...</td>\n",
       "      <td>...</td>\n",
       "      <td>...</td>\n",
       "      <td>...</td>\n",
       "      <td>...</td>\n",
       "    </tr>\n",
       "    <tr>\n",
       "      <th>1077</th>\n",
       "      <td>1078</td>\n",
       "      <td>NaN</td>\n",
       "      <td>20000000</td>\n",
       "      <td>[{'id': 14, 'name': 'Fantasy'}, {'id': 10402, ...</td>\n",
       "      <td>tt0081777</td>\n",
       "      <td>en</td>\n",
       "      <td>Xanadu</td>\n",
       "      <td>A beautiful muse inspires an artist and his ol...</td>\n",
       "      <td>3.782547</td>\n",
       "      <td>/wc3dC8DrI6qgD5sQlIkbjU7wcaS.jpg</td>\n",
       "      <td>...</td>\n",
       "      <td>1980-08-08</td>\n",
       "      <td>96.0</td>\n",
       "      <td>[{'iso_639_1': 'en', 'name': 'English'}]</td>\n",
       "      <td>Released</td>\n",
       "      <td>A Fantasy, A Musical, A Place Where Dreams Com...</td>\n",
       "      <td>Xanadu</td>\n",
       "      <td>[{'id': 4344, 'name': 'musical'}, {'id': 6234,...</td>\n",
       "      <td>[{'cast_id': 1, 'character': 'Kira', 'credit_i...</td>\n",
       "      <td>[{'credit_id': '53700504c3a368121800ea1b', 'de...</td>\n",
       "      <td>22471595</td>\n",
       "    </tr>\n",
       "    <tr>\n",
       "      <th>2336</th>\n",
       "      <td>2337</td>\n",
       "      <td>[{'id': 87220, 'name': 'Smokey and the Bandit ...</td>\n",
       "      <td>0</td>\n",
       "      <td>[{'id': 28, 'name': 'Action'}, {'id': 35, 'nam...</td>\n",
       "      <td>tt0081529</td>\n",
       "      <td>en</td>\n",
       "      <td>Smokey and the Bandit II</td>\n",
       "      <td>The Bandit goes on another cross-country run, ...</td>\n",
       "      <td>7.190986</td>\n",
       "      <td>/25YqvxJlkXBO9AumXzrVlruEKwX.jpg</td>\n",
       "      <td>...</td>\n",
       "      <td>1980-08-15</td>\n",
       "      <td>100.0</td>\n",
       "      <td>[{'iso_639_1': 'en', 'name': 'English'}, {'iso...</td>\n",
       "      <td>Released</td>\n",
       "      <td>The Bandit is back and better than ever!</td>\n",
       "      <td>Smokey and the Bandit II</td>\n",
       "      <td>[{'id': 2857, 'name': 'elephant'}, {'id': 3246...</td>\n",
       "      <td>[{'cast_id': 1, 'character': ''Bandit'', 'cred...</td>\n",
       "      <td>[{'credit_id': '52fe45179251416c7504b6fd', 'de...</td>\n",
       "      <td>66132626</td>\n",
       "    </tr>\n",
       "    <tr>\n",
       "      <th>218</th>\n",
       "      <td>219</td>\n",
       "      <td>[{'id': 112537, 'name': 'Sällskapsresorna', 'p...</td>\n",
       "      <td>0</td>\n",
       "      <td>[{'id': 35, 'name': 'Comedy'}]</td>\n",
       "      <td>tt0081590</td>\n",
       "      <td>sv</td>\n",
       "      <td>Sällskapsresan - eller finns det svenskt kaffe...</td>\n",
       "      <td>Stig-Helmer and Ole Bramserud on a trip to the...</td>\n",
       "      <td>2.972928</td>\n",
       "      <td>/pscjLB22tvG1xXfcon6rpY2UfUu.jpg</td>\n",
       "      <td>...</td>\n",
       "      <td>1980-08-22</td>\n",
       "      <td>107.0</td>\n",
       "      <td>[{'iso_639_1': 'sv', 'name': 'svenska'}]</td>\n",
       "      <td>Released</td>\n",
       "      <td>NaN</td>\n",
       "      <td>Sällskapsresan - eller finns det svenskt kaffe...</td>\n",
       "      <td>[{'id': 4544, 'name': 'fear of flying'}, {'id'...</td>\n",
       "      <td>[{'cast_id': 1, 'character': 'Stig-Helmer Olss...</td>\n",
       "      <td>[{'credit_id': '52fe46979251416c7507d11b', 'de...</td>\n",
       "      <td>5010362</td>\n",
       "    </tr>\n",
       "    <tr>\n",
       "      <th>2697</th>\n",
       "      <td>2698</td>\n",
       "      <td>NaN</td>\n",
       "      <td>2000000</td>\n",
       "      <td>[{'id': 878, 'name': 'Science Fiction'}]</td>\n",
       "      <td>tt0080421</td>\n",
       "      <td>en</td>\n",
       "      <td>Battle Beyond the Stars</td>\n",
       "      <td>A young farmer assembles a band of diverse mer...</td>\n",
       "      <td>2.921405</td>\n",
       "      <td>/7ETT8MvudloEZwF6paNt74uBdRc.jpg</td>\n",
       "      <td>...</td>\n",
       "      <td>1980-09-08</td>\n",
       "      <td>104.0</td>\n",
       "      <td>[{'iso_639_1': 'en', 'name': 'English'}]</td>\n",
       "      <td>Released</td>\n",
       "      <td>A battle beyond time, beyond space.</td>\n",
       "      <td>Battle Beyond the Stars</td>\n",
       "      <td>[{'id': 402, 'name': 'clone'}, {'id': 2708, 'n...</td>\n",
       "      <td>[{'cast_id': 3, 'character': 'Shad', 'credit_i...</td>\n",
       "      <td>[{'credit_id': '52fe45f79251416c75068845', 'de...</td>\n",
       "      <td>11000000</td>\n",
       "    </tr>\n",
       "    <tr>\n",
       "      <th>2085</th>\n",
       "      <td>2086</td>\n",
       "      <td>NaN</td>\n",
       "      <td>0</td>\n",
       "      <td>[{'id': 80, 'name': 'Crime'}, {'id': 53, 'name...</td>\n",
       "      <td>tt0081163</td>\n",
       "      <td>en</td>\n",
       "      <td>The Mirror Crack'd</td>\n",
       "      <td>Jane Marple solves the mystery when a local wo...</td>\n",
       "      <td>2.481504</td>\n",
       "      <td>/3QSPkQ07e19s9KyNLTujuHWpp7p.jpg</td>\n",
       "      <td>...</td>\n",
       "      <td>1980-09-19</td>\n",
       "      <td>105.0</td>\n",
       "      <td>[{'iso_639_1': 'en', 'name': 'English'}]</td>\n",
       "      <td>Released</td>\n",
       "      <td>Mirror, mirror on the wall, who is the murdere...</td>\n",
       "      <td>The Mirror Crack'd</td>\n",
       "      <td>[{'id': 703, 'name': 'detective'}, {'id': 3407...</td>\n",
       "      <td>[{'cast_id': 14, 'character': 'Miss Jane Marpl...</td>\n",
       "      <td>[{'credit_id': '52fe4439c3a36847f80895d5', 'de...</td>\n",
       "      <td>11000000</td>\n",
       "    </tr>\n",
       "  </tbody>\n",
       "</table>\n",
       "<p>100 rows × 22 columns</p>\n",
       "</div>"
      ],
      "text/plain": [
       "        id                              belongs_to_collection    budget  \\\n",
       "790    791                                                NaN   1300000   \n",
       "1178  1179                                                NaN         0   \n",
       "1525  1526                                                NaN    777000   \n",
       "2417  2418                                                NaN   3000000   \n",
       "1628  1629  [{'id': 155474, 'name': 'French Connection Col...   1800000   \n",
       "...    ...                                                ...       ...   \n",
       "1077  1078                                                NaN  20000000   \n",
       "2336  2337  [{'id': 87220, 'name': 'Smokey and the Bandit ...         0   \n",
       "218    219  [{'id': 112537, 'name': 'Sällskapsresorna', 'p...         0   \n",
       "2697  2698                                                NaN   2000000   \n",
       "2085  2086                                                NaN         0   \n",
       "\n",
       "                                                 genres    imdb_id  \\\n",
       "790   [{'id': 28, 'name': 'Action'}, {'id': 53, 'nam...  tt0067927   \n",
       "1178                     [{'id': 35, 'name': 'Comedy'}]  tt0066927   \n",
       "1525  [{'id': 18, 'name': 'Drama'}, {'id': 9648, 'na...  tt0066434   \n",
       "2417  [{'id': 10751, 'name': 'Family'}, {'id': 14, '...  tt0067992   \n",
       "1628  [{'id': 28, 'name': 'Action'}, {'id': 80, 'nam...  tt0067116   \n",
       "...                                                 ...        ...   \n",
       "1077  [{'id': 14, 'name': 'Fantasy'}, {'id': 10402, ...  tt0081777   \n",
       "2336  [{'id': 28, 'name': 'Action'}, {'id': 35, 'nam...  tt0081529   \n",
       "218                      [{'id': 35, 'name': 'Comedy'}]  tt0081590   \n",
       "2697           [{'id': 878, 'name': 'Science Fiction'}]  tt0080421   \n",
       "2085  [{'id': 80, 'name': 'Crime'}, {'id': 53, 'name...  tt0081163   \n",
       "\n",
       "     original_language                                     original_title  \\\n",
       "790                 en                                    Vanishing Point   \n",
       "1178                en                                        Cold Turkey   \n",
       "1525                en                                           THX 1138   \n",
       "2417                en                Willy Wonka & the Chocolate Factory   \n",
       "1628                en                              The French Connection   \n",
       "...                ...                                                ...   \n",
       "1077                en                                             Xanadu   \n",
       "2336                en                           Smokey and the Bandit II   \n",
       "218                 sv  Sällskapsresan - eller finns det svenskt kaffe...   \n",
       "2697                en                            Battle Beyond the Stars   \n",
       "2085                en                                 The Mirror Crack'd   \n",
       "\n",
       "                                               overview  popularity  \\\n",
       "790   Kowalski works for a car delivery service. He ...    5.184013   \n",
       "1178  Reverend Brooks leads the town in a contest to...    0.609080   \n",
       "1525  People in the future live in a totalitarian so...    8.152085   \n",
       "2417  Eccentric candy man Willy Wonka prompts a worl...   12.416635   \n",
       "1628  Tough narcotics detective 'Popeye' Doyle is in...    6.694959   \n",
       "...                                                 ...         ...   \n",
       "1077  A beautiful muse inspires an artist and his ol...    3.782547   \n",
       "2336  The Bandit goes on another cross-country run, ...    7.190986   \n",
       "218   Stig-Helmer and Ole Bramserud on a trip to the...    2.972928   \n",
       "2697  A young farmer assembles a band of diverse mer...    2.921405   \n",
       "2085  Jane Marple solves the mystery when a local wo...    2.481504   \n",
       "\n",
       "                           poster_path  ... release_date runtime  \\\n",
       "790   /it9ph8BRIkyEqqSxVKHOFeLMVaQ.jpg  ...   1971-01-15    99.0   \n",
       "1178  /qdFKoEina8RARqN9D4eKBNnANUC.jpg  ...   1971-02-19    99.0   \n",
       "1525  /8cie5mojY6MlIrYMs9EtNSyterv.jpg  ...   1971-03-11    86.0   \n",
       "2417  /b94qXd1FcIwgzv0NYMUe2bjrzJR.jpg  ...   1971-06-29   100.0   \n",
       "1628  /xwDi4wF0I1L5bSW08Y8GocDGjJP.jpg  ...   1971-10-09   104.0   \n",
       "...                                ...  ...          ...     ...   \n",
       "1077  /wc3dC8DrI6qgD5sQlIkbjU7wcaS.jpg  ...   1980-08-08    96.0   \n",
       "2336  /25YqvxJlkXBO9AumXzrVlruEKwX.jpg  ...   1980-08-15   100.0   \n",
       "218   /pscjLB22tvG1xXfcon6rpY2UfUu.jpg  ...   1980-08-22   107.0   \n",
       "2697  /7ETT8MvudloEZwF6paNt74uBdRc.jpg  ...   1980-09-08   104.0   \n",
       "2085  /3QSPkQ07e19s9KyNLTujuHWpp7p.jpg  ...   1980-09-19   105.0   \n",
       "\n",
       "                                       spoken_languages    status  \\\n",
       "790            [{'iso_639_1': 'en', 'name': 'English'}]  Released   \n",
       "1178           [{'iso_639_1': 'en', 'name': 'English'}]  Released   \n",
       "1525           [{'iso_639_1': 'en', 'name': 'English'}]  Released   \n",
       "2417  [{'iso_639_1': 'en', 'name': 'English'}, {'iso...  Released   \n",
       "1628  [{'iso_639_1': 'en', 'name': 'English'}, {'iso...  Released   \n",
       "...                                                 ...       ...   \n",
       "1077           [{'iso_639_1': 'en', 'name': 'English'}]  Released   \n",
       "2336  [{'iso_639_1': 'en', 'name': 'English'}, {'iso...  Released   \n",
       "218            [{'iso_639_1': 'sv', 'name': 'svenska'}]  Released   \n",
       "2697           [{'iso_639_1': 'en', 'name': 'English'}]  Released   \n",
       "2085           [{'iso_639_1': 'en', 'name': 'English'}]  Released   \n",
       "\n",
       "                                                tagline  \\\n",
       "790          It's the maximum trip... at maximum speed.   \n",
       "1178              See the hilarious BATTLE OF THE BUTT!   \n",
       "1525  Visit the future where love is the ultimate cr...   \n",
       "2417                          It's Scrumdiddlyumptious!   \n",
       "1628  There are no rules and no holds barred when Po...   \n",
       "...                                                 ...   \n",
       "1077  A Fantasy, A Musical, A Place Where Dreams Com...   \n",
       "2336           The Bandit is back and better than ever!   \n",
       "218                                                 NaN   \n",
       "2697                A battle beyond time, beyond space.   \n",
       "2085  Mirror, mirror on the wall, who is the murdere...   \n",
       "\n",
       "                                                  title  \\\n",
       "790                                     Vanishing Point   \n",
       "1178                                        Cold Turkey   \n",
       "1525                                           THX 1138   \n",
       "2417                Willy Wonka & the Chocolate Factory   \n",
       "1628                              The French Connection   \n",
       "...                                                 ...   \n",
       "1077                                             Xanadu   \n",
       "2336                           Smokey and the Bandit II   \n",
       "218   Sällskapsresan - eller finns det svenskt kaffe...   \n",
       "2697                            Battle Beyond the Stars   \n",
       "2085                                 The Mirror Crack'd   \n",
       "\n",
       "                                               Keywords  \\\n",
       "790   [{'id': 582, 'name': 'san francisco'}, {'id': ...   \n",
       "1178  [{'id': 6782, 'name': 'addiction'}, {'id': 117...   \n",
       "1525  [{'id': 378, 'name': 'prison'}, {'id': 1803, '...   \n",
       "2417  [{'id': 715, 'name': 'chocolate'}, {'id': 730,...   \n",
       "1628  [{'id': 796, 'name': 'police brutality'}, {'id...   \n",
       "...                                                 ...   \n",
       "1077  [{'id': 4344, 'name': 'musical'}, {'id': 6234,...   \n",
       "2336  [{'id': 2857, 'name': 'elephant'}, {'id': 3246...   \n",
       "218   [{'id': 4544, 'name': 'fear of flying'}, {'id'...   \n",
       "2697  [{'id': 402, 'name': 'clone'}, {'id': 2708, 'n...   \n",
       "2085  [{'id': 703, 'name': 'detective'}, {'id': 3407...   \n",
       "\n",
       "                                                   cast  \\\n",
       "790   [{'cast_id': 1, 'character': 'Kowalski', 'cred...   \n",
       "1178  [{'cast_id': 2, 'character': 'Rev. Clayton Bro...   \n",
       "1525  [{'cast_id': 13, 'character': 'THX', 'credit_i...   \n",
       "2417  [{'cast_id': 11, 'character': 'Willy Wonka', '...   \n",
       "1628  [{'cast_id': 21, 'character': 'Jimmy Doyle', '...   \n",
       "...                                                 ...   \n",
       "1077  [{'cast_id': 1, 'character': 'Kira', 'credit_i...   \n",
       "2336  [{'cast_id': 1, 'character': ''Bandit'', 'cred...   \n",
       "218   [{'cast_id': 1, 'character': 'Stig-Helmer Olss...   \n",
       "2697  [{'cast_id': 3, 'character': 'Shad', 'credit_i...   \n",
       "2085  [{'cast_id': 14, 'character': 'Miss Jane Marpl...   \n",
       "\n",
       "                                                   crew   revenue  \n",
       "790   [{'credit_id': '52fe44a89251416c7503c713', 'de...  72266306  \n",
       "1178  [{'credit_id': '575dfafd9251415dd2004994', 'de...  11000000  \n",
       "1525  [{'credit_id': '52fe4261c3a36847f801a07d', 'de...   2437000  \n",
       "2417  [{'credit_id': '52fe422dc3a36847f800a06d', 'de...   4000000  \n",
       "1628  [{'credit_id': '52fe42e6c3a36847f802b3bf', 'de...  41158757  \n",
       "...                                                 ...       ...  \n",
       "1077  [{'credit_id': '53700504c3a368121800ea1b', 'de...  22471595  \n",
       "2336  [{'credit_id': '52fe45179251416c7504b6fd', 'de...  66132626  \n",
       "218   [{'credit_id': '52fe46979251416c7507d11b', 'de...   5010362  \n",
       "2697  [{'credit_id': '52fe45f79251416c75068845', 'de...  11000000  \n",
       "2085  [{'credit_id': '52fe4439c3a36847f80895d5', 'de...  11000000  \n",
       "\n",
       "[100 rows x 22 columns]"
      ]
     },
     "execution_count": 92,
     "metadata": {},
     "output_type": "execute_result"
    }
   ],
   "source": [
    "data.head(100)\n"
   ]
  },
  {
   "cell_type": "code",
   "execution_count": 93,
   "metadata": {},
   "outputs": [
    {
     "data": {
      "text/plain": [
       "790    1971-01-15\n",
       "1178   1971-02-19\n",
       "1525   1971-03-11\n",
       "2417   1971-06-29\n",
       "1628   1971-10-09\n",
       "          ...    \n",
       "2383   2070-05-19\n",
       "1447   2070-06-24\n",
       "2529   2070-10-26\n",
       "631    2070-10-29\n",
       "2211   2070-12-16\n",
       "Name: release_date, Length: 3000, dtype: datetime64[ns]"
      ]
     },
     "execution_count": 93,
>>>>>>> Stashed changes
     "metadata": {},
     "output_type": "execute_result"
    }
   ],
   "source": [
<<<<<<< Updated upstream
    "data.describe()"
=======
    "data[\"release_date\"]"
>>>>>>> Stashed changes
   ]
  },
  {
   "cell_type": "code",
<<<<<<< Updated upstream
   "execution_count": 23,
=======
   "execution_count": null,
>>>>>>> Stashed changes
   "metadata": {},
   "outputs": [],
   "source": [
    "#aggiunta la colonna anno di uscita\n",
    "#per evitare errori usare il .dt per estrarre info dalle date\n",
    "data[\"release_year\"]=data[\"release_date\"].dt.year\n"
   ]
  },
  {
   "cell_type": "code",
   "execution_count": 24,
   "metadata": {},
   "outputs": [
    {
     "data": {
      "text/plain": [
       "(1960, 2021.8)"
      ]
     },
     "execution_count": 24,
     "metadata": {},
     "output_type": "execute_result"
    },
    {
     "data": {
      "image/png": "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\n",
      "text/plain": [
       "<Figure size 720x360 with 1 Axes>"
      ]
     },
     "metadata": {
      "needs_background": "light"
     },
     "output_type": "display_data"
    }
   ],
   "source": [
    "grupByMovies=data['runtime'].groupby(data[\"release_year\"]).describe()\n",
    "fig, x=plt.subplots(figsize=(10,5))\n",
    "x.plot(grupByMovies['mean'])\n",
    "x.set_xlabel(\"Year Release\", fontsize=10)\n",
    "x.set_ylabel(\"Runtime mean (minutes)\", fontsize=10)\n",
    "x.set_title('Duration of the films over the years', fontsize=20)\n",
    "\n",
    "#We made the x axis starting from 1960 in previous year there were way few film in order to have a decent graph\n",
    "x.set_xlim(1960)"
   ]
  },
  {
   "cell_type": "code",
   "execution_count": 25,
   "metadata": {},
   "outputs": [
    {
     "data": {
      "text/html": [
       "<div>\n",
       "<style scoped>\n",
       "    .dataframe tbody tr th:only-of-type {\n",
       "        vertical-align: middle;\n",
       "    }\n",
       "\n",
       "    .dataframe tbody tr th {\n",
       "        vertical-align: top;\n",
       "    }\n",
       "\n",
       "    .dataframe thead th {\n",
       "        text-align: right;\n",
       "    }\n",
       "</style>\n",
       "<table border=\"1\" class=\"dataframe\">\n",
       "  <thead>\n",
       "    <tr style=\"text-align: right;\">\n",
       "      <th></th>\n",
       "      <th>id</th>\n",
       "      <th>budget</th>\n",
       "      <th>popularity</th>\n",
       "      <th>runtime</th>\n",
       "      <th>revenue</th>\n",
       "      <th>release_year</th>\n",
       "    </tr>\n",
       "  </thead>\n",
       "  <tbody>\n",
       "    <tr>\n",
       "      <th>count</th>\n",
       "      <td>3000.000000</td>\n",
       "      <td>3.000000e+03</td>\n",
       "      <td>3000.000000</td>\n",
       "      <td>2998.000000</td>\n",
       "      <td>3.000000e+03</td>\n",
       "      <td>3000.000000</td>\n",
       "    </tr>\n",
       "    <tr>\n",
       "      <th>mean</th>\n",
       "      <td>1500.500000</td>\n",
       "      <td>2.253133e+07</td>\n",
       "      <td>8.463274</td>\n",
       "      <td>107.856571</td>\n",
       "      <td>6.672585e+07</td>\n",
       "      <td>1999.713000</td>\n",
       "    </tr>\n",
       "    <tr>\n",
       "      <th>std</th>\n",
       "      <td>866.169729</td>\n",
       "      <td>3.702609e+07</td>\n",
       "      <td>12.104000</td>\n",
       "      <td>22.086434</td>\n",
       "      <td>1.375323e+08</td>\n",
       "      <td>15.423313</td>\n",
       "    </tr>\n",
       "    <tr>\n",
       "      <th>min</th>\n",
       "      <td>1.000000</td>\n",
       "      <td>0.000000e+00</td>\n",
       "      <td>0.000001</td>\n",
       "      <td>0.000000</td>\n",
       "      <td>1.000000e+00</td>\n",
       "      <td>1921.000000</td>\n",
       "    </tr>\n",
       "    <tr>\n",
       "      <th>25%</th>\n",
       "      <td>750.750000</td>\n",
       "      <td>0.000000e+00</td>\n",
       "      <td>4.018053</td>\n",
       "      <td>94.000000</td>\n",
       "      <td>2.379808e+06</td>\n",
       "      <td>1993.000000</td>\n",
       "    </tr>\n",
       "    <tr>\n",
       "      <th>50%</th>\n",
       "      <td>1500.500000</td>\n",
       "      <td>8.000000e+06</td>\n",
       "      <td>7.374861</td>\n",
       "      <td>104.000000</td>\n",
       "      <td>1.680707e+07</td>\n",
       "      <td>2004.000000</td>\n",
       "    </tr>\n",
       "    <tr>\n",
       "      <th>75%</th>\n",
       "      <td>2250.250000</td>\n",
       "      <td>2.900000e+07</td>\n",
       "      <td>10.890983</td>\n",
       "      <td>118.000000</td>\n",
       "      <td>6.891920e+07</td>\n",
       "      <td>2011.000000</td>\n",
       "    </tr>\n",
       "    <tr>\n",
       "      <th>max</th>\n",
       "      <td>3000.000000</td>\n",
       "      <td>3.800000e+08</td>\n",
       "      <td>294.337037</td>\n",
       "      <td>338.000000</td>\n",
       "      <td>1.519558e+09</td>\n",
       "      <td>2017.000000</td>\n",
       "    </tr>\n",
       "  </tbody>\n",
       "</table>\n",
       "</div>"
      ],
      "text/plain": [
       "                id        budget   popularity      runtime       revenue  \\\n",
       "count  3000.000000  3.000000e+03  3000.000000  2998.000000  3.000000e+03   \n",
       "mean   1500.500000  2.253133e+07     8.463274   107.856571  6.672585e+07   \n",
       "std     866.169729  3.702609e+07    12.104000    22.086434  1.375323e+08   \n",
       "min       1.000000  0.000000e+00     0.000001     0.000000  1.000000e+00   \n",
       "25%     750.750000  0.000000e+00     4.018053    94.000000  2.379808e+06   \n",
       "50%    1500.500000  8.000000e+06     7.374861   104.000000  1.680707e+07   \n",
       "75%    2250.250000  2.900000e+07    10.890983   118.000000  6.891920e+07   \n",
       "max    3000.000000  3.800000e+08   294.337037   338.000000  1.519558e+09   \n",
       "\n",
       "       release_year  \n",
       "count   3000.000000  \n",
       "mean    1999.713000  \n",
       "std       15.423313  \n",
       "min     1921.000000  \n",
       "25%     1993.000000  \n",
       "50%     2004.000000  \n",
       "75%     2011.000000  \n",
       "max     2017.000000  "
      ]
     },
     "execution_count": 25,
     "metadata": {},
     "output_type": "execute_result"
    }
   ],
   "source": [
    "data.describe()"
   ]
  },
  {
   "cell_type": "code",
<<<<<<< Updated upstream
   "execution_count": 26,
=======
   "execution_count": 25,
>>>>>>> Stashed changes
   "metadata": {},
   "outputs": [
    {
     "name": "stdout",
     "output_type": "stream",
     "text": [
      "['Comedy', 'Drama', 'Action', 'Adventure', 'Family', 'Fantasy', 'Romance', 'History', 'Mystery', 'Horror', 'Thriller', 'Crime', 'War', 'Music', 'Western', 'Science Fiction', 'Animation', 'Documentary', 'Foreign', 'TV Movie']\n"
     ]
    }
   ],
   "source": [
    "# Si vuole sviluppare un algoritmo che, in base al genere del film che uscirà, preveda, grazie ai \"vicini\", quanto potrebbe\n",
    "# guadagnare al botteghino\n",
    "# utilizzo dell'algoritmo knn\n",
    "\n",
    "#out: lista di tutti i generi presenti nel DB\n",
    "out = []\n",
    "for lista_generi_per_film in data['genres']:\n",
    "    if not isinstance(lista_generi_per_film, float):\n",
    "        for genere in lista_generi_per_film:\n",
    "            if genere['name'] not in out:\n",
    "                out.append(genere['name'])\n",
    "            \n",
    "print(out)"
   ]
  },
  {
   "cell_type": "code",
<<<<<<< Updated upstream
   "execution_count": 38,
   "metadata": {},
   "outputs": [
    {
     "data": {
      "text/plain": [
       "id                          0\n",
       "belongs_to_collection    2396\n",
       "budget                      0\n",
       "genres                      7\n",
       "imdb_id                     0\n",
       "original_language           0\n",
       "original_title              0\n",
       "overview                    8\n",
       "popularity                  0\n",
       "poster_path                 1\n",
       "production_companies      156\n",
       "production_countries       55\n",
       "release_date                0\n",
       "runtime                     2\n",
       "spoken_languages           20\n",
       "status                      0\n",
       "tagline                   597\n",
       "title                       0\n",
       "Keywords                  276\n",
       "cast                       13\n",
       "crew                       16\n",
       "revenue                     0\n",
       "release_year                0\n",
       "dtype: int64"
      ]
     },
     "execution_count": 38,
     "metadata": {},
     "output_type": "execute_result"
    }
   ],
   "source": [
    "data.isnull().sum()\n"
   ]
  },
  {
   "cell_type": "code",
   "execution_count": 41,
   "metadata": {},
   "outputs": [
    {
     "data": {
      "text/plain": [
       "[{'id': 2505, 'name': 'coronation'},\n",
       " {'id': 4263, 'name': 'duty'},\n",
       " {'id': 6038, 'name': 'marriage'},\n",
       " {'id': 13072, 'name': 'falling in love'}]"
      ]
     },
     "execution_count": 41,
     "metadata": {},
     "output_type": "execute_result"
    }
   ],
   "source": [
    "data[\"Keywords\"][1]"
   ]
  },
  {
   "cell_type": "code",
   "execution_count": 42,
=======
   "execution_count": 26,
>>>>>>> Stashed changes
   "metadata": {},
   "outputs": [
    {
     "data": {
      "text/plain": [
       "1763    [{'id': 35, 'name': 'Comedy'}, {'id': 18, 'nam...\n",
       "2992    [{'id': 28, 'name': 'Action'}, {'id': 12, 'nam...\n",
       "1917    [{'id': 10749, 'name': 'Romance'}, {'id': 18, ...\n",
       "1361    [{'id': 18, 'name': 'Drama'}, {'id': 36, 'name...\n",
       "2680                        [{'id': 18, 'name': 'Drama'}]\n",
       "1161    [{'id': 18, 'name': 'Drama'}, {'id': 10749, 'n...\n",
       "2946    [{'id': 18, 'name': 'Drama'}, {'id': 35, 'name...\n",
       "1760    [{'id': 12, 'name': 'Adventure'}, {'id': 18, '...\n",
       "2577    [{'id': 35, 'name': 'Comedy'}, {'id': 18, 'nam...\n",
       "187     [{'id': 18, 'name': 'Drama'}, {'id': 9648, 'na...\n",
       "Name: genres, dtype: object"
      ]
     },
     "execution_count": 26,
     "metadata": {},
     "output_type": "execute_result"
    }
   ],
   "source": [
    "data[\"genres\"].head(10)\n"
   ]
  },
  {
   "cell_type": "code",
   "execution_count": 43,
   "metadata": {},
   "outputs": [
    {
     "data": {
      "text/html": [
       "<div>\n",
       "<style scoped>\n",
       "    .dataframe tbody tr th:only-of-type {\n",
       "        vertical-align: middle;\n",
       "    }\n",
       "\n",
       "    .dataframe tbody tr th {\n",
       "        vertical-align: top;\n",
       "    }\n",
       "\n",
       "    .dataframe thead th {\n",
       "        text-align: right;\n",
       "    }\n",
       "</style>\n",
       "<table border=\"1\" class=\"dataframe\">\n",
       "  <thead>\n",
       "    <tr style=\"text-align: right;\">\n",
       "      <th></th>\n",
       "      <th>popularity_norm</th>\n",
       "      <th>runtime_norm</th>\n",
       "      <th>budget_norm</th>\n",
       "    </tr>\n",
       "  </thead>\n",
       "  <tbody>\n",
       "    <tr>\n",
       "      <th>count</th>\n",
       "      <td>3000.000000</td>\n",
       "      <td>2998.000000</td>\n",
       "      <td>3000.000000</td>\n",
       "    </tr>\n",
       "    <tr>\n",
       "      <th>mean</th>\n",
       "      <td>0.028754</td>\n",
       "      <td>0.319102</td>\n",
       "      <td>0.059293</td>\n",
       "    </tr>\n",
       "    <tr>\n",
       "      <th>std</th>\n",
       "      <td>0.041123</td>\n",
       "      <td>0.065344</td>\n",
       "      <td>0.097437</td>\n",
       "    </tr>\n",
       "    <tr>\n",
       "      <th>min</th>\n",
       "      <td>0.000000</td>\n",
       "      <td>0.000000</td>\n",
       "      <td>0.000000</td>\n",
       "    </tr>\n",
       "    <tr>\n",
       "      <th>25%</th>\n",
       "      <td>0.013651</td>\n",
       "      <td>0.278107</td>\n",
       "      <td>0.000000</td>\n",
       "    </tr>\n",
       "    <tr>\n",
       "      <th>50%</th>\n",
       "      <td>0.025056</td>\n",
       "      <td>0.307692</td>\n",
       "      <td>0.021053</td>\n",
       "    </tr>\n",
       "    <tr>\n",
       "      <th>75%</th>\n",
       "      <td>0.037002</td>\n",
       "      <td>0.349112</td>\n",
       "      <td>0.076316</td>\n",
       "    </tr>\n",
       "    <tr>\n",
       "      <th>max</th>\n",
       "      <td>1.000000</td>\n",
       "      <td>1.000000</td>\n",
       "      <td>1.000000</td>\n",
       "    </tr>\n",
       "  </tbody>\n",
       "</table>\n",
       "</div>"
      ],
      "text/plain": [
       "       popularity_norm  runtime_norm  budget_norm\n",
       "count      3000.000000   2998.000000  3000.000000\n",
       "mean          0.028754      0.319102     0.059293\n",
       "std           0.041123      0.065344     0.097437\n",
       "min           0.000000      0.000000     0.000000\n",
       "25%           0.013651      0.278107     0.000000\n",
       "50%           0.025056      0.307692     0.021053\n",
       "75%           0.037002      0.349112     0.076316\n",
       "max           1.000000      1.000000     1.000000"
      ]
     },
     "execution_count": 43,
     "metadata": {},
     "output_type": "execute_result"
    }
   ],
   "source": []
  }
 ],
 "metadata": {
  "kernelspec": {
   "display_name": "Python 3",
   "language": "python",
   "name": "python3"
  },
  "language_info": {
   "codemirror_mode": {
    "name": "ipython",
    "version": 3
   },
   "file_extension": ".py",
   "mimetype": "text/x-python",
   "name": "python",
   "nbconvert_exporter": "python",
   "pygments_lexer": "ipython3",
   "version": "3.7.3"
  }
 },
 "nbformat": 4,
 "nbformat_minor": 4
}
