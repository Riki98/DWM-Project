{
 "cells": [
  {
   "cell_type": "code",
   "execution_count": 1,
   "metadata": {},
   "outputs": [],
   "source": [
    "import os\n",
    "print(os.getcwd())"
   ]
  },
  {
   "cell_type": "code",
   "execution_count": 2,
   "metadata": {
    "scrolled": true
   },
   "outputs": [],
   "source": [
    "import pandas as pd \n",
    "data = pd.read_csv(\"train.csv\")\n"
   ]
  },
  {
   "cell_type": "code",
   "execution_count": 3,
   "metadata": {},
   "outputs": [
    {
     "name": "stdout",
     "output_type": "stream",
     "text": [
      "data.shape: (3000, 23)\n",
      "data.index: RangeIndex(start=0, stop=3000, step=1)\n",
      "data.columns: Index(['id', 'belongs_to_collection', 'budget', 'genres', 'homepage',\n",
      "       'imdb_id', 'original_language', 'original_title', 'overview',\n",
      "       'popularity', 'poster_path', 'production_companies',\n",
      "       'production_countries', 'release_date', 'runtime', 'spoken_languages',\n",
      "       'status', 'tagline', 'title', 'Keywords', 'cast', 'crew', 'revenue'],\n",
      "      dtype='object')\n"
     ]
    }
   ],
   "source": [
    "print(\"data.shape:\", data.shape)\n",
    "print(\"data.index:\", data.index)\n",
    "print(\"data.columns:\", data.columns)"
   ]
  },
  {
   "cell_type": "code",
   "execution_count": 4,
   "metadata": {},
   "outputs": [],
   "source": [
    "data.drop(['homepage'],axis=1,inplace=True)"
   ]
  },
  {
   "cell_type": "markdown",
   "metadata": {},
   "source": [
    "### data[\"genres\"]"
   ]
  },
  {
   "cell_type": "code",
   "execution_count": 5,
   "metadata": {},
   "outputs": [
    {
     "data": {
      "text/plain": [
       "id                          0\n",
       "belongs_to_collection    2396\n",
       "budget                      0\n",
       "genres                      7\n",
       "imdb_id                     0\n",
       "original_language           0\n",
       "original_title              0\n",
       "overview                    8\n",
       "popularity                  0\n",
       "poster_path                 1\n",
       "production_companies      156\n",
       "production_countries       55\n",
       "release_date                0\n",
       "runtime                     2\n",
       "spoken_languages           20\n",
       "status                      0\n",
       "tagline                   597\n",
       "title                       0\n",
       "Keywords                  276\n",
       "cast                       13\n",
       "crew                       16\n",
       "revenue                     0\n",
       "dtype: int64"
      ]
     },
     "execution_count": 5,
     "metadata": {},
     "output_type": "execute_result"
    }
   ],
   "source": [
    "data.isna().sum()"
   ]
  },
  {
   "cell_type": "code",
   "execution_count": 6,
   "metadata": {},
   "outputs": [],
   "source": [
    "def convertAll():\n",
    "    import math\n",
    "    import datetime\n",
    "\n",
    "    data[\"release_date\"] = pd.to_datetime(data[\"release_date\"])\n",
    "    #fix della data in quanto ci sono date che superano il 2021\n",
    "    i=0\n",
    "    maxDate = datetime.datetime(2020, 1, 1)\n",
    "    n_elem = data.shape[0]\n",
    "    while i<n_elem:\n",
    "        if data['release_date'][i]>maxDate:\n",
    "            new_year=(data['release_date'][i].year)-100\n",
    "            new_date = datetime.datetime(new_year, data['release_date'][i].month, data['release_date'][i].day, 0, 0, 0)\n",
    "            data['release_date'][i] = new_date\n",
    "        i+=1\n",
    "    i=0\n",
    "    n_elem = data.shape[0]\n",
    "    while i<n_elem:\n",
    "        if isinstance(data[\"genres\"][i], float):\n",
    "            if math.isnan(data[\"genres\"][i]):\n",
    "                i+=1\n",
    "                continue\n",
    "        data[\"genres\"][i]=eval(data[\"genres\"][i]) \n",
    "        i+=1\n",
    "    \n",
    "    i=0\n",
    "    while i<n_elem:\n",
    "        if isinstance(data[\"production_countries\"][i], float):\n",
    "            if math.isnan(data[\"production_countries\"][i]):\n",
    "                i+=1\n",
    "                continue\n",
    "        data[\"production_countries\"][i]=eval(data[\"production_countries\"][i]) \n",
    "        i+=1\n",
    "    \n",
    "    i=0\n",
    "    while i<n_elem:\n",
    "        if isinstance(data[\"spoken_languages\"][i], float):\n",
    "            if math.isnan(data[\"spoken_languages\"][i]):\n",
    "                i+=1\n",
    "                continue\n",
    "        data[\"spoken_languages\"][i]=eval(data[\"spoken_languages\"][i]) \n",
    "        i+=1\n",
    "    \n",
    "    i=0\n",
    "    while i<n_elem:\n",
    "        if isinstance(data[\"Keywords\"][i], float):\n",
    "            if math.isnan(data[\"Keywords\"][i]):\n",
    "                i+=1\n",
    "                continue\n",
    "        data[\"Keywords\"][i]=eval(data[\"Keywords\"][i]) \n",
    "        i+=1\n",
    "    \n",
    "    i=0\n",
    "    while i<n_elem:\n",
    "        if isinstance(data[\"cast\"][i], float):\n",
    "            if math.isnan(data[\"cast\"][i]):\n",
    "                i+=1\n",
    "                continue\n",
    "        data[\"cast\"][i]=eval(data[\"cast\"][i]) \n",
    "        i+=1\n",
    "\n",
    "    i=0\n",
    "    while i<n_elem:\n",
    "        if isinstance(data[\"crew\"][i], float):\n",
    "            if math.isnan(data[\"crew\"][i]):\n",
    "                i+=1\n",
    "                continue\n",
    "        data[\"crew\"][i]=eval(data[\"crew\"][i]) \n",
    "        i+=1\n",
    "\n",
    "    i=0\n",
    "    while i<n_elem:\n",
    "        if isinstance(data[\"production_companies\"][i], float):\n",
    "            if math.isnan(data[\"production_companies\"][i]):\n",
    "                i+=1\n",
    "                continue\n",
    "        data[\"production_companies\"][i]=eval(data[\"production_companies\"][i])\n",
    "        i+=1\n"
   ]
  },
  {
   "cell_type": "code",
   "execution_count": 7,
   "metadata": {
    "scrolled": false
   },
   "outputs": [
    {
     "name": "stderr",
     "output_type": "stream",
     "text": [
      "<ipython-input-6-1ae77e7ce95a>:14: SettingWithCopyWarning: \n",
      "A value is trying to be set on a copy of a slice from a DataFrame\n",
      "\n",
      "See the caveats in the documentation: https://pandas.pydata.org/pandas-docs/stable/user_guide/indexing.html#returning-a-view-versus-a-copy\n",
      "  data['release_date'][i] = new_date\n",
      "<ipython-input-6-1ae77e7ce95a>:23: SettingWithCopyWarning: \n",
      "A value is trying to be set on a copy of a slice from a DataFrame\n",
      "\n",
      "See the caveats in the documentation: https://pandas.pydata.org/pandas-docs/stable/user_guide/indexing.html#returning-a-view-versus-a-copy\n",
      "  data[\"genres\"][i]=eval(data[\"genres\"][i])\n",
      "<ipython-input-6-1ae77e7ce95a>:32: SettingWithCopyWarning: \n",
      "A value is trying to be set on a copy of a slice from a DataFrame\n",
      "\n",
      "See the caveats in the documentation: https://pandas.pydata.org/pandas-docs/stable/user_guide/indexing.html#returning-a-view-versus-a-copy\n",
      "  data[\"production_countries\"][i]=eval(data[\"production_countries\"][i])\n",
      "<ipython-input-6-1ae77e7ce95a>:41: SettingWithCopyWarning: \n",
      "A value is trying to be set on a copy of a slice from a DataFrame\n",
      "\n",
      "See the caveats in the documentation: https://pandas.pydata.org/pandas-docs/stable/user_guide/indexing.html#returning-a-view-versus-a-copy\n",
      "  data[\"spoken_languages\"][i]=eval(data[\"spoken_languages\"][i])\n",
      "<ipython-input-6-1ae77e7ce95a>:50: SettingWithCopyWarning: \n",
      "A value is trying to be set on a copy of a slice from a DataFrame\n",
      "\n",
      "See the caveats in the documentation: https://pandas.pydata.org/pandas-docs/stable/user_guide/indexing.html#returning-a-view-versus-a-copy\n",
      "  data[\"Keywords\"][i]=eval(data[\"Keywords\"][i])\n",
      "<ipython-input-6-1ae77e7ce95a>:59: SettingWithCopyWarning: \n",
      "A value is trying to be set on a copy of a slice from a DataFrame\n",
      "\n",
      "See the caveats in the documentation: https://pandas.pydata.org/pandas-docs/stable/user_guide/indexing.html#returning-a-view-versus-a-copy\n",
      "  data[\"cast\"][i]=eval(data[\"cast\"][i])\n",
      "<ipython-input-6-1ae77e7ce95a>:68: SettingWithCopyWarning: \n",
      "A value is trying to be set on a copy of a slice from a DataFrame\n",
      "\n",
      "See the caveats in the documentation: https://pandas.pydata.org/pandas-docs/stable/user_guide/indexing.html#returning-a-view-versus-a-copy\n",
      "  data[\"crew\"][i]=eval(data[\"crew\"][i])\n",
      "<ipython-input-6-1ae77e7ce95a>:77: SettingWithCopyWarning: \n",
      "A value is trying to be set on a copy of a slice from a DataFrame\n",
      "\n",
      "See the caveats in the documentation: https://pandas.pydata.org/pandas-docs/stable/user_guide/indexing.html#returning-a-view-versus-a-copy\n",
      "  data[\"production_companies\"][i]=eval(data[\"production_companies\"][i])\n"
     ]
    }
   ],
   "source": [
    "convertAll()"
   ]
  },
  {
   "cell_type": "code",
   "execution_count": 8,
   "metadata": {},
   "outputs": [],
   "source": [
    "def get_words (data):\n",
    "    import math\n",
    "    descrizioni = []\n",
    "    i=0\n",
    "    while i<1000:\n",
    "        if isinstance(data[\"overview\"][i], float):\n",
    "            if math.isnan(data[\"overview\"][i]):\n",
    "                empty_list=[]\n",
    "                descrizioni += empty_list\n",
    "                i+=1\n",
    "                continue\n",
    "        desc = data[\"overview\"][i]         # this is a string\n",
    "        words = desc.split() # this is a list\n",
    "        words = set(words)     # create a set\n",
    "        descrizioni += [words] # append words to the list\n",
    "        i=i+1\n",
    "    return descrizioni"
   ]
  },
  {
   "cell_type": "code",
   "execution_count": 9,
   "metadata": {},
   "outputs": [
    {
     "name": "stdout",
     "output_type": "stream",
     "text": [
      "{'the', 'it', 'even', 'end', 'Bagchi', 'In', 'Balan)', 'convince', 'husband.', 'everyone', 'herself', 'lies,', 'festive', 'slowly', 'she', 'about', 'seem', 'She', 'except', 'reach', 'relentless', 'is', 'nothing', '(Vidya', 'a', 'him,', 'all', 'not', 'truth', 'memories', 'child', 'her', 'when', '-', 'soaked', 'months', 'alone', 'fragments', 'of', 'determined', 'begins', 'own', 'unborn', 'does', 'what', 'arrives', 'husband', 'clues', 'Kolkata', 'city,', 'search', 'missing', 'seems.', 'Bagchi.', 'With', 'on', 'city', 'from', 'exist.', 'at', 'life.', 'rely', 'Vidya', 'realises', 'in', 'Arnab', 'Seven', 'to', 'London', 'find', 'pregnant', 'and', 'dead', 'unravel', 'for', 'that', 'tries', 'cost'}\n"
     ]
    }
   ],
   "source": [
    "lyrics_word_split = get_words(data)\n",
    "\n",
    "print ( lyrics_word_split[3] )"
   ]
  },
  {
   "cell_type": "code",
   "execution_count": 10,
   "metadata": {},
   "outputs": [],
   "source": [
    "def jaccard(a,b):\n",
    "    return len(a & b) / len( a | b)"
   ]
  },
  {
   "cell_type": "code",
   "execution_count": 11,
   "metadata": {},
   "outputs": [
    {
     "data": {
      "text/plain": [
       "0.06896551724137931"
      ]
     },
     "execution_count": 11,
     "metadata": {},
     "output_type": "execute_result"
    }
   ],
   "source": [
    "jaccard(lyrics_word_split[0],lyrics_word_split[123])"
   ]
  },
  {
   "cell_type": "code",
   "execution_count": 12,
   "metadata": {},
   "outputs": [],
   "source": [
    "def most_similar_jaccard(film_ricerca, lyrics_word_split):\n",
    "    most_similar_id=1\n",
    "    jaccard_most_similar=jaccard(lyrics_word_split[film_ricerca],lyrics_word_split[2])\n",
    "    list_size=len(lyrics_word_split)\n",
    "    current_id=2\n",
    "    while current_id<list_size:\n",
    "        current_sim=jaccard(lyrics_word_split[film_ricerca],lyrics_word_split[current_id])\n",
    "        if current_sim>jaccard_most_similar:\n",
    "            jaccard_most_similar=current_sim\n",
    "            most_similar_id=current_id\n",
    "        current_id=current_id+1\n",
    "    \n",
    "    return most_similar_id, jaccard_most_similar\n",
    "\n",
    "sim_id, sim_value = most_similar_jaccard(0, lyrics_word_split)"
   ]
  },
  {
   "cell_type": "code",
   "execution_count": 13,
   "metadata": {},
   "outputs": [
    {
     "data": {
      "text/plain": [
       "id                          0\n",
       "belongs_to_collection    2396\n",
       "budget                      0\n",
       "genres                      7\n",
       "imdb_id                     0\n",
       "original_language           0\n",
       "original_title              0\n",
       "overview                    8\n",
       "popularity                  0\n",
       "poster_path                 1\n",
       "production_companies      156\n",
       "production_countries       55\n",
       "release_date                0\n",
       "runtime                     2\n",
       "spoken_languages           20\n",
       "status                      0\n",
       "tagline                   597\n",
       "title                       0\n",
       "Keywords                  276\n",
       "cast                       13\n",
       "crew                       16\n",
       "revenue                     0\n",
       "dtype: int64"
      ]
     },
     "execution_count": 13,
     "metadata": {},
     "output_type": "execute_result"
    }
   ],
   "source": [
    "data.isna().sum()"
   ]
  },
  {
   "cell_type": "code",
   "execution_count": 14,
   "metadata": {},
   "outputs": [
    {
     "name": "stdout",
     "output_type": "stream",
     "text": [
      "data_with_budget.shape: (2188, 22)\n"
     ]
    },
    {
     "data": {
      "text/plain": [
       "Text(0.5, 1.0, 'Revenue based on budget per movie')"
      ]
     },
     "execution_count": 14,
     "metadata": {},
     "output_type": "execute_result"
    },
    {
     "data": {
      "image/png": "[encoded data removed]",
      "text/plain": [
       "<Figure size 360x360 with 1 Axes>"
      ]
     },
     "metadata": {
      "needs_background": "light"
     },
     "output_type": "display_data"
    }
   ],
   "source": [
    "import matplotlib.pyplot as plt\n",
    "#data_with_budget: array tolti gli elementi con budget = 0\n",
    "data_with_budget = data[data[\"budget\"] != 0]\n",
    "print(\"data_with_budget.shape:\", data_with_budget.shape)\n",
    "\n",
    "fig, ax = plt.subplots(figsize=(5,5))\n",
    "\n",
    "ax.scatter(data_with_budget.iloc[:, 2], data_with_budget.iloc[:, 21])\n",
    "\n",
    "ax.set_xlabel(\"Budget per movie\", fontsize=10)\n",
    "ax.set_ylabel(\"Revenue per movie\", fontsize=10)\n",
    "ax.set_title('Revenue based on budget per movie', fontsize=20)"
   ]
  },
  {
   "cell_type": "code",
   "execution_count": 15,
   "metadata": {},
   "outputs": [
    {
     "data": {
      "text/plain": [
       "666"
      ]
     },
     "execution_count": 15,
     "metadata": {},
     "output_type": "execute_result"
    }
   ],
   "source": [
    "# The number of the beast\n",
    "sum(data_with_budget['revenue'] <= 10000000)"
   ]
  },
  {
   "cell_type": "code",
   "execution_count": 16,
   "metadata": {},
   "outputs": [],
   "source": [
    "import numpy as np\n",
    "\n",
    "#from sklearn.datasets import make_blobs\n",
    "#from sklearn.cluster import KMeans\n",
    "\n",
    "#matrix budget-revenue\n",
    "#matrice = [len(data_with_budget)][2]\n",
    "#br = [data_with_budget['budget'], data_with_budget['revenue']]\n",
    "\n",
    "#k_means = KMeans(n_clusters=5, n_init=1)\n",
    "#k_means.fit(br)\n",
    "\n",
    "\n",
    "#fig, ax = plt.subplots(figsize=(5,5))\n",
    "\n",
    "#ax.scatter(br.iloc[0, :], br.iloc[1, :], c=k_means.labels_)"
   ]
  },
  {
   "cell_type": "code",
   "execution_count": 17,
   "metadata": {},
   "outputs": [
    {
     "data": {
      "text/plain": [
       "<matplotlib.collections.PathCollection at 0x1fb06790c10>"
      ]
     },
     "execution_count": 17,
     "metadata": {},
     "output_type": "execute_result"
    },
    {
     "data": {
      "image/png": "[encoded data removed]",
      "text/plain": [
       "<Figure size 360x360 with 1 Axes>"
      ]
     },
     "metadata": {
      "needs_background": "light"
     },
     "output_type": "display_data"
    }
   ],
   "source": [
    "from datetime import datetime\n",
    "import matplotlib.pyplot as plt\n",
    "\n",
    "data = data.sort_values(by=\"release_date\")\n",
    "data[\"release_date\"] = pd.to_datetime(data[\"release_date\"])\n",
    "\n",
    "fig, ax = plt.subplots(figsize=(5,5))\n",
    "\n",
    "ax.scatter(data['release_date'], data['popularity'])\n"
   ]
  },
  {
   "cell_type": "code",
   "execution_count": 18,
   "metadata": {},
   "outputs": [],
   "source": [
    "#aggiunta la colonna anno di uscita\n",
    "#per evitare errori usare il .dt per estrarre info dalle date\n",
    "data[\"release_year\"]=data[\"release_date\"].dt.year\n"
   ]
  },
  {
   "cell_type": "code",
   "execution_count": 19,
   "metadata": {},
   "outputs": [
    {
     "name": "stdout",
     "output_type": "stream",
     "text": [
      "['Comedy', 'Drama', 'Action', 'Adventure', 'Family', 'Fantasy', 'Romance', 'History', 'Mystery', 'Horror', 'Thriller', 'Crime', 'War', 'Music', 'Western', 'Science Fiction', 'Animation', 'Documentary', 'Foreign', 'TV Movie']\n"
     ]
    }
   ],
   "source": [
    "# Si vuole sviluppare un algoritmo che, in base al genere del film che uscirà, preveda, grazie ai \"vicini\", quanto potrebbe\n",
    "# guadagnare al botteghino\n",
    "# utilizzo dell'algoritmo knn\n",
    "\n",
    "#out: lista di tutti i generi presenti nel DB\n",
    "out = []\n",
    "for lista_generi_per_film in data['genres']:\n",
    "    if not isinstance(lista_generi_per_film, float):\n",
    "        for genere in lista_generi_per_film:\n",
    "            if genere['name'] not in out:\n",
    "                out.append(genere['name'])\n",
    "            \n",
    "print(out)"
   ]
  },
  {
   "cell_type": "code",
   "execution_count": 20,
   "metadata": {
    "scrolled": true
   },
   "outputs": [
    {
     "data": {
      "text/plain": [
       "(1960.0, 2021.8)"
      ]
     },
     "execution_count": 20,
     "metadata": {},
     "output_type": "execute_result"
    },
    {
     "data": {
      "image/png": "[encoded data removed]",
      "text/plain": [
       "<Figure size 720x360 with 1 Axes>"
      ]
     },
     "metadata": {
      "needs_background": "light"
     },
     "output_type": "display_data"
    }
   ],
   "source": [
    "grupByMovies=data['runtime'].groupby(data[\"release_year\"]).describe()\n",
    "fig, x=plt.subplots(figsize=(10,5))\n",
    "x.plot(grupByMovies['mean'])\n",
    "x.set_xlabel(\"Year Release\", fontsize=10)\n",
    "x.set_ylabel(\"Runtime mean (minutes)\", fontsize=10)\n",
    "x.set_title('Duration of the films over the years', fontsize=20)\n",
    "\n",
    "#We made the x axis starting from 1960 in previous year there were way few film in order to have a decent graph\n",
    "x.set_xlim(1960)"
   ]
  },
  {
   "cell_type": "code",
   "execution_count": 21,
   "metadata": {},
   "outputs": [],
   "source": [
    "#Proviamo a usare l'algoritmo knn applicato su popularity, budget, runtime per predirre la revenue. \n",
    "#Visto che i valori hanno un range molto diverso bisogna prima normalizzarli portandoli in un range 0-1\n",
    "#Usiamo la formula (x-min(x))/(max(x)-min(x))"
   ]
  },
  {
   "cell_type": "code",
   "execution_count": 22,
   "metadata": {},
   "outputs": [
    {
     "data": {
      "text/plain": [
       "id                          0\n",
       "belongs_to_collection    2396\n",
       "budget                      0\n",
       "genres                      7\n",
       "imdb_id                     0\n",
       "original_language           0\n",
       "original_title              0\n",
       "overview                    8\n",
       "popularity                  0\n",
       "poster_path                 1\n",
       "production_companies      156\n",
       "production_countries       55\n",
       "release_date                0\n",
       "runtime                     2\n",
       "spoken_languages           20\n",
       "status                      0\n",
       "tagline                   597\n",
       "title                       0\n",
       "Keywords                  276\n",
       "cast                       13\n",
       "crew                       16\n",
       "revenue                     0\n",
       "release_year                0\n",
       "popularityNorm              0\n",
       "budgetNorm                  0\n",
       "runtimeNorm                 0\n",
       "dtype: int64"
      ]
     },
     "execution_count": 22,
     "metadata": {},
     "output_type": "execute_result"
    }
   ],
   "source": [
    "#creo un funzione che aggiunge una colonna al database con il campo normalizzato\n",
    "\n",
    "def normalizza(data, campo):\n",
    "    #data[campo+\"Norm\"]=(data[campo]-data[campo].min())/(max(data[campo])-min(data[campo]))\n",
    "    data[campo+\"Norm\"]=data[campo]\n",
    "    \n",
    "normalizza(data,\"popularity\")\n",
    "normalizza(data,\"budget\")\n",
    "normalizza(data,\"runtime\")\n",
    "\n",
    "#DA FIXARE: fillare valori nan con media al posto dello 0\n",
    "data.runtimeNorm=data.runtimeNorm.fillna(0)\n",
    "\n",
    "data.isna().sum()\n",
    "          "
   ]
  },
  {
   "cell_type": "code",
   "execution_count": 23,
   "metadata": {},
   "outputs": [
    {
     "name": "stdout",
     "output_type": "stream",
     "text": [
      "<class 'pandas.core.frame.DataFrame'>\n",
      "Int64Index: 3000 entries, 1763 to 2623\n",
      "Data columns (total 4 columns):\n",
      " #   Column          Non-Null Count  Dtype  \n",
      "---  ------          --------------  -----  \n",
      " 0   revenue         3000 non-null   int64  \n",
      " 1   popularityNorm  3000 non-null   float64\n",
      " 2   runtimeNorm     3000 non-null   float64\n",
      " 3   budgetNorm      3000 non-null   int64  \n",
      "dtypes: float64(2), int64(2)\n",
      "memory usage: 197.2 KB\n",
      "X shape (3000, 3)\n",
      "y shape (3000,)\n",
      "[2.50000000e+06 1.21388000e+06 1.00000000e+00 ... 4.22000000e+02\n",
      " 3.69907963e+08 9.00242920e+07]\n"
     ]
    }
   ],
   "source": [
    "data[\"runtimeNorm\"].fillna(0)\n",
    "data[ [\"revenue\",\"popularityNorm\", \"runtimeNorm\", \"budgetNorm\"]].info()\n",
    "dataset = data[ [\"revenue\",\"popularityNorm\", \"runtimeNorm\", \"budgetNorm\"]].astype(float).values\n",
    "\n",
    "\n",
    "X = dataset[:,1:]\n",
    "print(\"X shape\", X.shape)\n",
    "\n",
    "# get class label\n",
    "y = dataset[:,0]\n",
    "print(\"y shape\", y.shape)\n",
    "print (y)"
   ]
  },
  {
   "cell_type": "code",
   "execution_count": 24,
   "metadata": {},
   "outputs": [
    {
     "name": "stdout",
     "output_type": "stream",
     "text": [
      "predicted [2.38590000e+04 4.82980000e+04 1.00000000e+00 ... 4.22000000e+02\n",
      " 2.05366737e+08 9.00242920e+07]\n",
      "\n",
      "true [2.50000000e+06 1.21388000e+06 1.00000000e+00 ... 4.22000000e+02\n",
      " 3.69907963e+08 9.00242920e+07]\n",
      "\n",
      "Accuracy\n",
      "0.145\n"
     ]
    }
   ],
   "source": [
    "from sklearn import neighbors\n",
    "\n",
    "kNN = neighbors.KNeighborsClassifier(n_neighbors=7)\n",
    "kNN.fit(X,y)\n",
    "\n",
    "y_pred = kNN.predict(X)\n",
    "\n",
    "\n",
    "print (\"predicted\", y_pred)\n",
    "print()\n",
    "print (\"true\", y)\n",
    "print()\n",
    "\n",
    "\n",
    "from sklearn.metrics import accuracy_score\n",
    "\n",
    "# compute Accuracy\n",
    "print (\"Accuracy\")\n",
    "print ( accuracy_score(y_true=y, y_pred=y_pred) )"
   ]
  },
  {
   "cell_type": "code",
   "execution_count": 25,
   "metadata": {},
   "outputs": [],
   "source": [
    "# i = 0\n",
    "# count = 0\n",
    "# while i < len(y):\n",
    "#     if (y[i] - y_pred[i]) != 0:\n",
    "#         print(\"y = \", y[i], \" | y_pred = \", y_pred[i])\n",
    "#         count+=1\n",
    "#     i+=1\n",
    "#     \n",
    "# print(\"\\n\\n\\n\", count)"
   ]
  },
  {
   "cell_type": "code",
   "execution_count": 26,
   "metadata": {},
   "outputs": [],
   "source": [
    "## Proviamo a prevedere la revenue con linear regression\n",
    "\n",
    "# lingua inglese, mese dell'anno, budget, revenue, runtime, popolarità"
   ]
  },
  {
   "cell_type": "code",
   "execution_count": 27,
   "metadata": {},
   "outputs": [
    {
     "name": "stderr",
     "output_type": "stream",
     "text": [
      "<ipython-input-27-90d8cc42ae22>:7: SettingWithCopyWarning: \n",
      "A value is trying to be set on a copy of a slice from a DataFrame\n",
      "\n",
      "See the caveats in the documentation: https://pandas.pydata.org/pandas-docs/stable/user_guide/indexing.html#returning-a-view-versus-a-copy\n",
      "  data[\"lingua_inglese\"][i]=1\n",
      "<ipython-input-27-90d8cc42ae22>:9: SettingWithCopyWarning: \n",
      "A value is trying to be set on a copy of a slice from a DataFrame\n",
      "\n",
      "See the caveats in the documentation: https://pandas.pydata.org/pandas-docs/stable/user_guide/indexing.html#returning-a-view-versus-a-copy\n",
      "  data[\"lingua_inglese\"][i]=0\n"
     ]
    },
    {
     "data": {
      "text/plain": [
       "1763    1\n",
       "2992    1\n",
       "1917    1\n",
       "1361    0\n",
       "2680    1\n",
       "       ..\n",
       "2838    1\n",
       "1695    1\n",
       "1354    1\n",
       "1715    1\n",
       "2623    1\n",
       "Name: lingua_inglese, Length: 3000, dtype: int64"
      ]
     },
     "execution_count": 27,
     "metadata": {},
     "output_type": "execute_result"
    }
   ],
   "source": [
    "data[\"lingua_inglese\"] = 0\n",
    "\n",
    "i=0\n",
    "n_elem = data.shape[0]\n",
    "while i<n_elem:\n",
    "    if data[\"original_language\"][i]==\"en\":\n",
    "        data[\"lingua_inglese\"][i]=1\n",
    "    else:\n",
    "        data[\"lingua_inglese\"][i]=0\n",
    "    i+=1\n",
    "\n",
    "data[\"lingua_inglese\"]"
   ]
  },
  {
   "cell_type": "code",
   "execution_count": 28,
   "metadata": {},
   "outputs": [
    {
     "data": {
      "text/plain": [
       "1763     1\n",
       "2992     3\n",
       "1917     8\n",
       "1361    12\n",
       "2680     5\n",
       "        ..\n",
       "2838     6\n",
       "1695     6\n",
       "1354     6\n",
       "1715     7\n",
       "2623     7\n",
       "Name: release_month, Length: 3000, dtype: int64"
      ]
     },
     "execution_count": 28,
     "metadata": {},
     "output_type": "execute_result"
    }
   ],
   "source": [
    "data[\"release_month\"]=data[\"release_date\"].dt.month\n",
    "\n",
    "\n",
    "data[\"release_month\"]"
   ]
  },
  {
   "cell_type": "code",
   "execution_count": 29,
   "metadata": {},
   "outputs": [
    {
     "data": {
      "text/plain": [
       "1763     68.0\n",
       "2992    149.0\n",
       "1917    137.0\n",
       "1361     75.0\n",
       "2680     84.0\n",
       "        ...  \n",
       "2838     93.0\n",
       "1695    113.0\n",
       "1354     99.0\n",
       "1715    140.0\n",
       "2623    137.0\n",
       "Name: runtime, Length: 3000, dtype: float64"
      ]
     },
     "execution_count": 29,
     "metadata": {},
     "output_type": "execute_result"
    }
   ],
   "source": [
    "data[\"runtime\"].fillna(0)\n",
    "\n"
   ]
  },
  {
   "cell_type": "code",
   "execution_count": 30,
   "metadata": {},
   "outputs": [
    {
     "name": "stdout",
     "output_type": "stream",
     "text": [
      "1336\n",
      "2303\n",
      "Rooster Cogburn\n",
      "Papillon\n"
     ]
    },
    {
     "name": "stderr",
     "output_type": "stream",
     "text": [
      "<ipython-input-30-a15a5dde0333>:7: SettingWithCopyWarning: \n",
      "A value is trying to be set on a copy of a slice from a DataFrame\n",
      "\n",
      "See the caveats in the documentation: https://pandas.pydata.org/pandas-docs/stable/user_guide/indexing.html#returning-a-view-versus-a-copy\n",
      "  data[\"runtime\"][i]=0\n"
     ]
    },
    {
     "data": {
      "text/plain": [
       "id                          0\n",
       "belongs_to_collection    2396\n",
       "budget                      0\n",
       "genres                      7\n",
       "imdb_id                     0\n",
       "original_language           0\n",
       "original_title              0\n",
       "overview                    8\n",
       "popularity                  0\n",
       "poster_path                 1\n",
       "production_companies      156\n",
       "production_countries       55\n",
       "release_date                0\n",
       "runtime                     0\n",
       "spoken_languages           20\n",
       "status                      0\n",
       "tagline                   597\n",
       "title                       0\n",
       "Keywords                  276\n",
       "cast                       13\n",
       "crew                       16\n",
       "revenue                     0\n",
       "release_year                0\n",
       "popularityNorm              0\n",
       "budgetNorm                  0\n",
       "runtimeNorm                 0\n",
       "lingua_inglese              0\n",
       "release_month               0\n",
       "dtype: int64"
      ]
     },
     "execution_count": 30,
     "metadata": {},
     "output_type": "execute_result"
    }
   ],
   "source": [
    "import math\n",
    "\n",
    "i=0\n",
    "n_elem = data.shape[0]\n",
    "while i<n_elem:\n",
    "    if math.isnan(data[\"runtime\"][i]):\n",
    "        data[\"runtime\"][i]=0\n",
    "        print(data[\"id\"][i])\n",
    "    i+=1\n",
    "\n",
    "print(data[\"title\"][1336])\n",
    "print(data[\"title\"][2303])\n",
    "\n",
    "data.isna().sum()\n"
   ]
  },
  {
   "cell_type": "code",
   "execution_count": 31,
   "metadata": {},
   "outputs": [
    {
     "ename": "TypeError",
     "evalue": "Singleton array 523411673.57526284 cannot be considered a valid collection.",
     "output_type": "error",
     "traceback": [
      "\u001b[1;31m---------------------------------------------------------------------------\u001b[0m",
      "\u001b[1;31mTypeError\u001b[0m                                 Traceback (most recent call last)",
      "\u001b[1;32m<ipython-input-31-542b4feecdbf>\u001b[0m in \u001b[0;36m<module>\u001b[1;34m\u001b[0m\n\u001b[0;32m     23\u001b[0m \u001b[0max\u001b[0m\u001b[1;33m.\u001b[0m\u001b[0mlegend\u001b[0m\u001b[1;33m(\u001b[0m\u001b[1;33m)\u001b[0m\u001b[1;33m\u001b[0m\u001b[1;33m\u001b[0m\u001b[0m\n\u001b[0;32m     24\u001b[0m \u001b[1;33m\u001b[0m\u001b[0m\n\u001b[1;32m---> 25\u001b[1;33m print (\"Train Error: {:.3f}\".format( mean_squared_error(y_true = y_train, \n\u001b[0m\u001b[0;32m     26\u001b[0m                                           y_pred = y_pred[len(y_train)-1])) )\n",
      "\u001b[1;32m~\\anaconda3\\lib\\site-packages\\sklearn\\utils\\validation.py\u001b[0m in \u001b[0;36minner_f\u001b[1;34m(*args, **kwargs)\u001b[0m\n\u001b[0;32m     70\u001b[0m                           FutureWarning)\n\u001b[0;32m     71\u001b[0m         \u001b[0mkwargs\u001b[0m\u001b[1;33m.\u001b[0m\u001b[0mupdate\u001b[0m\u001b[1;33m(\u001b[0m\u001b[1;33m{\u001b[0m\u001b[0mk\u001b[0m\u001b[1;33m:\u001b[0m \u001b[0marg\u001b[0m \u001b[1;32mfor\u001b[0m \u001b[0mk\u001b[0m\u001b[1;33m,\u001b[0m \u001b[0marg\u001b[0m \u001b[1;32min\u001b[0m \u001b[0mzip\u001b[0m\u001b[1;33m(\u001b[0m\u001b[0msig\u001b[0m\u001b[1;33m.\u001b[0m\u001b[0mparameters\u001b[0m\u001b[1;33m,\u001b[0m \u001b[0margs\u001b[0m\u001b[1;33m)\u001b[0m\u001b[1;33m}\u001b[0m\u001b[1;33m)\u001b[0m\u001b[1;33m\u001b[0m\u001b[1;33m\u001b[0m\u001b[0m\n\u001b[1;32m---> 72\u001b[1;33m         \u001b[1;32mreturn\u001b[0m \u001b[0mf\u001b[0m\u001b[1;33m(\u001b[0m\u001b[1;33m**\u001b[0m\u001b[0mkwargs\u001b[0m\u001b[1;33m)\u001b[0m\u001b[1;33m\u001b[0m\u001b[1;33m\u001b[0m\u001b[0m\n\u001b[0m\u001b[0;32m     73\u001b[0m     \u001b[1;32mreturn\u001b[0m \u001b[0minner_f\u001b[0m\u001b[1;33m\u001b[0m\u001b[1;33m\u001b[0m\u001b[0m\n\u001b[0;32m     74\u001b[0m \u001b[1;33m\u001b[0m\u001b[0m\n",
      "\u001b[1;32m~\\anaconda3\\lib\\site-packages\\sklearn\\metrics\\_regression.py\u001b[0m in \u001b[0;36mmean_squared_error\u001b[1;34m(y_true, y_pred, sample_weight, multioutput, squared)\u001b[0m\n\u001b[0;32m    253\u001b[0m \u001b[1;33m\u001b[0m\u001b[0m\n\u001b[0;32m    254\u001b[0m     \"\"\"\n\u001b[1;32m--> 255\u001b[1;33m     y_type, y_true, y_pred, multioutput = _check_reg_targets(\n\u001b[0m\u001b[0;32m    256\u001b[0m         y_true, y_pred, multioutput)\n\u001b[0;32m    257\u001b[0m     \u001b[0mcheck_consistent_length\u001b[0m\u001b[1;33m(\u001b[0m\u001b[0my_true\u001b[0m\u001b[1;33m,\u001b[0m \u001b[0my_pred\u001b[0m\u001b[1;33m,\u001b[0m \u001b[0msample_weight\u001b[0m\u001b[1;33m)\u001b[0m\u001b[1;33m\u001b[0m\u001b[1;33m\u001b[0m\u001b[0m\n",
      "\u001b[1;32m~\\anaconda3\\lib\\site-packages\\sklearn\\metrics\\_regression.py\u001b[0m in \u001b[0;36m_check_reg_targets\u001b[1;34m(y_true, y_pred, multioutput, dtype)\u001b[0m\n\u001b[0;32m     82\u001b[0m \u001b[1;33m\u001b[0m\u001b[0m\n\u001b[0;32m     83\u001b[0m     \"\"\"\n\u001b[1;32m---> 84\u001b[1;33m     \u001b[0mcheck_consistent_length\u001b[0m\u001b[1;33m(\u001b[0m\u001b[0my_true\u001b[0m\u001b[1;33m,\u001b[0m \u001b[0my_pred\u001b[0m\u001b[1;33m)\u001b[0m\u001b[1;33m\u001b[0m\u001b[1;33m\u001b[0m\u001b[0m\n\u001b[0m\u001b[0;32m     85\u001b[0m     \u001b[0my_true\u001b[0m \u001b[1;33m=\u001b[0m \u001b[0mcheck_array\u001b[0m\u001b[1;33m(\u001b[0m\u001b[0my_true\u001b[0m\u001b[1;33m,\u001b[0m \u001b[0mensure_2d\u001b[0m\u001b[1;33m=\u001b[0m\u001b[1;32mFalse\u001b[0m\u001b[1;33m,\u001b[0m \u001b[0mdtype\u001b[0m\u001b[1;33m=\u001b[0m\u001b[0mdtype\u001b[0m\u001b[1;33m)\u001b[0m\u001b[1;33m\u001b[0m\u001b[1;33m\u001b[0m\u001b[0m\n\u001b[0;32m     86\u001b[0m     \u001b[0my_pred\u001b[0m \u001b[1;33m=\u001b[0m \u001b[0mcheck_array\u001b[0m\u001b[1;33m(\u001b[0m\u001b[0my_pred\u001b[0m\u001b[1;33m,\u001b[0m \u001b[0mensure_2d\u001b[0m\u001b[1;33m=\u001b[0m\u001b[1;32mFalse\u001b[0m\u001b[1;33m,\u001b[0m \u001b[0mdtype\u001b[0m\u001b[1;33m=\u001b[0m\u001b[0mdtype\u001b[0m\u001b[1;33m)\u001b[0m\u001b[1;33m\u001b[0m\u001b[1;33m\u001b[0m\u001b[0m\n",
      "\u001b[1;32m~\\anaconda3\\lib\\site-packages\\sklearn\\utils\\validation.py\u001b[0m in \u001b[0;36mcheck_consistent_length\u001b[1;34m(*arrays)\u001b[0m\n\u001b[0;32m    250\u001b[0m     \"\"\"\n\u001b[0;32m    251\u001b[0m \u001b[1;33m\u001b[0m\u001b[0m\n\u001b[1;32m--> 252\u001b[1;33m     \u001b[0mlengths\u001b[0m \u001b[1;33m=\u001b[0m \u001b[1;33m[\u001b[0m\u001b[0m_num_samples\u001b[0m\u001b[1;33m(\u001b[0m\u001b[0mX\u001b[0m\u001b[1;33m)\u001b[0m \u001b[1;32mfor\u001b[0m \u001b[0mX\u001b[0m \u001b[1;32min\u001b[0m \u001b[0marrays\u001b[0m \u001b[1;32mif\u001b[0m \u001b[0mX\u001b[0m \u001b[1;32mis\u001b[0m \u001b[1;32mnot\u001b[0m \u001b[1;32mNone\u001b[0m\u001b[1;33m]\u001b[0m\u001b[1;33m\u001b[0m\u001b[1;33m\u001b[0m\u001b[0m\n\u001b[0m\u001b[0;32m    253\u001b[0m     \u001b[0muniques\u001b[0m \u001b[1;33m=\u001b[0m \u001b[0mnp\u001b[0m\u001b[1;33m.\u001b[0m\u001b[0munique\u001b[0m\u001b[1;33m(\u001b[0m\u001b[0mlengths\u001b[0m\u001b[1;33m)\u001b[0m\u001b[1;33m\u001b[0m\u001b[1;33m\u001b[0m\u001b[0m\n\u001b[0;32m    254\u001b[0m     \u001b[1;32mif\u001b[0m \u001b[0mlen\u001b[0m\u001b[1;33m(\u001b[0m\u001b[0muniques\u001b[0m\u001b[1;33m)\u001b[0m \u001b[1;33m>\u001b[0m \u001b[1;36m1\u001b[0m\u001b[1;33m:\u001b[0m\u001b[1;33m\u001b[0m\u001b[1;33m\u001b[0m\u001b[0m\n",
      "\u001b[1;32m~\\anaconda3\\lib\\site-packages\\sklearn\\utils\\validation.py\u001b[0m in \u001b[0;36m<listcomp>\u001b[1;34m(.0)\u001b[0m\n\u001b[0;32m    250\u001b[0m     \"\"\"\n\u001b[0;32m    251\u001b[0m \u001b[1;33m\u001b[0m\u001b[0m\n\u001b[1;32m--> 252\u001b[1;33m     \u001b[0mlengths\u001b[0m \u001b[1;33m=\u001b[0m \u001b[1;33m[\u001b[0m\u001b[0m_num_samples\u001b[0m\u001b[1;33m(\u001b[0m\u001b[0mX\u001b[0m\u001b[1;33m)\u001b[0m \u001b[1;32mfor\u001b[0m \u001b[0mX\u001b[0m \u001b[1;32min\u001b[0m \u001b[0marrays\u001b[0m \u001b[1;32mif\u001b[0m \u001b[0mX\u001b[0m \u001b[1;32mis\u001b[0m \u001b[1;32mnot\u001b[0m \u001b[1;32mNone\u001b[0m\u001b[1;33m]\u001b[0m\u001b[1;33m\u001b[0m\u001b[1;33m\u001b[0m\u001b[0m\n\u001b[0m\u001b[0;32m    253\u001b[0m     \u001b[0muniques\u001b[0m \u001b[1;33m=\u001b[0m \u001b[0mnp\u001b[0m\u001b[1;33m.\u001b[0m\u001b[0munique\u001b[0m\u001b[1;33m(\u001b[0m\u001b[0mlengths\u001b[0m\u001b[1;33m)\u001b[0m\u001b[1;33m\u001b[0m\u001b[1;33m\u001b[0m\u001b[0m\n\u001b[0;32m    254\u001b[0m     \u001b[1;32mif\u001b[0m \u001b[0mlen\u001b[0m\u001b[1;33m(\u001b[0m\u001b[0muniques\u001b[0m\u001b[1;33m)\u001b[0m \u001b[1;33m>\u001b[0m \u001b[1;36m1\u001b[0m\u001b[1;33m:\u001b[0m\u001b[1;33m\u001b[0m\u001b[1;33m\u001b[0m\u001b[0m\n",
      "\u001b[1;32m~\\anaconda3\\lib\\site-packages\\sklearn\\utils\\validation.py\u001b[0m in \u001b[0;36m_num_samples\u001b[1;34m(x)\u001b[0m\n\u001b[0;32m    193\u001b[0m     \u001b[1;32mif\u001b[0m \u001b[0mhasattr\u001b[0m\u001b[1;33m(\u001b[0m\u001b[0mx\u001b[0m\u001b[1;33m,\u001b[0m \u001b[1;34m'shape'\u001b[0m\u001b[1;33m)\u001b[0m \u001b[1;32mand\u001b[0m \u001b[0mx\u001b[0m\u001b[1;33m.\u001b[0m\u001b[0mshape\u001b[0m \u001b[1;32mis\u001b[0m \u001b[1;32mnot\u001b[0m \u001b[1;32mNone\u001b[0m\u001b[1;33m:\u001b[0m\u001b[1;33m\u001b[0m\u001b[1;33m\u001b[0m\u001b[0m\n\u001b[0;32m    194\u001b[0m         \u001b[1;32mif\u001b[0m \u001b[0mlen\u001b[0m\u001b[1;33m(\u001b[0m\u001b[0mx\u001b[0m\u001b[1;33m.\u001b[0m\u001b[0mshape\u001b[0m\u001b[1;33m)\u001b[0m \u001b[1;33m==\u001b[0m \u001b[1;36m0\u001b[0m\u001b[1;33m:\u001b[0m\u001b[1;33m\u001b[0m\u001b[1;33m\u001b[0m\u001b[0m\n\u001b[1;32m--> 195\u001b[1;33m             raise TypeError(\"Singleton array %r cannot be considered\"\n\u001b[0m\u001b[0;32m    196\u001b[0m                             \" a valid collection.\" % x)\n\u001b[0;32m    197\u001b[0m         \u001b[1;31m# Check that shape is returning an integer or default to len\u001b[0m\u001b[1;33m\u001b[0m\u001b[1;33m\u001b[0m\u001b[1;33m\u001b[0m\u001b[0m\n",
      "\u001b[1;31mTypeError\u001b[0m: Singleton array 523411673.57526284 cannot be considered a valid collection."
     ]
    },
    {
     "data": {
      "image/png": "[encoded data removed]",
      "text/plain": [
       "<Figure size 504x360 with 1 Axes>"
      ]
     },
     "metadata": {
      "needs_background": "light"
     },
     "output_type": "display_data"
    }
   ],
   "source": [
    "# lingua inglese, mese dell'anno, budget, revenue, runtime, popolarità\n",
    "from sklearn.linear_model import LinearRegression \n",
    "from sklearn.metrics import mean_squared_error\n",
    "\n",
    "datasetLinear = data[[\"revenue\", \"budget\", \"runtime\", \"popularity\", \"release_month\", \"lingua_inglese\"]].astype(float).values\n",
    "\n",
    "X_train = dataset[:, 1:]\n",
    "y_train = dataset[:, 0]\n",
    "\n",
    "\n",
    "# train the model\n",
    "model = LinearRegression(fit_intercept=True)\n",
    "model.fit(X_train, y_train)\n",
    "\n",
    "y_pred = model.predict(X_train)\n",
    "\n",
    "fig, ax = plt.subplots(figsize=(7,5))\n",
    "ax.plot(X_train, y_train, 'o:', label='train')\n",
    "ax.plot(X, y_pred, '+:', label='predicted')\n",
    "ax.set_title(\"Bitcoin Exchange Rate\")\n",
    "ax.set_xlabel(\"days\")\n",
    "ax.set_ylabel(\"Normalized USD\")\n",
    "ax.legend()\n",
    "\n",
    "print (\"Train Error: {:.3f}\".format( mean_squared_error(y_true = y_train, \n",
    "                                          y_pred = y_pred[len(y_train)-1])) )"
   ]
  },
  {
   "cell_type": "code",
   "execution_count": 36,
   "metadata": {},
   "outputs": [
    {
     "name": "stdout",
     "output_type": "stream",
     "text": [
      "Rsquared Score for Linear Regression Model =  0.6146782261648642\n"
     ]
    }
   ],
   "source": [
    "from sklearn.linear_model import LinearRegression \n",
    "from sklearn.metrics import mean_squared_error\n",
    "\n",
    "datasetLinear = data[[\"revenue\", \"budget\", \"runtime\", \"popularity\", \"release_month\", \"lingua_inglese\"]].astype(float).values\n",
    "\n",
    "x_train = datasetLinear[:, 1:]\n",
    "y_train = datasetLinear[:, 0]\n",
    "\n",
    "lr = LinearRegression()\n",
    "lr.fit(x_train,y_train)\n",
    "print(\"Rsquared Score for Linear Regression Model = \", lr.score(x_train,y_train))"
   ]
  },
  {
   "cell_type": "code",
   "execution_count": null,
   "metadata": {},
   "outputs": [],
   "source": []
  }
 ],
 "metadata": {
  "kernelspec": {
   "display_name": "Python 3",
   "language": "python",
   "name": "python3"
  },
  "language_info": {
   "codemirror_mode": {
    "name": "ipython",
    "version": 3
   },
   "file_extension": ".py",
   "mimetype": "text/x-python",
   "name": "python",
   "nbconvert_exporter": "python",
   "pygments_lexer": "ipython3",
   "version": "3.8.5"
  }
 },
 "nbformat": 4,
 "nbformat_minor": 4
}
